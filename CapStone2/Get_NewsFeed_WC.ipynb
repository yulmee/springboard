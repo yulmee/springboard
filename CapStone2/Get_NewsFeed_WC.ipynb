{
 "cells": [
  {
   "cell_type": "markdown",
   "metadata": {},
   "source": [
    "#api key=651eabe0664340df81d18fbad70c9706\n",
    "\n",
    "https://newsapi.org/docs/get-started\n",
    "https://newsapi.org/docs/endpoints/everything"
   ]
  },
  {
   "cell_type": "code",
   "execution_count": 117,
   "metadata": {},
   "outputs": [],
   "source": [
    "import requests\n",
    "\n",
    "url = ('https://newsapi.org/v2/everything?'\n",
    "       'q=+\"Wells Fargo\" AND +CEO&'\n",
    "       'from=2019-10-03T00:00:00&'\n",
    "       'to=2019-10-03T23:59:59&'\n",
    "       'sortBy=publishedAt&'\n",
    "       'pageSize=100&'\n",
    "       'apiKey=651eabe0664340df81d18fbad70c9706')"
   ]
  },
  {
   "cell_type": "code",
   "execution_count": 118,
   "metadata": {},
   "outputs": [],
   "source": [
    "response = requests.get(url)"
   ]
  },
  {
   "cell_type": "code",
   "execution_count": 119,
   "metadata": {},
   "outputs": [
    {
     "name": "stdout",
     "output_type": "stream",
     "text": [
      "{'status': 'ok', 'totalResults': 31, 'articles': [{'source': {'id': None, 'name': 'Yahoo.com'}, 'author': None, 'title': 'Edited Transcript of AYI earnings conference call or presentation 2-Oct-19 2:00pm GMT', 'description': 'Q4 2019 Acuity Brands Inc Earnings Call', 'url': 'https://finance.yahoo.com/news/edited-transcript-ayi-earnings-conference-120024347.html', 'urlToImage': 'https://s.yimg.com/cv/apiv2/social/images/yahoo_default_logo.png', 'publishedAt': '2019-10-03T20:49:11Z', 'content': 'ATLANTA Oct 3, 2019 (Thomson StreetEvents) -- Edited Transcript of Acuity Brands Inc earnings conference call or presentation Wednesday, October 2, 2019 at 2:00:00pm GMT==========================================================================================… [+68398 chars]'}, {'source': {'id': None, 'name': 'Variety.com'}, 'author': 'Alex Stedman', 'title': 'Overwatch League’s Grand Finals Grows 16% in Average Viewers From Last Year', 'description': 'Activision Blizzard released the viewership numbers on Overwatch League’s season capstone event, the 2019 Grand Finals, on Thursday, showing an increase on its inaugural season. The league uses average minute viewers (AMA) in its measurements, which counts vi…', 'url': 'https://variety.com/2019/digital/news/overwatch-league-grand-finals-viewership-2019-1203357584/', 'urlToImage': 'https://pmcvariety.files.wordpress.com/2019/10/overwatch-league-grand-finals.jpg?w=700&h=393&crop=1', 'publishedAt': '2019-10-03T19:19:36Z', 'content': 'Activision Blizzard released the viewership numbers on Overwatch League’s season capstone event, the 2019 Grand Finals, on Thursday, showing an increase on its inaugural season.\\r\\nThe league uses average minute viewers (AMA) in its measurements, which counts v… [+1892 chars]'}, {'source': {'id': None, 'name': 'Yahoo.com'}, 'author': 'Variety', 'title': 'Overwatch League’s Grand Finals Grows 16% in Average Viewers From Last Year', 'description': \"UPDATED: Activision Blizzard released the viewership numbers on Overwatch League's season capstone event, the 2019 Grand Finals, on Thursday, showing an increase on its inaugural season. The league uses average minute audience (AMA) in its measurements, which…\", 'url': 'https://ca.news.yahoo.com/overwatch-league-grand-finals-grows-191936307.html', 'urlToImage': 'https://s.yimg.com/uu/api/res/1.2/.X8vlPEKYXItZ45aaGRLWg--~B/aD01NjI7dz0xMDAwO3NtPTE7YXBwaWQ9eXRhY2h5b24-/https://media.zenfs.com/en/variety.com/1468734eae1dec4cc41137d29960cbe1', 'publishedAt': '2019-10-03T19:19:36Z', 'content': 'Click here to read the full article. \\r\\nUPDATED: Activision Blizzard released the viewership numbers on Overwatch Leagues season capstone event, the 2019 Grand Finals, on Thursday, showing an increase on its inaugural season.\\r\\nThe league uses average minute au… [+2295 chars]'}, {'source': {'id': None, 'name': 'Seekingalpha.com'}, 'author': 'Blue Sky Capital', 'title': 'Bank Of America: 10-12% Annual Return On Long-Term U.S. Growth', 'description': 'We like large U.S. banks, because they are natural “GDP+” businesses whose earnings grow ahead of GDP over time. Bank of America is a good example, having demon', 'url': 'https://seekingalpha.com/article/4294868-bank-america-10minus-12-percent-annual-return-long-term-u-s-growth', 'urlToImage': 'https://static.seekingalpha.com/uploads/2019/10/3/589751-15701051008479652.png', 'publishedAt': '2019-10-03T18:36:22Z', 'content': 'Introduction\\r\\nLarge U.S. banks are natural GDP+ businesses whose earnings grow ahead of GDP over time, thanks to revenues that grow in line or ahead of GDP, economies of scale, technology-driven efficiencies and a consolidated competitive landscape. We are no… [+12159 chars]'}, {'source': {'id': None, 'name': 'Yahoo.com'}, 'author': None, 'title': 'Edited Transcript of PFG earnings conference call or presentation 26-Jul-19 2:00pm GMT', 'description': 'Q2 2019 Principal Financial Group Inc Earnings Call', 'url': 'https://finance.yahoo.com/news/edited-transcript-pfg-earnings-conference-195950664.html', 'urlToImage': 'https://s.yimg.com/cv/apiv2/social/images/yahoo_default_logo.png', 'publishedAt': '2019-10-03T18:28:08Z', 'content': 'DES MOINES Oct 3, 2019 (Thomson StreetEvents) -- Edited Transcript of Principal Financial Group Inc earnings conference call or presentation Friday, July 26, 2019 at 2:00:00pm GMT================================================================================… [+72461 chars]'}, {'source': {'id': None, 'name': 'Businesswire.com'}, 'author': None, 'title': 'Snowden Lane Partners and Kestrel Capital Announce Strategic Alliance', 'description': 'NEW YORK--(BUSINESS WIRE)--Snowden Lane Partners, an independent, advisor-owned, wealth advisory firm dedicated to providing client-focused advice in a values-driven culture, today announced a strategic cooperation alliance with Dublin, Ireland based Kestrel …', 'url': 'https://www.businesswire.com/news/home/20191003005027/en/Snowden-Lane-Partners-Kestrel-Capital-Announce-Strategic', 'urlToImage': 'https://mms.businesswire.com/media/20191003005027/en/423929/21/Snowden_Lane_logo.jpg', 'publishedAt': '2019-10-03T18:08:24Z', 'content': 'NEW YORK--(BUSINESS WIRE)--Snowden Lane Partners, an independent, advisor-owned, wealth advisory firm dedicated to providing client-focused advice in a values-driven culture, today announced a strategic cooperation alliance with Dublin, Ireland based Kestrel … [+4903 chars]'}, {'source': {'id': None, 'name': 'Therealdeal.com'}, 'author': 'Kevin Rebong', 'title': 'WeWork’s landlords buckle up', 'description': 'For New York City landlords needing a quick fix to fill empty office space, WeWork has been a go-to tenant for years. Now, with the office-space company in turmoil, those property owners suddenly feel a lot less secure. Some are turning to WeWork competitors …', 'url': 'https://therealdeal.com/issues_articles/weworks-landlords-buckle-up/', 'urlToImage': 'https://therealdeal.com/wp-content/uploads/2019/10/WeWork-Bill-Rudin.jpg', 'publishedAt': '2019-10-03T18:00:46Z', 'content': 'Bill Rudin and Dock 72\\r\\nFor New York City landlords needing a quick fix to fill empty office space, WeWork has been a go-to tenant for years.\\r\\nNow, with the office-space company in turmoil, those property owners suddenly feel a lot less secure. Some are turni… [+8492 chars]'}, {'source': {'id': None, 'name': 'Seekingalpha.com'}, 'author': 'SA Transcripts', 'title': 'PepsiCo, Inc. (PEP) CEO Ramon Laguarta on Q3 2019 Results - Earnings Call Transcript', 'description': 'PepsiCo, Inc. (NASDAQ:PEP) Q3 2019 Earnings Conference Call October 3, 2019 7:45 A.M. ET Company Participants Ravi Pamnani - Senior Vice President of Investor R', 'url': 'https://seekingalpha.com/article/4294866-pepsico-inc-pep-ceo-ramon-laguarta-q3-2019-results-earnings-call-transcript', 'urlToImage': 'https://static3.seekingalpha.com/assets/og_image_192-59bfd51c9fe6af025b2f9f96c807e46f8e2f06c5ae787b15bf1423e6c676d4db.png', 'publishedAt': '2019-10-03T17:56:22Z', 'content': 'PepsiCo, Inc. (NASDAQ:PEP) Q3 2019 Earnings Conference Call October 3, 2019 7:45 AM ET\\r\\nCompany Participants\\r\\nRavi Pamnani - Senior Vice President of Investor Relations\\r\\nRamon Laguarta - Chairman and Chief Executive Officer\\r\\nHugh Johnston - Vice Chairman and … [+43697 chars]'}, {'source': {'id': None, 'name': 'Yahoo.com'}, 'author': None, 'title': 'Analysts Splash Water On Six Flags, Cedar Fair Theme Park Merger Idea', 'description': 'Investors in two\\xa0large American theme park operators may be in for an interesting ride.  Reuters said Wednesday that Six Flags is seeking the merger in a bid to expand its size and ticket pricing power, though with the\\xa0caveat that there’s no certainty the cas…', 'url': 'https://finance.yahoo.com/news/analysts-splash-water-six-flags-174141560.html', 'urlToImage': 'https://s.yimg.com/cv/apiv2/social/images/yahoo_default_logo.png', 'publishedAt': '2019-10-03T17:41:41Z', 'content': 'Investors in two\\xa0large American theme park operators may be in for an interesting ride.\\r\\nSell-side analysts are expressing doubts about the wisdom of a reported effort by Six Flags Entertainment Corp (NYSE: SIX) to seek a merger with Cedar Fair, L.P (NYSE: FU… [+2374 chars]'}, {'source': {'id': None, 'name': 'Yahoo.com'}, 'author': 'Kelly Tyko, USA TODAY', 'title': 'Top companies offer perks like free gym memberships, meals and unlimited paid time off', 'description': 'Free gym memberships, 100% paid health care and unlimited PTO are among perks and benefits given at the businesses topping this Comparably list.', 'url': 'https://news.yahoo.com/top-companies-offer-perks-free-130003173.html', 'urlToImage': 'https://s.yimg.com/cv/apiv2/social/images/yahoo_default_logo-1200x1200.png', 'publishedAt': '2019-10-03T16:29:24Z', 'content': \"The perks and benefits at some of the nation's top companies go beyond\\xa0your everyday benefits like a 401(k) and dental insurance.\\r\\nUnlimited paid time off, 100% paid health care, child care, catered meals, free gym memberships and massages are commonplace at … [+5707 chars]\"}, {'source': {'id': None, 'name': 'Retaildive.com'}, 'author': 'Caroline Jansen', 'title': 'Bed Bath & Beyond raises expected closures to 60', 'description': 'The closures will include shuttering 40 of its namesake stores and 20 from its other banners.', 'url': 'https://www.retaildive.com/news/bed-bath-beyond-raises-expected-closures-to-60/564281/', 'urlToImage': 'https://www.retaildive.com/user_media/cache/33/ea/33eaeed8c901d95ac2dcaabeb91db99b.jpg', 'publishedAt': '2019-10-03T15:22:00Z', 'content': 'Dive Brief:\\r\\n<ul><li>Bed Bath &amp; Beyond interim CEO Mary Winston told analysts\\xa0on Wednesday that the company expects to shutter 60 stores by the end of the fiscal year. This is an increase from the 40 stores it initially said it intended to close.\\r\\n</li><l… [+2702 chars]'}, {'source': {'id': None, 'name': 'Voanews.com'}, 'author': None, 'title': \"Warren Turns Corporate Criticism Into Bona Fides in '20 Race\", 'description': 'Facebook\\'s CEO said his company is ready to \"go to the mat\" to stop Elizabeth Warren from breaking up tech giants. Amazon accused her of getting facts wrong. And some Democratic donors with ties to Wall Street have quietly said they\\'ll sit out the election or…', 'url': 'https://www.voanews.com/usa/warren-turns-corporate-criticism-bona-fides-20-race', 'urlToImage': 'https://media.voltron.voanews.com/Drupal/01live-166/ap-images/2019/09/c9d93aea7ab6d926272d5ec5260a7b78.jpg', 'publishedAt': '2019-10-03T14:58:49Z', 'content': 'WASHINGTON - Facebook\\'s CEO said his company is ready to \"go to the mat\" to stop Elizabeth Warren from breaking up tech giants. Amazon accused her of getting facts wrong. And some Democratic donors with ties to Wall Street have quietly said they\\'ll sit out th… [+6931 chars]'}, {'source': {'id': None, 'name': 'Marketwatch.com'}, 'author': 'Ciara Linnane', 'title': 'Corona beer parent stock slides 7% as cannabis investment weighs on earnings', 'description': 'Constellation Brands Inc. stock fell 7% Thursday to lead S&P 500 decliners, after the distributor of Corona beer swung to a big loss in its fiscal second quarter as it booked charges related to an investment in a Canadian cannabis company.', 'url': 'https://www.marketwatch.com/story/corona-beer-parent-stock-slides-7-as-cannabis-investment-weighs-on-earnings-2019-10-03', 'urlToImage': 'http://s.marketwatch.com/public/resources/MWimages/MW-HS583_Conste_ZG_20191003103518.jpg', 'publishedAt': '2019-10-03T14:42:29Z', 'content': 'Constellation Brands Inc. stock fell 7% Thursday to lead S&amp;P 500 decliners, after the distributor of Corona beer swung to a big loss in its fiscal second quarter as it booked charges related to an investment in a Canadian cannabis company.\\r\\nVictor, New Yo… [+4635 chars]'}, {'source': {'id': 'business-insider', 'name': 'Business Insider'}, 'author': 'Rachel Green', 'title': 'Wells Fargo projects up to 10% of banking jobs to be cut in the next decade', 'description': 'This story was delivered to Business Insider Intelligence Banking subscribers earlier this morning. To receive the full story plus other insights each morning, click here. Advancements in technology will lead the banking industry to see a massive reduction in…', 'url': 'https://www.businessinsider.com/wells-fargo-predicts-tech-advancements-will-impact-employee-trajectory-2019-10', 'urlToImage': 'https://image.businessinsider.com/5b2d4f0b1ae6621e008b57e6?width=1200&format=jpeg', 'publishedAt': '2019-10-03T14:34:06Z', 'content': \"Advancements in technology will lead the banking industry to see a massive reduction in headcount over the next decade, with a projected 200,000 jobs cut, according to Wells Fargo estimates cited by\\xa0Bloomberg. Wells Fargo's 225-page report outlines how techno… [+3363 chars]\"}, {'source': {'id': None, 'name': 'Barrons.com'}, 'author': 'Teresa Rivas', 'title': \"Schwab and Other Online Brokerage Stocks Keep Getting Hammered - Barron's\", 'description': \"Schwab and Other Online Brokerage Stocks Keep Getting Hammered Barron's The downside to Charles Schwab and TD Ameritrade eliminating trading fees (yes, really) MarketWatch RIA Reaction to Zero Commissions: Smiles, Skepticism Barron's Schwab’s Next Target? You…\", 'url': 'https://www.barrons.com/articles/schwab-and-other-online-brokerage-stocks-keep-getting-hammered-51570113189', 'urlToImage': 'https://images.barrons.com/im-82862/social', 'publishedAt': '2019-10-03T14:33:00Z', 'content': 'When is zero a negative? When the elimination of trading commissions clips the earnings potential of online brokerages.Thats been the cloud hanging over \\r\\n Charles Schwab\\r\\n (ticker: SCHW), \\r\\n E*Trade Financial\\r\\n (ETFC), and \\r\\n TD Ameritrade\\r\\n (AMTD) in recent… [+2344 chars]'}, {'source': {'id': None, 'name': 'Businesswire.com'}, 'author': None, 'title': 'Wells Fargo Foundation and NFWF Grants Help Communities Prepare for Natural Disasters', 'description': 'SAN FRANCISCO--(BUSINESS WIRE)--The Wells Fargo Foundation and the National Fish and Wildlife Foundation today announced $2.9 million in grants to 11 nonprofit organizations and tribes across the U.S. to help communities address the mounting threats of floodi…', 'url': 'https://www.businesswire.com/news/home/20191003005225/en/Wells-Fargo-Foundation-NFWF-Grants-Communities-Prepare', 'urlToImage': 'http://www.businesswire.com/images/bwlogo_square.png', 'publishedAt': '2019-10-03T13:25:03Z', 'content': 'SAN FRANCISCO--(BUSINESS WIRE)--The Wells Fargo Foundation and the National Fish and Wildlife Foundation today announced $2.9 million in grants to 11 nonprofit organizations and tribes across the U.S. to help communities address the mounting threats of floodi… [+7088 chars]'}, {'source': {'id': 'usa-today', 'name': 'USA Today'}, 'author': 'USA TODAY, Kelly Tyko, USA TODAY', 'title': 'Top companies offer perks like free gym memberships, meals and unlimited paid time off', 'description': 'Free gym memberships, 100% paid health care and unlimited PTO are among perks and benefits given at the businesses topping this Comparably list.', 'url': 'https://www.usatoday.com/story/money/careers/2019/10/03/top-companies-perks-microsoft-facebook-google-top-comparably-list/3838377002/?utm_source=google&utm_medium=amp&utm_campaign=speakable', 'urlToImage': 'https://www.gannett-cdn.com/-mm-/dbf0bda8d110f91c8a384074221d2db6e0763a79/c=0-54-5237-3000/local/-/media/2019/10/02/USATODAY/usatsports/MotleyFool-TMOT-e0c1badf-microsoft-msft.jpg?width=3200&height=1680&fit=crop', 'publishedAt': '2019-10-03T13:00:03Z', 'content': \"Turn the tables on your interview and ask these brilliant questions to get a better sense of the company. Buzz60s Sean Dowling has more.\\r\\n Buzz60\\r\\nThe perks and benefits at some of the nation's top companies go beyond\\xa0your everyday benefits like a 401(k) and … [+6342 chars]\"}, {'source': {'id': 'cnbc', 'name': 'CNBC'}, 'author': 'Michael Bloom', 'title': 'Here are the biggest analyst calls of the day: Tesla, Alphabet, United Technologies & more', 'description': 'Here are the biggest calls on Wall Street on Thursday', 'url': 'https://www.cnbc.com/2019/10/03/analyst-calls-of-the-day-tesla-alphabet-united-technologies-more.html', 'urlToImage': 'https://image.cnbcfm.com/api/v1/image/105997479-1562000109270gettyimages-173277243.jpeg?v=1570096049', 'publishedAt': '2019-10-03T12:28:00Z', 'content': \"Elon Musk, co-founder and chief executive officer of Tesla Motors Inc., speaks during an interview at the company's assembly plant in Fremont, California, U.S., on Wednesday, July 10, 2013.\\r\\nHere are the biggest calls on Wall Street on Thursday:\\r\\nDeutsche Ban… [+3892 chars]\"}, {'source': {'id': 'fortune', 'name': 'Fortune'}, 'author': 'Alan Murray', 'title': 'Jamie Dimon May Be the New Jack Welch: CEO Daily', 'description': 'Must-read business news, delivered every morning.', 'url': 'https://fortune.com/2019/10/03/jamie-dimon-may-be-the-new-jack-welch-ceo-daily/', 'urlToImage': 'https://content.fortune.com/wp-content/uploads/2019/08/GettyImages-1142157520.jpg?resize=1200,600', 'publishedAt': '2019-10-03T11:21:20Z', 'content': 'Good morning.\\r\\nIm a day late on this, but I recommend Shawn Tullys piece on new Wells Fargo CEO Charlie Scharf. Scharf spent 25 years as a mentee of JP Morgan CEO Jamie Dimon, and as Tully reports, once called him the best leader Ive ever seen. The promotion … [+5404 chars]'}, {'source': {'id': None, 'name': 'Seekingalpha.com'}, 'author': 'SA Transcripts', 'title': 'Lennar Corporation (LEN) CEO Rick Beckwitt on Q3 2019 Results - Earnings Call Transcript', 'description': 'Lennar Corporation (NYSE:LEN) Q3 2019 Earnings Conference Call October 2, 2019 11:00 A.M. ET Company Participants David Collins - Controller Stuart Miller - Exe', 'url': 'https://seekingalpha.com/article/4294732-lennar-corporation-len-ceo-rick-beckwitt-q3-2019-results-earnings-call-transcript', 'urlToImage': 'https://static3.seekingalpha.com/assets/og_image_192-59bfd51c9fe6af025b2f9f96c807e46f8e2f06c5ae787b15bf1423e6c676d4db.png', 'publishedAt': '2019-10-03T07:11:27Z', 'content': 'Lennar Corporation (NYSE:LEN) Q3 2019 Earnings Conference Call October 2, 2019 11:00 AM ET\\r\\nCompany Participants\\r\\nDavid Collins - Controller\\r\\nStuart Miller - Executive Chairman\\r\\nRick Beckwitt - Chief Executive Officer\\r\\nJon Jaffe - President\\r\\nDiane Bessette - … [+54026 chars]'}, {'source': {'id': None, 'name': 'Seekingalpha.com'}, 'author': 'SA Transcripts', 'title': 'Lennar Corporation (LEN) CEO Rick Beckwitt on Q3 2019 Results - Earnings Call Transcript', 'description': 'Lennar Corporation (NYSE:LEN) Q3 2019 Earnings Conference Call October 2, 2019 11:00 A.M. ET Company Participants David Collins - Controller Stuart Miller - Exe', 'url': 'https://seekingalpha.com/article/4294732-lennar-corporation-len-ceo-rick-beckwitt-q3-2019-results-earnings-call-transcript', 'urlToImage': 'https://static3.seekingalpha.com/assets/og_image_192-59bfd51c9fe6af025b2f9f96c807e46f8e2f06c5ae787b15bf1423e6c676d4db.png', 'publishedAt': '2019-10-03T07:11:27Z', 'content': 'Lennar Corporation (NYSE:LEN) Q3 2019 Earnings Conference Call October 2, 2019 11:00 AM ET\\r\\nCompany Participants\\r\\nDavid Collins - Controller\\r\\nStuart Miller - Executive Chairman\\r\\nRick Beckwitt - Chief Executive Officer\\r\\nJon Jaffe - President\\r\\nDiane Bessette - … [+54026 chars]'}, {'source': {'id': None, 'name': 'Yahoo.com'}, 'author': None, 'title': 'Edited Transcript of BBBY earnings conference call or presentation 2-Oct-19 9:00pm GMT', 'description': 'Q2 2019 Bed Bath & Beyond Inc Earnings Call', 'url': 'https://finance.yahoo.com/news/edited-transcript-bbby-earnings-conference-052405862.html', 'urlToImage': 'https://s.yimg.com/cv/apiv2/social/images/yahoo_default_logo.png', 'publishedAt': '2019-10-03T05:24:05Z', 'content': 'UNION Oct 3, 2019 (Thomson StreetEvents) -- Edited Transcript of Bed Bath &amp; Beyond Inc earnings conference call or presentation Wednesday, October 2, 2019 at 9:00:00pm GMT====================================================================================… [+72510 chars]'}, {'source': {'id': None, 'name': 'Seattlepi.com'}, 'author': 'By WILL WEISSERT, Associated Press', 'title': 'Warren turns corporate criticism into bona fides in ’20 race', 'description': 'WASHINGTON (AP) - Facebook\\'s CEO said his company is ready to \"go to the mat\" to stop Elizabeth Warren from breaking up tech giants. Amazon accused her of getting facts wrong. And some Democratic donors with ties to Wall Street have quietly said they\\'ll sit o…', 'url': 'https://www.seattlepi.com/news/article/Warren-turns-corporate-criticism-into-bona-fides-14487999.php', 'urlToImage': 'https://s.hdnux.com/photos/01/06/04/71/18370164/17/rawImage.jpg', 'publishedAt': '2019-10-03T04:52:31Z', 'content': '<ul><li>Democratic presidential candidate Sen. Elizabeth Warren, D-Mass., speaks during a gun safety forum Wednesday, Oct. 2, 2019, in Las Vegas.\\r\\nDemocratic presidential candidate Sen. Elizabeth Warren, D-Mass., speaks during a gun safety forum Wednesday, Oc… [+6986 chars]'}, {'source': {'id': None, 'name': 'Startribune.com'}, 'author': 'WILL WEISSERT', 'title': \"Warren turns corporate criticism into bona fides in '20 race\", 'description': 'Facebook\\'s CEO said his company is ready to \"go to the mat\" to stop Elizabeth Warren from breaking up tech giants. Amazon accused her of getting facts wrong. And some Democratic donors with ties to Wall Street have quietly said they\\'ll sit out the election or…', 'url': 'http://www.startribune.com/warren-turns-corporate-criticism-into-bona-fides-in-20-race/562038122/', 'urlToImage': 'http://assets.startribune.com/static/img/branding/logos/strib-social-card.png?d=1569869520', 'publishedAt': '2019-10-03T04:45:17Z', 'content': 'WASHINGTON Facebook\\'s CEO said his company is ready to \"go to the mat\" to stop Elizabeth Warren from breaking up tech giants. Amazon accused her of getting facts wrong. And some Democratic donors with ties to Wall Street have quietly said they\\'ll sit out the … [+6173 chars]'}, {'source': {'id': 'abc-news', 'name': 'ABC News'}, 'author': 'The Associated Press', 'title': 'Warren turns corporate criticism into bona fides in ’20 race', 'description': 'Elizabeth Warren is embracing her high-profile corporate enemies, betting they will reinforce her image as an anti-corruption crusader who will fight for Americans', 'url': 'https://abcnews.go.com/Business/wireStory/warren-turns-corporate-criticism-bona-fides-20-race-66024206', 'urlToImage': 'https://s.abcnews.com/images/Politics/WireAP_db04061f4a6349dcaec81a52cc675211_16x9_992.jpg', 'publishedAt': '2019-10-03T04:41:58Z', 'content': 'Facebooks CEO said his company is ready to go to the mat to stop Elizabeth Warren from breaking up tech giants. Amazon accused her of getting facts wrong. And some Democratic donors with ties to Wall Street have quietly said theyll sit out the election or vot… [+6206 chars]'}, {'source': {'id': 'abc-news', 'name': 'ABC News'}, 'author': 'The Associated Press', 'title': 'Warren turns corporate criticism into bona fides in ’20 race', 'description': 'Elizabeth Warren is embracing her high-profile corporate enemies, betting they will reinforce her image as an anti-corruption crusader who will fight for Americans', 'url': 'https://abcnews.go.com/Business/wireStory/warren-turns-corporate-criticism-bona-fides-20-race-66024204', 'urlToImage': 'https://s.abcnews.com/images/Politics/WireAP_db04061f4a6349dcaec81a52cc675211_16x9_992.jpg', 'publishedAt': '2019-10-03T04:41:40Z', 'content': 'Facebooks CEO said his company is ready to go to the mat to stop Elizabeth Warren from breaking up tech giants. Amazon accused her of getting facts wrong. And some Democratic donors with ties to Wall Street have quietly said theyll sit out the election or vot… [+6206 chars]'}, {'source': {'id': None, 'name': 'Thestar.com'}, 'author': 'Will Weissert - The Associated Press', 'title': 'Warren turns corporate criticism into bona fides in ’20 race', 'description': 'WASHINGTON - Facebook’s CEO said his company is ready to “go to the mat” to stop Elizabeth Warren from breaking up tech giants. Amazon accused her of getting facts wrong. And some Democratic donors with ties to Wall Street have quietly said they’ll sit out th…', 'url': 'https://www.thestar.com/news/world/us/2019/10/03/warren-turns-corporate-criticism-into-bona-fides-in-20-race.html', 'urlToImage': 'https://images.thestar.com/ZoLQWcJjTV1pHZerI-K55-BbKMk=/1280x1024/smart/filters:cb(1570077642404)/https://www.thestar.com/content/dam/thestar/news/world/us/2019/10/03/warren-turns-corporate-criticism-into-bona-fides-in-20-race/NVJL119-102_2019_135506.jpg', 'publishedAt': '2019-10-03T04:38:44Z', 'content': 'WASHINGTON - Facebooks CEO said his company is ready to go to the mat to stop Elizabeth Warren from breaking up tech giants. Amazon accused her of getting facts wrong. And some Democratic donors with ties to Wall Street have quietly said theyll sit out the el… [+6431 chars]'}, {'source': {'id': 'associated-press', 'name': 'Associated Press'}, 'author': 'By WILL WEISSERT Associated Press', 'title': 'Warren turns corporate criticism into bona fides in ’20 race', 'description': 'WASHINGTON (AP) — Facebook’s CEO said his company is ready to “go to the mat” to stop Elizabeth Warren from breaking up tech giants. Amazon accused her of getting facts wrong. And some Democratic donors with ties to Wall Street…', 'url': 'https://apnews.com/7beba97df6c34881b5616d6c8e758726', 'urlToImage': 'https://bloximages.newyork1.vip.townnews.com/roanoke.com/content/tncms/assets/v3/editorial/8/70/8706c2a1-b957-51c5-8547-c1552b9583b5/5d957d738bc55.image.jpg?crop=1714%2C964%2C0%2C122&resize=1120%2C630&order=crop%2Cresize', 'publishedAt': '2019-10-03T04:37:52Z', 'content': 'WASHINGTON (AP) Facebooks CEO said his company is ready to go to the mat to stop Elizabeth Warren from breaking up tech giants. Amazon accused her of getting facts wrong. And some Democratic donors with ties to Wall Street have quietly said theyll sit out the… [+6356 chars]'}, {'source': {'id': None, 'name': 'Seattletimes.com'}, 'author': 'WILL WEISSERT', 'title': 'Warren turns corporate criticism into bona fides in ’20 race', 'description': 'WASHINGTON (AP) — Facebook’s CEO said his company is ready to “go to the mat” to stop Elizabeth Warren from breaking up tech giants. Amazon accused her of getting facts wrong. And some Democratic donors with ties to Wall Street have quietly said they’ll sit o…', 'url': 'https://www.seattletimes.com/business/warren-turns-corporate-criticism-into-bona-fides-in-20-race/', 'urlToImage': 'https://static.seattletimes.com/wp-content/uploads/2019/10/urn-publicid-ap-org-7beba97df6c34881b5616d6c8e758726Election_2020_Guns_79501-1200x630.jpg', 'publishedAt': '2019-10-03T04:34:17Z', 'content': 'WASHINGTON (AP) Facebooks CEO said his company is ready to go to the mat to stop Elizabeth Warren from breaking up tech giants. Amazon accused her of getting facts wrong. And some Democratic donors with ties to Wall Street have quietly said theyll sit out the… [+6237 chars]'}, {'source': {'id': None, 'name': 'Seekingalpha.com'}, 'author': 'SA Transcripts', 'title': 'Bed Bath & Beyond Inc. (BBBY) CEO Mary Winston on Q2 2019 Results - Earnings Call Transcript', 'description': 'Bed Bath &amp; Beyond Inc. (NASDAQ:BBBY) Q2 2019 Earnings Conference Call October 2, 2019 05:00 p.m. ET Company Representatives Mary Winston - Interim Chief Exe', 'url': 'https://seekingalpha.com/article/4294714-bed-bath-and-beyond-inc-bbby-ceo-mary-winston-q2-2019-results-earnings-call-transcript', 'urlToImage': 'https://static3.seekingalpha.com/assets/og_image_192-59bfd51c9fe6af025b2f9f96c807e46f8e2f06c5ae787b15bf1423e6c676d4db.png', 'publishedAt': '2019-10-03T03:22:07Z', 'content': 'Bed Bath &amp; Beyond Inc. (NASDAQ:BBBY) Q2 2019 Earnings Conference Call October 2, 2019 5:00 PM ET\\r\\nCompany Representatives\\r\\nMary Winston - Interim Chief Executive Officer, Member of the Board\\r\\nRobyn DElia - Chief Financial Officer, Treasurer\\r\\nJanet Barth -… [+58462 chars]'}, {'source': {'id': None, 'name': 'Yahoo.com'}, 'author': None, 'title': 'Edited Transcript of LEN earnings conference call or presentation 2-Oct-19 3:00pm GMT', 'description': 'Q3 2019 Lennar Corp Earnings Call', 'url': 'https://finance.yahoo.com/news/edited-transcript-len-earnings-conference-015057385.html', 'urlToImage': 'https://s.yimg.com/cv/apiv2/social/images/yahoo_default_logo.png', 'publishedAt': '2019-10-03T01:50:57Z', 'content': 'MIAMI Oct 3, 2019 (Thomson StreetEvents) -- Edited Transcript of Lennar Corp earnings conference call or presentation Wednesday, October 2, 2019 at 3:00:00pm GMT==================================================================================================… [+64330 chars]'}]}\n"
     ]
    }
   ],
   "source": [
    "wf_json = response.json() \n",
    "print(wf_json)"
   ]
  },
  {
   "cell_type": "code",
   "execution_count": 120,
   "metadata": {},
   "outputs": [],
   "source": [
    "import json\n",
    "with open('wf_new_result', 'w') as fp:\n",
    "    json.dump(wf_json, fp)"
   ]
  },
  {
   "cell_type": "markdown",
   "metadata": {},
   "source": [
    "### WeWork"
   ]
  },
  {
   "cell_type": "code",
   "execution_count": 111,
   "metadata": {},
   "outputs": [],
   "source": [
    "import requests\n",
    "\n",
    "url_ww = ('https://newsapi.org/v2/everything?'\n",
    "       'q=+WeWork AND +CEO&'\n",
    "       'from=2019-09-19T00:00:00&'\n",
    "       'to=2019-09-19T23:59:59&'\n",
    "       'sortBy=publishedAt&'\n",
    "       'pageSize=100&'\n",
    "       'apiKey=651eabe0664340df81d18fbad70c9706')\n"
   ]
  },
  {
   "cell_type": "code",
   "execution_count": 112,
   "metadata": {},
   "outputs": [],
   "source": [
    "response_ww = requests.get(url_ww)"
   ]
  },
  {
   "cell_type": "code",
   "execution_count": 113,
   "metadata": {},
   "outputs": [],
   "source": [
    "json_ww = response_ww.json() "
   ]
  },
  {
   "cell_type": "code",
   "execution_count": 114,
   "metadata": {},
   "outputs": [],
   "source": [
    "with open('wework_new_result', 'w') as fp_ww:\n",
    "    json.dump(json_ww, fp_ww)"
   ]
  },
  {
   "cell_type": "markdown",
   "metadata": {},
   "source": [
    "### SAP"
   ]
  },
  {
   "cell_type": "code",
   "execution_count": 34,
   "metadata": {},
   "outputs": [],
   "source": [
    "import requests\n",
    "\n",
    "url_sap = ('https://newsapi.org/v2/everything?'\n",
    "       'q=+SAP AND +CEO&'\n",
    "       'from=2019-10-16T00:00:00&'\n",
    "       'to=2019-10-16T23:59:59&'\n",
    "       'sortBy=publishedAt&'\n",
    "       'pageSize=100&'\n",
    "       'apiKey=651eabe0664340df81d18fbad70c9706')"
   ]
  },
  {
   "cell_type": "code",
   "execution_count": 35,
   "metadata": {},
   "outputs": [],
   "source": [
    "response_sap = requests.get(url_sap)"
   ]
  },
  {
   "cell_type": "code",
   "execution_count": 36,
   "metadata": {},
   "outputs": [],
   "source": [
    "import json\n",
    "json_sap = response_sap.json() "
   ]
  },
  {
   "cell_type": "code",
   "execution_count": 37,
   "metadata": {},
   "outputs": [],
   "source": [
    "with open('sap_new_result', 'w') as fp_sap:\n",
    "    json.dump(json_sap, fp_sap)"
   ]
  },
  {
   "cell_type": "code",
   "execution_count": null,
   "metadata": {},
   "outputs": [],
   "source": []
  }
 ],
 "metadata": {
  "kernelspec": {
   "display_name": "Python 3",
   "language": "python",
   "name": "python3"
  },
  "language_info": {
   "codemirror_mode": {
    "name": "ipython",
    "version": 3
   },
   "file_extension": ".py",
   "mimetype": "text/x-python",
   "name": "python",
   "nbconvert_exporter": "python",
   "pygments_lexer": "ipython3",
   "version": "3.7.3"
  }
 },
 "nbformat": 4,
 "nbformat_minor": 2
}
