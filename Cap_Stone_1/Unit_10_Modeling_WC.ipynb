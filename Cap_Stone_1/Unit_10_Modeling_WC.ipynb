{
 "cells": [
  {
   "cell_type": "code",
   "execution_count": 1,
   "metadata": {},
   "outputs": [],
   "source": [
    "import numpy as np\n",
    "import pandas as pd\n",
    "import seaborn as sns\n",
    "import matplotlib.pyplot as plt\n",
    "from datetime import datetime\n",
    "import statsmodels.api as sm\n",
    "from statsmodels.formula.api import ols"
   ]
  },
  {
   "cell_type": "code",
   "execution_count": 2,
   "metadata": {},
   "outputs": [
    {
     "data": {
      "text/html": [
       "<div>\n",
       "<style scoped>\n",
       "    .dataframe tbody tr th:only-of-type {\n",
       "        vertical-align: middle;\n",
       "    }\n",
       "\n",
       "    .dataframe tbody tr th {\n",
       "        vertical-align: top;\n",
       "    }\n",
       "\n",
       "    .dataframe thead th {\n",
       "        text-align: right;\n",
       "    }\n",
       "</style>\n",
       "<table border=\"1\" class=\"dataframe\">\n",
       "  <thead>\n",
       "    <tr style=\"text-align: right;\">\n",
       "      <th></th>\n",
       "      <th>Date</th>\n",
       "      <th>RegionName</th>\n",
       "      <th>Afford_idx</th>\n",
       "      <th>SalePrice</th>\n",
       "      <th>UnemployRate</th>\n",
       "      <th>Rate</th>\n",
       "      <th>Days_On_Zillow</th>\n",
       "      <th>Monthly_List_Zillow</th>\n",
       "    </tr>\n",
       "  </thead>\n",
       "  <tbody>\n",
       "    <tr>\n",
       "      <th>0</th>\n",
       "      <td>2013-01-01</td>\n",
       "      <td>Alameda County</td>\n",
       "      <td>0.32</td>\n",
       "      <td>429100.0</td>\n",
       "      <td>8.3</td>\n",
       "      <td>3.41</td>\n",
       "      <td>79.0</td>\n",
       "      <td>2326.0</td>\n",
       "    </tr>\n",
       "    <tr>\n",
       "      <th>1</th>\n",
       "      <td>2013-02-01</td>\n",
       "      <td>Alameda County</td>\n",
       "      <td>0.32</td>\n",
       "      <td>428400.0</td>\n",
       "      <td>7.8</td>\n",
       "      <td>3.53</td>\n",
       "      <td>70.0</td>\n",
       "      <td>2229.0</td>\n",
       "    </tr>\n",
       "    <tr>\n",
       "      <th>2</th>\n",
       "      <td>2013-03-01</td>\n",
       "      <td>Alameda County</td>\n",
       "      <td>0.32</td>\n",
       "      <td>436100.0</td>\n",
       "      <td>7.5</td>\n",
       "      <td>3.57</td>\n",
       "      <td>51.0</td>\n",
       "      <td>2115.0</td>\n",
       "    </tr>\n",
       "    <tr>\n",
       "      <th>3</th>\n",
       "      <td>2013-04-01</td>\n",
       "      <td>Alameda County</td>\n",
       "      <td>0.25</td>\n",
       "      <td>441500.0</td>\n",
       "      <td>7.0</td>\n",
       "      <td>3.45</td>\n",
       "      <td>46.5</td>\n",
       "      <td>2105.0</td>\n",
       "    </tr>\n",
       "    <tr>\n",
       "      <th>4</th>\n",
       "      <td>2013-05-01</td>\n",
       "      <td>Alameda County</td>\n",
       "      <td>0.25</td>\n",
       "      <td>460100.0</td>\n",
       "      <td>7.0</td>\n",
       "      <td>3.54</td>\n",
       "      <td>45.0</td>\n",
       "      <td>2159.0</td>\n",
       "    </tr>\n",
       "  </tbody>\n",
       "</table>\n",
       "</div>"
      ],
      "text/plain": [
       "         Date      RegionName  Afford_idx  SalePrice  UnemployRate  Rate  \\\n",
       "0  2013-01-01  Alameda County        0.32   429100.0           8.3  3.41   \n",
       "1  2013-02-01  Alameda County        0.32   428400.0           7.8  3.53   \n",
       "2  2013-03-01  Alameda County        0.32   436100.0           7.5  3.57   \n",
       "3  2013-04-01  Alameda County        0.25   441500.0           7.0  3.45   \n",
       "4  2013-05-01  Alameda County        0.25   460100.0           7.0  3.54   \n",
       "\n",
       "   Days_On_Zillow  Monthly_List_Zillow  \n",
       "0            79.0               2326.0  \n",
       "1            70.0               2229.0  \n",
       "2            51.0               2115.0  \n",
       "3            46.5               2105.0  \n",
       "4            45.0               2159.0  "
      ]
     },
     "execution_count": 2,
     "metadata": {},
     "output_type": "execute_result"
    }
   ],
   "source": [
    "master_df = pd.read_csv(r'master_df.csv',encoding='latin-1')\n",
    "master_df.drop(['Population', 'Property_Crimes', 'Violent_Crimes', 'Unnamed: 0'], axis=1, inplace=True)\n",
    "master_df.head()"
   ]
  },
  {
   "cell_type": "markdown",
   "metadata": {},
   "source": [
    "## 1. Set up dataframe"
   ]
  },
  {
   "cell_type": "markdown",
   "metadata": {},
   "source": [
    "### 1.1. Alameda\n",
    "\n",
    "Pearson Correlation coefficient with Sale Price for all variables:\n",
    "Unemployment Rate is -0.96 at strongest negative correlation. Mortgage rate has weakest correlation at -0.11. \n",
    "Only number of monthly listing in Zillow is over -0.5.  "
   ]
  },
  {
   "cell_type": "code",
   "execution_count": 3,
   "metadata": {},
   "outputs": [
    {
     "name": "stdout",
     "output_type": "stream",
     "text": [
      "<class 'pandas.core.frame.DataFrame'>\n",
      "Int64Index: 61 entries, 0 to 60\n",
      "Data columns (total 8 columns):\n",
      "Date                   61 non-null object\n",
      "RegionName             61 non-null object\n",
      "Afford_idx             61 non-null float64\n",
      "SalePrice              61 non-null float64\n",
      "UnemployRate           61 non-null float64\n",
      "Rate                   61 non-null float64\n",
      "Days_On_Zillow         61 non-null float64\n",
      "Monthly_List_Zillow    61 non-null float64\n",
      "dtypes: float64(6), object(2)\n",
      "memory usage: 4.3+ KB\n"
     ]
    }
   ],
   "source": [
    "alameda_df = master_df[master_df.RegionName=='Alameda County'].copy()\n",
    "\n",
    "alameda_df.info()"
   ]
  },
  {
   "cell_type": "markdown",
   "metadata": {},
   "source": [
    "### 1.2. Sacramento\n",
    "\n",
    "Pearson Correlation coefficient with Sale Price for all variables:\n",
    "Unemployment Rate is -0.95 at strongest negative correlation followed by Affordability indext at -0.89. \n",
    "Mortgage rate has weakest correlation at -0.09. \n",
    "Surprisingly, for this market, number of days on Zillow has correlation of -0.55 and number of monthly listing in Zillow is at 0.16. \n",
    "Just looking at Pearson coffecient, Sacramento market has different characteristics than Alameda. "
   ]
  },
  {
   "cell_type": "code",
   "execution_count": 4,
   "metadata": {},
   "outputs": [],
   "source": [
    "sac_df = master_df[master_df.RegionName=='Sacramento County'].copy()"
   ]
  },
  {
   "cell_type": "markdown",
   "metadata": {},
   "source": [
    "### 1.3. L.A.\n",
    "\n",
    "Pearson Correlation coefficient with Sale Price for all variables:\n",
    "Unemployment Rate is -0.93 at strongest negative correlation followed by Affordability indext and Monthly listing at -0.67. \n",
    "Mortgage rate has weakest correlation at -0.11. \n",
    "L.A. is yet again different from Sacramento and Alameda in that affordability index and number of monthly listing is over -0.5."
   ]
  },
  {
   "cell_type": "code",
   "execution_count": 5,
   "metadata": {},
   "outputs": [],
   "source": [
    "la_df = master_df[master_df.RegionName=='Los Angeles County'].copy()"
   ]
  },
  {
   "cell_type": "markdown",
   "metadata": {},
   "source": [
    "## 2. Linear Regression for Sale Price\n",
    "\n",
    "### 2.1. Try against all data (alameda, sacramento and LA combined).\n",
    "R-squared is 0.300 so the model is 30% good at explaining the price which is not very good. \n",
    "Prob (F-statistic) is very close to 0 so we can reject the null hypothesis. Null hypothesis is that a intercept-only model is better. (YMJ Question: What does this mean?)  "
   ]
  },
  {
   "cell_type": "code",
   "execution_count": 6,
   "metadata": {},
   "outputs": [],
   "source": [
    "# Import regression modules\n",
    "import statsmodels.api as sm\n",
    "from statsmodels.formula.api import ols"
   ]
  },
  {
   "cell_type": "code",
   "execution_count": 7,
   "metadata": {},
   "outputs": [
    {
     "name": "stdout",
     "output_type": "stream",
     "text": [
      "                            OLS Regression Results                            \n",
      "==============================================================================\n",
      "Dep. Variable:              SalePrice   R-squared:                       0.300\n",
      "Model:                            OLS   Adj. R-squared:                  0.297\n",
      "Method:                 Least Squares   F-statistic:                     77.74\n",
      "Date:                Wed, 11 Sep 2019   Prob (F-statistic):           9.66e-16\n",
      "Time:                        19:13:21   Log-Likelihood:                -2407.7\n",
      "No. Observations:                 183   AIC:                             4819.\n",
      "Df Residuals:                     181   BIC:                             4826.\n",
      "Df Model:                           1                                         \n",
      "Covariance Type:            nonrobust                                         \n",
      "================================================================================\n",
      "                   coef    std err          t      P>|t|      [0.025      0.975]\n",
      "--------------------------------------------------------------------------------\n",
      "Intercept     7.246e+05   3.31e+04     21.874      0.000    6.59e+05     7.9e+05\n",
      "UnemployRate -4.564e+04   5176.638     -8.817      0.000   -5.59e+04   -3.54e+04\n",
      "==============================================================================\n",
      "Omnibus:                      150.804   Durbin-Watson:                   0.080\n",
      "Prob(Omnibus):                  0.000   Jarque-Bera (JB):               18.913\n",
      "Skew:                          -0.449   Prob(JB):                     7.82e-05\n",
      "Kurtosis:                       1.706   Cond. No.                         23.3\n",
      "==============================================================================\n",
      "\n",
      "Warnings:\n",
      "[1] Standard Errors assume that the covariance matrix of the errors is correctly specified.\n"
     ]
    }
   ],
   "source": [
    "# statsmodels works nicely with pandas dataframes\n",
    "# The thing inside the \"quotes\" is called a formula, a bit on that below\n",
    "master_m = ols('SalePrice ~ UnemployRate',master_df).fit()\n",
    "print(master_m.summary())"
   ]
  },
  {
   "cell_type": "markdown",
   "metadata": {},
   "source": [
    "### 2.2. Let's try just Alameda\n",
    "\n",
    "R squared is 0.92 which means the model is 92% good at explaining the price. This is much better. "
   ]
  },
  {
   "cell_type": "code",
   "execution_count": 8,
   "metadata": {},
   "outputs": [
    {
     "name": "stdout",
     "output_type": "stream",
     "text": [
      "                            OLS Regression Results                            \n",
      "==============================================================================\n",
      "Dep. Variable:              SalePrice   R-squared:                       0.920\n",
      "Model:                            OLS   Adj. R-squared:                  0.919\n",
      "Method:                 Least Squares   F-statistic:                     680.0\n",
      "Date:                Wed, 11 Sep 2019   Prob (F-statistic):           4.43e-34\n",
      "Time:                        19:13:21   Log-Likelihood:                -704.30\n",
      "No. Observations:                  61   AIC:                             1413.\n",
      "Df Residuals:                      59   BIC:                             1417.\n",
      "Df Model:                           1                                         \n",
      "Covariance Type:            nonrobust                                         \n",
      "================================================================================\n",
      "                   coef    std err          t      P>|t|      [0.025      0.975]\n",
      "--------------------------------------------------------------------------------\n",
      "Intercept     9.308e+05    1.3e+04     71.630      0.000    9.05e+05    9.57e+05\n",
      "UnemployRate  -6.41e+04   2457.977    -26.078      0.000    -6.9e+04   -5.92e+04\n",
      "==============================================================================\n",
      "Omnibus:                        1.362   Durbin-Watson:                   0.648\n",
      "Prob(Omnibus):                  0.506   Jarque-Bera (JB):                1.073\n",
      "Skew:                          -0.043   Prob(JB):                        0.585\n",
      "Kurtosis:                       2.356   Cond. No.                         21.8\n",
      "==============================================================================\n",
      "\n",
      "Warnings:\n",
      "[1] Standard Errors assume that the covariance matrix of the errors is correctly specified.\n"
     ]
    }
   ],
   "source": [
    "alameda_m = ols('SalePrice ~ UnemployRate',alameda_df).fit()\n",
    "print(alameda_m.summary())"
   ]
  },
  {
   "cell_type": "markdown",
   "metadata": {},
   "source": [
    "### 2.3. Sacramento\n",
    "\n",
    "R squared is 0.91 which means the model is 91% good at explaining the price.   "
   ]
  },
  {
   "cell_type": "code",
   "execution_count": 9,
   "metadata": {},
   "outputs": [
    {
     "name": "stdout",
     "output_type": "stream",
     "text": [
      "                            OLS Regression Results                            \n",
      "==============================================================================\n",
      "Dep. Variable:              SalePrice   R-squared:                       0.909\n",
      "Model:                            OLS   Adj. R-squared:                  0.907\n",
      "Method:                 Least Squares   F-statistic:                     586.7\n",
      "Date:                Wed, 11 Sep 2019   Prob (F-statistic):           2.40e-32\n",
      "Time:                        19:13:21   Log-Likelihood:                -654.31\n",
      "No. Observations:                  61   AIC:                             1313.\n",
      "Df Residuals:                      59   BIC:                             1317.\n",
      "Df Model:                           1                                         \n",
      "Covariance Type:            nonrobust                                         \n",
      "================================================================================\n",
      "                   coef    std err          t      P>|t|      [0.025      0.975]\n",
      "--------------------------------------------------------------------------------\n",
      "Intercept     4.098e+05   5993.262     68.372      0.000    3.98e+05    4.22e+05\n",
      "UnemployRate -2.198e+04    907.597    -24.221      0.000   -2.38e+04   -2.02e+04\n",
      "==============================================================================\n",
      "Omnibus:                        8.168   Durbin-Watson:                   0.473\n",
      "Prob(Omnibus):                  0.017   Jarque-Bera (JB):                2.730\n",
      "Skew:                           0.021   Prob(JB):                        0.255\n",
      "Kurtosis:                       1.965   Cond. No.                         28.2\n",
      "==============================================================================\n",
      "\n",
      "Warnings:\n",
      "[1] Standard Errors assume that the covariance matrix of the errors is correctly specified.\n"
     ]
    }
   ],
   "source": [
    "sac_m = ols('SalePrice ~ UnemployRate',sac_df).fit()\n",
    "print(sac_m.summary())"
   ]
  },
  {
   "cell_type": "markdown",
   "metadata": {},
   "source": [
    "### 2.4. L.A.\n",
    "\n",
    "R squared is 0.87 which means the model is 87% good at explaining the price.   "
   ]
  },
  {
   "cell_type": "code",
   "execution_count": 10,
   "metadata": {},
   "outputs": [
    {
     "name": "stdout",
     "output_type": "stream",
     "text": [
      "                            OLS Regression Results                            \n",
      "==============================================================================\n",
      "Dep. Variable:              SalePrice   R-squared:                       0.867\n",
      "Model:                            OLS   Adj. R-squared:                  0.865\n",
      "Method:                 Least Squares   F-statistic:                     385.4\n",
      "Date:                Wed, 11 Sep 2019   Prob (F-statistic):           1.50e-27\n",
      "Time:                        19:13:21   Log-Likelihood:                -676.53\n",
      "No. Observations:                  61   AIC:                             1357.\n",
      "Df Residuals:                      59   BIC:                             1361.\n",
      "Df Model:                           1                                         \n",
      "Covariance Type:            nonrobust                                         \n",
      "================================================================================\n",
      "                   coef    std err          t      P>|t|      [0.025      0.975]\n",
      "--------------------------------------------------------------------------------\n",
      "Intercept     6.056e+05   7631.572     79.354      0.000     5.9e+05    6.21e+05\n",
      "UnemployRate -2.092e+04   1065.515    -19.632      0.000   -2.31e+04   -1.88e+04\n",
      "==============================================================================\n",
      "Omnibus:                       12.916   Durbin-Watson:                   0.313\n",
      "Prob(Omnibus):                  0.002   Jarque-Bera (JB):               13.769\n",
      "Skew:                           0.996   Prob(JB):                      0.00102\n",
      "Kurtosis:                       4.205   Cond. No.                         26.9\n",
      "==============================================================================\n",
      "\n",
      "Warnings:\n",
      "[1] Standard Errors assume that the covariance matrix of the errors is correctly specified.\n"
     ]
    }
   ],
   "source": [
    "la_m = ols('SalePrice ~ UnemployRate',la_df).fit()\n",
    "print(la_m.summary())"
   ]
  },
  {
   "cell_type": "markdown",
   "metadata": {},
   "source": [
    "### 2.5.  Conclusion: \n",
    "Overall, limiting the model to individual counties seem to be better fit which makes sense because each county has different characteristics."
   ]
  },
  {
   "cell_type": "markdown",
   "metadata": {},
   "source": [
    "## 3. Linear regression with Affordability index\n",
    "\n",
    "R squared for Alameda is 0.216, Sacramento is 0.785 and L.A. 0.455. This is inline with Pearson R coefficient. "
   ]
  },
  {
   "cell_type": "code",
   "execution_count": 11,
   "metadata": {},
   "outputs": [
    {
     "name": "stdout",
     "output_type": "stream",
     "text": [
      "                            OLS Regression Results                            \n",
      "==============================================================================\n",
      "Dep. Variable:              SalePrice   R-squared:                       0.216\n",
      "Model:                            OLS   Adj. R-squared:                  0.203\n",
      "Method:                 Least Squares   F-statistic:                     16.30\n",
      "Date:                Wed, 11 Sep 2019   Prob (F-statistic):           0.000158\n",
      "Time:                        19:13:21   Log-Likelihood:                -773.95\n",
      "No. Observations:                  61   AIC:                             1552.\n",
      "Df Residuals:                      59   BIC:                             1556.\n",
      "Df Model:                           1                                         \n",
      "Covariance Type:            nonrobust                                         \n",
      "==============================================================================\n",
      "                 coef    std err          t      P>|t|      [0.025      0.975]\n",
      "------------------------------------------------------------------------------\n",
      "Intercept   9.074e+05   7.61e+04     11.917      0.000    7.55e+05    1.06e+06\n",
      "Afford_idx -1.376e+06   3.41e+05     -4.038      0.000   -2.06e+06   -6.94e+05\n",
      "==============================================================================\n",
      "Omnibus:                       13.655   Durbin-Watson:                   0.101\n",
      "Prob(Omnibus):                  0.001   Jarque-Bera (JB):                3.437\n",
      "Skew:                          -0.019   Prob(JB):                        0.179\n",
      "Kurtosis:                       1.838   Cond. No.                         35.1\n",
      "==============================================================================\n",
      "\n",
      "Warnings:\n",
      "[1] Standard Errors assume that the covariance matrix of the errors is correctly specified.\n"
     ]
    }
   ],
   "source": [
    "alameda_m = ols('SalePrice ~ Afford_idx',alameda_df).fit()\n",
    "print(alameda_m.summary())"
   ]
  },
  {
   "cell_type": "code",
   "execution_count": 12,
   "metadata": {},
   "outputs": [
    {
     "name": "stdout",
     "output_type": "stream",
     "text": [
      "                            OLS Regression Results                            \n",
      "==============================================================================\n",
      "Dep. Variable:              SalePrice   R-squared:                       0.785\n",
      "Model:                            OLS   Adj. R-squared:                  0.781\n",
      "Method:                 Least Squares   F-statistic:                     215.0\n",
      "Date:                Wed, 11 Sep 2019   Prob (F-statistic):           2.46e-21\n",
      "Time:                        19:13:21   Log-Likelihood:                -680.45\n",
      "No. Observations:                  61   AIC:                             1365.\n",
      "Df Residuals:                      59   BIC:                             1369.\n",
      "Df Model:                           1                                         \n",
      "Covariance Type:            nonrobust                                         \n",
      "==============================================================================\n",
      "                 coef    std err          t      P>|t|      [0.025      0.975]\n",
      "------------------------------------------------------------------------------\n",
      "Intercept   6.198e+05    2.4e+04     25.787      0.000    5.72e+05    6.68e+05\n",
      "Afford_idx -7.316e+05   4.99e+04    -14.664      0.000   -8.31e+05   -6.32e+05\n",
      "==============================================================================\n",
      "Omnibus:                        4.852   Durbin-Watson:                   0.311\n",
      "Prob(Omnibus):                  0.088   Jarque-Bera (JB):                3.278\n",
      "Skew:                           0.403   Prob(JB):                        0.194\n",
      "Kurtosis:                       2.200   Cond. No.                         27.9\n",
      "==============================================================================\n",
      "\n",
      "Warnings:\n",
      "[1] Standard Errors assume that the covariance matrix of the errors is correctly specified.\n"
     ]
    }
   ],
   "source": [
    "sac_m = ols('SalePrice ~ Afford_idx',sac_df).fit()\n",
    "print(sac_m.summary())"
   ]
  },
  {
   "cell_type": "code",
   "execution_count": 13,
   "metadata": {},
   "outputs": [
    {
     "name": "stdout",
     "output_type": "stream",
     "text": [
      "                            OLS Regression Results                            \n",
      "==============================================================================\n",
      "Dep. Variable:              SalePrice   R-squared:                       0.455\n",
      "Model:                            OLS   Adj. R-squared:                  0.446\n",
      "Method:                 Least Squares   F-statistic:                     49.25\n",
      "Date:                Wed, 11 Sep 2019   Prob (F-statistic):           2.53e-09\n",
      "Time:                        19:13:21   Log-Likelihood:                -719.61\n",
      "No. Observations:                  61   AIC:                             1443.\n",
      "Df Residuals:                      59   BIC:                             1447.\n",
      "Df Model:                           1                                         \n",
      "Covariance Type:            nonrobust                                         \n",
      "==============================================================================\n",
      "                 coef    std err          t      P>|t|      [0.025      0.975]\n",
      "------------------------------------------------------------------------------\n",
      "Intercept   6.569e+05   2.82e+04     23.318      0.000       6e+05    7.13e+05\n",
      "Afford_idx  -6.77e+05   9.65e+04     -7.018      0.000    -8.7e+05   -4.84e+05\n",
      "==============================================================================\n",
      "Omnibus:                        0.913   Durbin-Watson:                   0.241\n",
      "Prob(Omnibus):                  0.634   Jarque-Bera (JB):                0.917\n",
      "Skew:                           0.276   Prob(JB):                        0.632\n",
      "Kurtosis:                       2.761   Cond. No.                         25.0\n",
      "==============================================================================\n",
      "\n",
      "Warnings:\n",
      "[1] Standard Errors assume that the covariance matrix of the errors is correctly specified.\n"
     ]
    }
   ],
   "source": [
    "la_m = ols('SalePrice ~ Afford_idx',la_df).fit()\n",
    "print(la_m.summary())"
   ]
  },
  {
   "cell_type": "markdown",
   "metadata": {},
   "source": [
    "## 4. Fit with Linear Regression model\n",
    "\n",
    "Picked 4 variables because:\n",
    "1. Unemployment rate had highest Pearson R coefficient in all markets. \n",
    "2. Affordability was next high for Sacramento and L.A. \n",
    "3. Monthly Listing and Days on Zillow were next after affordability for Sacramento and L.A. respectively. "
   ]
  },
  {
   "cell_type": "markdown",
   "metadata": {},
   "source": [
    "### 4.1. Alameda \n",
    "R squared is 0.836 which is good and Prob (F-statistic) is almost 0. \n"
   ]
  },
  {
   "cell_type": "code",
   "execution_count": 14,
   "metadata": {},
   "outputs": [
    {
     "name": "stdout",
     "output_type": "stream",
     "text": [
      "                            OLS Regression Results                            \n",
      "==============================================================================\n",
      "Dep. Variable:              SalePrice   R-squared:                       0.936\n",
      "Model:                            OLS   Adj. R-squared:                  0.932\n",
      "Method:                 Least Squares   F-statistic:                     206.0\n",
      "Date:                Wed, 11 Sep 2019   Prob (F-statistic):           8.71e-33\n",
      "Time:                        19:13:21   Log-Likelihood:                -697.38\n",
      "No. Observations:                  61   AIC:                             1405.\n",
      "Df Residuals:                      56   BIC:                             1415.\n",
      "Df Model:                           4                                         \n",
      "Covariance Type:            nonrobust                                         \n",
      "=======================================================================================\n",
      "                          coef    std err          t      P>|t|      [0.025      0.975]\n",
      "---------------------------------------------------------------------------------------\n",
      "Intercept            1.042e+06   3.82e+04     27.252      0.000    9.65e+05    1.12e+06\n",
      "UnemployRate        -5.946e+04   2888.951    -20.583      0.000   -6.53e+04   -5.37e+04\n",
      "Afford_idx          -5.974e+04   1.37e+05     -0.437      0.664   -3.33e+05    2.14e+05\n",
      "Monthly_List_Zillow   -61.7400     16.397     -3.765      0.000     -94.587     -28.893\n",
      "Days_On_Zillow        243.2343    472.854      0.514      0.609    -704.007    1190.475\n",
      "==============================================================================\n",
      "Omnibus:                        0.845   Durbin-Watson:                   0.777\n",
      "Prob(Omnibus):                  0.655   Jarque-Bera (JB):                0.916\n",
      "Skew:                          -0.174   Prob(JB):                        0.633\n",
      "Kurtosis:                       2.511   Cond. No.                     1.00e+05\n",
      "==============================================================================\n",
      "\n",
      "Warnings:\n",
      "[1] Standard Errors assume that the covariance matrix of the errors is correctly specified.\n",
      "[2] The condition number is large,  1e+05. This might indicate that there are\n",
      "strong multicollinearity or other numerical problems.\n"
     ]
    }
   ],
   "source": [
    "alameda_f_m = ols('SalePrice ~ UnemployRate+Afford_idx+Monthly_List_Zillow+Days_On_Zillow',alameda_df).fit()\n",
    "print(alameda_f_m.summary())"
   ]
  },
  {
   "cell_type": "markdown",
   "metadata": {},
   "source": [
    "#### 4.1.1. Fitted values versus residuals plot. What does the plot tell you? Are there any violations of the model assumptions?\n",
    "\n",
    "YMJ Question: What does this mean??? They should be converging around 0 which they are not... "
   ]
  },
  {
   "cell_type": "code",
   "execution_count": 15,
   "metadata": {},
   "outputs": [
    {
     "data": {
      "image/png": "[encoded data removed]",
      "text/plain": [
       "<Figure size 864x360 with 1 Axes>"
      ]
     },
     "metadata": {
      "needs_background": "light"
     },
     "output_type": "display_data"
    }
   ],
   "source": [
    "pred_val = alameda_f_m.fittedvalues.copy()\n",
    "true_val = alameda_df.SalePrice.values.copy()\n",
    "residual = true_val - pred_val\n",
    "\n",
    "fig, ax = plt.subplots(figsize=(12,5))\n",
    "_ = ax.scatter(residual, pred_val)\n"
   ]
  },
  {
   "cell_type": "markdown",
   "metadata": {},
   "source": [
    "#### 4.1.2. Quantile plot of the residuals.  \n",
    "\n",
    "There seems to be few outliers in the lowest and highest range while there is 2 distinct groups. You can see the break at thoeretical quantiles 0.75. \n",
    "YMJ Question - what does this mean??? "
   ]
  },
  {
   "cell_type": "code",
   "execution_count": 16,
   "metadata": {},
   "outputs": [
    {
     "data": {
      "image/png": "[encoded data removed]",
      "text/plain": [
       "<Figure size 432x288 with 1 Axes>"
      ]
     },
     "metadata": {
      "needs_background": "light"
     },
     "output_type": "display_data"
    }
   ],
   "source": [
    "res = alameda_f_m.resid # residuals\n",
    "fig = sm.qqplot(res)\n",
    "plt.show()"
   ]
  },
  {
   "cell_type": "markdown",
   "metadata": {},
   "source": [
    "#### 4.1.3. Leverage Plot\n",
    "\n",
    "Outliers - 0, 2, 1,48, 69,3,23 - Check what these data are. Drop them and try again. "
   ]
  },
  {
   "cell_type": "code",
   "execution_count": 17,
   "metadata": {},
   "outputs": [
    {
     "data": {
      "image/png": "[encoded data removed]",
      "text/plain": [
       "<Figure size 432x288 with 1 Axes>"
      ]
     },
     "execution_count": 17,
     "metadata": {},
     "output_type": "execute_result"
    },
    {
     "data": {
      "image/png": "[encoded data removed]",
      "text/plain": [
       "<Figure size 432x288 with 1 Axes>"
      ]
     },
     "metadata": {
      "needs_background": "light"
     },
     "output_type": "display_data"
    }
   ],
   "source": [
    "# leverage plot\n",
    "\n",
    "from statsmodels.graphics.regressionplots import *\n",
    "plot_leverage_resid2(alameda_f_m)"
   ]
  },
  {
   "cell_type": "markdown",
   "metadata": {},
   "source": [
    "#### 4.1.4. Remove outliers and try again."
   ]
  },
  {
   "cell_type": "markdown",
   "metadata": {},
   "source": [
    "### 4.2. Sacramento"
   ]
  },
  {
   "cell_type": "markdown",
   "metadata": {},
   "source": [
    "### 4.3 L.A."
   ]
  },
  {
   "cell_type": "markdown",
   "metadata": {},
   "source": [
    "## 5. Use KMeans clustering method to categorize different counties by their characteristics."
   ]
  },
  {
   "cell_type": "code",
   "execution_count": null,
   "metadata": {},
   "outputs": [],
   "source": []
  }
 ],
 "metadata": {
  "kernelspec": {
   "display_name": "Python 3",
   "language": "python",
   "name": "python3"
  },
  "language_info": {
   "codemirror_mode": {
    "name": "ipython",
    "version": 3
   },
   "file_extension": ".py",
   "mimetype": "text/x-python",
   "name": "python",
   "nbconvert_exporter": "python",
   "pygments_lexer": "ipython3",
   "version": "3.7.3"
  }
 },
 "nbformat": 4,
 "nbformat_minor": 2
}
