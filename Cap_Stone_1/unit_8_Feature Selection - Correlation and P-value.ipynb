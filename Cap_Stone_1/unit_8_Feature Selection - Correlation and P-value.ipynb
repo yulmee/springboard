{
 "cells": [
  {
   "cell_type": "markdown",
   "metadata": {
    "_uuid": "97719c149fb0e0c81daec5c71463385b1900022c"
   },
   "source": [
    "# Feature selection - Correlation and P value\n"
   ]
  },
  {
   "cell_type": "code",
   "execution_count": 1,
   "metadata": {},
   "outputs": [
    {
     "name": "stderr",
     "output_type": "stream",
     "text": [
      "./unit_5_Data_Wrangling_WC.ipynb:9: SettingWithCopyWarning: \n",
      "A value is trying to be set on a copy of a slice from a DataFrame.\n",
      "Try using .loc[row_indexer,col_indexer] = value instead\n",
      "\n",
      "See the caveats in the documentation: http://pandas.pydata.org/pandas-docs/stable/indexing.html#indexing-view-versus-copy\n",
      "  },\n"
     ]
    }
   ],
   "source": [
    "# run data wrangling notebook first.\n",
    "%run ./unit_5_Data_Wrangling_WC.ipynb"
   ]
  },
  {
   "cell_type": "code",
   "execution_count": 2,
   "metadata": {
    "_uuid": "3e410c3508beb0ff1c681badbacb4e0d32ceeb0a"
   },
   "outputs": [],
   "source": [
    "import numpy as np\n",
    "import pandas as pd\n",
    "import seaborn as sns\n",
    "import matplotlib.pyplot as plt\n",
    "from sklearn.preprocessing import LabelEncoder, OneHotEncoder\n",
    "import warnings\n",
    "warnings.filterwarnings(\"ignore\")\n",
    "from sklearn.model_selection import train_test_split\n",
    "from sklearn.svm import SVC\n",
    "from sklearn.metrics import confusion_matrix\n",
    "\n",
    "np.random.seed(123)"
   ]
  },
  {
   "cell_type": "markdown",
   "metadata": {
    "_uuid": "c3fb5c911a3ab7c120bc3e0abe013e68174776a0"
   },
   "source": [
    "### Loading the dataset - Alameda\n",
    "1. Limit dataframe to Alameda County.\n",
    "2. Have total of 9 columns without Date and RegionName"
   ]
  },
  {
   "cell_type": "code",
   "execution_count": 3,
   "metadata": {
    "_uuid": "abf818acd5b9752cb1baa879e11cb21e29c1f30b"
   },
   "outputs": [
    {
     "data": {
      "text/html": [
       "<div>\n",
       "<style scoped>\n",
       "    .dataframe tbody tr th:only-of-type {\n",
       "        vertical-align: middle;\n",
       "    }\n",
       "\n",
       "    .dataframe tbody tr th {\n",
       "        vertical-align: top;\n",
       "    }\n",
       "\n",
       "    .dataframe thead th {\n",
       "        text-align: right;\n",
       "    }\n",
       "</style>\n",
       "<table border=\"1\" class=\"dataframe\">\n",
       "  <thead>\n",
       "    <tr style=\"text-align: right;\">\n",
       "      <th></th>\n",
       "      <th>Date</th>\n",
       "      <th>RegionName</th>\n",
       "      <th>Population</th>\n",
       "      <th>Afford_idx</th>\n",
       "      <th>Property_Crimes</th>\n",
       "      <th>Violent_Crimes</th>\n",
       "      <th>SalePrice</th>\n",
       "      <th>UnemployRate</th>\n",
       "      <th>Rate</th>\n",
       "      <th>Days_On_Zillow</th>\n",
       "      <th>Monthly_List_Zillow</th>\n",
       "    </tr>\n",
       "  </thead>\n",
       "  <tbody>\n",
       "    <tr>\n",
       "      <th>0</th>\n",
       "      <td>2013-01-01</td>\n",
       "      <td>Alameda County</td>\n",
       "      <td>1554138</td>\n",
       "      <td>0.32</td>\n",
       "      <td>1018333</td>\n",
       "      <td>151634</td>\n",
       "      <td>429100.0</td>\n",
       "      <td>8.3</td>\n",
       "      <td>3.41</td>\n",
       "      <td>79.0</td>\n",
       "      <td>2326.0</td>\n",
       "    </tr>\n",
       "    <tr>\n",
       "      <th>1</th>\n",
       "      <td>2013-02-01</td>\n",
       "      <td>Alameda County</td>\n",
       "      <td>1554138</td>\n",
       "      <td>0.32</td>\n",
       "      <td>1018333</td>\n",
       "      <td>151634</td>\n",
       "      <td>428400.0</td>\n",
       "      <td>7.8</td>\n",
       "      <td>3.53</td>\n",
       "      <td>70.0</td>\n",
       "      <td>2229.0</td>\n",
       "    </tr>\n",
       "    <tr>\n",
       "      <th>2</th>\n",
       "      <td>2013-03-01</td>\n",
       "      <td>Alameda County</td>\n",
       "      <td>1554138</td>\n",
       "      <td>0.32</td>\n",
       "      <td>1018333</td>\n",
       "      <td>151634</td>\n",
       "      <td>436100.0</td>\n",
       "      <td>7.5</td>\n",
       "      <td>3.57</td>\n",
       "      <td>51.0</td>\n",
       "      <td>2115.0</td>\n",
       "    </tr>\n",
       "    <tr>\n",
       "      <th>3</th>\n",
       "      <td>2013-04-01</td>\n",
       "      <td>Alameda County</td>\n",
       "      <td>1554138</td>\n",
       "      <td>0.25</td>\n",
       "      <td>1018333</td>\n",
       "      <td>151634</td>\n",
       "      <td>441500.0</td>\n",
       "      <td>7.0</td>\n",
       "      <td>3.45</td>\n",
       "      <td>46.5</td>\n",
       "      <td>2105.0</td>\n",
       "    </tr>\n",
       "    <tr>\n",
       "      <th>4</th>\n",
       "      <td>2013-05-01</td>\n",
       "      <td>Alameda County</td>\n",
       "      <td>1554138</td>\n",
       "      <td>0.25</td>\n",
       "      <td>1018333</td>\n",
       "      <td>151634</td>\n",
       "      <td>460100.0</td>\n",
       "      <td>7.0</td>\n",
       "      <td>3.54</td>\n",
       "      <td>45.0</td>\n",
       "      <td>2159.0</td>\n",
       "    </tr>\n",
       "  </tbody>\n",
       "</table>\n",
       "</div>"
      ],
      "text/plain": [
       "        Date      RegionName  Population  Afford_idx  Property_Crimes  \\\n",
       "0 2013-01-01  Alameda County     1554138        0.32          1018333   \n",
       "1 2013-02-01  Alameda County     1554138        0.32          1018333   \n",
       "2 2013-03-01  Alameda County     1554138        0.32          1018333   \n",
       "3 2013-04-01  Alameda County     1554138        0.25          1018333   \n",
       "4 2013-05-01  Alameda County     1554138        0.25          1018333   \n",
       "\n",
       "   Violent_Crimes  SalePrice  UnemployRate  Rate  Days_On_Zillow  \\\n",
       "0          151634   429100.0           8.3  3.41            79.0   \n",
       "1          151634   428400.0           7.8  3.53            70.0   \n",
       "2          151634   436100.0           7.5  3.57            51.0   \n",
       "3          151634   441500.0           7.0  3.45            46.5   \n",
       "4          151634   460100.0           7.0  3.54            45.0   \n",
       "\n",
       "   Monthly_List_Zillow  \n",
       "0               2326.0  \n",
       "1               2229.0  \n",
       "2               2115.0  \n",
       "3               2105.0  \n",
       "4               2159.0  "
      ]
     },
     "execution_count": 3,
     "metadata": {},
     "output_type": "execute_result"
    }
   ],
   "source": [
    "data = master_df_master[master_df_master.RegionName=='Alameda County'].copy()\n",
    "\n",
    "data.head()"
   ]
  },
  {
   "cell_type": "markdown",
   "metadata": {
    "_uuid": "b8c52a2a18b253cb606aca7b3a3a5fa48ca8f0e0"
   },
   "source": [
    "Removing the RegionName and Date"
   ]
  },
  {
   "cell_type": "code",
   "execution_count": 4,
   "metadata": {
    "_uuid": "30a5f63e2243d54f5a74b7f9d33b952c9ae57016"
   },
   "outputs": [],
   "source": [
    "data = data.iloc[:,2:]"
   ]
  },
  {
   "cell_type": "code",
   "execution_count": 5,
   "metadata": {},
   "outputs": [
    {
     "data": {
      "text/html": [
       "<div>\n",
       "<style scoped>\n",
       "    .dataframe tbody tr th:only-of-type {\n",
       "        vertical-align: middle;\n",
       "    }\n",
       "\n",
       "    .dataframe tbody tr th {\n",
       "        vertical-align: top;\n",
       "    }\n",
       "\n",
       "    .dataframe thead th {\n",
       "        text-align: right;\n",
       "    }\n",
       "</style>\n",
       "<table border=\"1\" class=\"dataframe\">\n",
       "  <thead>\n",
       "    <tr style=\"text-align: right;\">\n",
       "      <th></th>\n",
       "      <th>Population</th>\n",
       "      <th>Afford_idx</th>\n",
       "      <th>Property_Crimes</th>\n",
       "      <th>Violent_Crimes</th>\n",
       "      <th>SalePrice</th>\n",
       "      <th>UnemployRate</th>\n",
       "      <th>Rate</th>\n",
       "      <th>Days_On_Zillow</th>\n",
       "      <th>Monthly_List_Zillow</th>\n",
       "    </tr>\n",
       "  </thead>\n",
       "  <tbody>\n",
       "    <tr>\n",
       "      <th>0</th>\n",
       "      <td>1554138</td>\n",
       "      <td>0.32</td>\n",
       "      <td>1018333</td>\n",
       "      <td>151634</td>\n",
       "      <td>429100.0</td>\n",
       "      <td>8.3</td>\n",
       "      <td>3.41</td>\n",
       "      <td>79.0</td>\n",
       "      <td>2326.0</td>\n",
       "    </tr>\n",
       "    <tr>\n",
       "      <th>1</th>\n",
       "      <td>1554138</td>\n",
       "      <td>0.32</td>\n",
       "      <td>1018333</td>\n",
       "      <td>151634</td>\n",
       "      <td>428400.0</td>\n",
       "      <td>7.8</td>\n",
       "      <td>3.53</td>\n",
       "      <td>70.0</td>\n",
       "      <td>2229.0</td>\n",
       "    </tr>\n",
       "    <tr>\n",
       "      <th>2</th>\n",
       "      <td>1554138</td>\n",
       "      <td>0.32</td>\n",
       "      <td>1018333</td>\n",
       "      <td>151634</td>\n",
       "      <td>436100.0</td>\n",
       "      <td>7.5</td>\n",
       "      <td>3.57</td>\n",
       "      <td>51.0</td>\n",
       "      <td>2115.0</td>\n",
       "    </tr>\n",
       "    <tr>\n",
       "      <th>3</th>\n",
       "      <td>1554138</td>\n",
       "      <td>0.25</td>\n",
       "      <td>1018333</td>\n",
       "      <td>151634</td>\n",
       "      <td>441500.0</td>\n",
       "      <td>7.0</td>\n",
       "      <td>3.45</td>\n",
       "      <td>46.5</td>\n",
       "      <td>2105.0</td>\n",
       "    </tr>\n",
       "    <tr>\n",
       "      <th>4</th>\n",
       "      <td>1554138</td>\n",
       "      <td>0.25</td>\n",
       "      <td>1018333</td>\n",
       "      <td>151634</td>\n",
       "      <td>460100.0</td>\n",
       "      <td>7.0</td>\n",
       "      <td>3.54</td>\n",
       "      <td>45.0</td>\n",
       "      <td>2159.0</td>\n",
       "    </tr>\n",
       "  </tbody>\n",
       "</table>\n",
       "</div>"
      ],
      "text/plain": [
       "   Population  Afford_idx  Property_Crimes  Violent_Crimes  SalePrice  \\\n",
       "0     1554138        0.32          1018333          151634   429100.0   \n",
       "1     1554138        0.32          1018333          151634   428400.0   \n",
       "2     1554138        0.32          1018333          151634   436100.0   \n",
       "3     1554138        0.25          1018333          151634   441500.0   \n",
       "4     1554138        0.25          1018333          151634   460100.0   \n",
       "\n",
       "   UnemployRate  Rate  Days_On_Zillow  Monthly_List_Zillow  \n",
       "0           8.3  3.41            79.0               2326.0  \n",
       "1           7.8  3.53            70.0               2229.0  \n",
       "2           7.5  3.57            51.0               2115.0  \n",
       "3           7.0  3.45            46.5               2105.0  \n",
       "4           7.0  3.54            45.0               2159.0  "
      ]
     },
     "execution_count": 5,
     "metadata": {},
     "output_type": "execute_result"
    }
   ],
   "source": [
    "data.head()"
   ]
  },
  {
   "cell_type": "code",
   "execution_count": 6,
   "metadata": {
    "_uuid": "8e5b456860d5946e3659979beccf4508332cba0e"
   },
   "outputs": [
    {
     "name": "stdout",
     "output_type": "stream",
     "text": [
      "<class 'pandas.core.frame.DataFrame'>\n",
      "Int64Index: 61 entries, 0 to 60\n",
      "Data columns (total 9 columns):\n",
      "Population             61 non-null int64\n",
      "Afford_idx             61 non-null float64\n",
      "Property_Crimes        61 non-null int64\n",
      "Violent_Crimes         61 non-null int64\n",
      "SalePrice              61 non-null float64\n",
      "UnemployRate           61 non-null float64\n",
      "Rate                   61 non-null float64\n",
      "Days_On_Zillow         61 non-null float64\n",
      "Monthly_List_Zillow    61 non-null float64\n",
      "dtypes: float64(6), int64(3)\n",
      "memory usage: 4.8 KB\n"
     ]
    }
   ],
   "source": [
    "data.info()"
   ]
  },
  {
   "cell_type": "markdown",
   "metadata": {
    "_uuid": "1783019dec15f155b97050626ef60551f1d5f3c4"
   },
   "source": [
    "<a id=\"3-2\"></a>\n",
    "## Selecting features based on correlation\n",
    "Generating the correlation matrix"
   ]
  },
  {
   "cell_type": "code",
   "execution_count": 7,
   "metadata": {
    "_uuid": "083036d67602027661d7cf882653dbb74644315c"
   },
   "outputs": [
    {
     "data": {
      "text/html": [
       "<div>\n",
       "<style scoped>\n",
       "    .dataframe tbody tr th:only-of-type {\n",
       "        vertical-align: middle;\n",
       "    }\n",
       "\n",
       "    .dataframe tbody tr th {\n",
       "        vertical-align: top;\n",
       "    }\n",
       "\n",
       "    .dataframe thead th {\n",
       "        text-align: right;\n",
       "    }\n",
       "</style>\n",
       "<table border=\"1\" class=\"dataframe\">\n",
       "  <thead>\n",
       "    <tr style=\"text-align: right;\">\n",
       "      <th></th>\n",
       "      <th>Population</th>\n",
       "      <th>Afford_idx</th>\n",
       "      <th>Property_Crimes</th>\n",
       "      <th>Violent_Crimes</th>\n",
       "      <th>SalePrice</th>\n",
       "      <th>UnemployRate</th>\n",
       "      <th>Rate</th>\n",
       "      <th>Days_On_Zillow</th>\n",
       "      <th>Monthly_List_Zillow</th>\n",
       "    </tr>\n",
       "  </thead>\n",
       "  <tbody>\n",
       "    <tr>\n",
       "      <th>Population</th>\n",
       "      <td>1.000000</td>\n",
       "      <td>-0.415892</td>\n",
       "      <td>-0.055347</td>\n",
       "      <td>0.908569</td>\n",
       "      <td>0.968012</td>\n",
       "      <td>-0.935076</td>\n",
       "      <td>-0.183143</td>\n",
       "      <td>-0.252730</td>\n",
       "      <td>-0.462145</td>\n",
       "    </tr>\n",
       "    <tr>\n",
       "      <th>Afford_idx</th>\n",
       "      <td>-0.415892</td>\n",
       "      <td>1.000000</td>\n",
       "      <td>0.386625</td>\n",
       "      <td>-0.198944</td>\n",
       "      <td>-0.465295</td>\n",
       "      <td>0.489153</td>\n",
       "      <td>-0.458531</td>\n",
       "      <td>0.607849</td>\n",
       "      <td>0.160462</td>\n",
       "    </tr>\n",
       "    <tr>\n",
       "      <th>Property_Crimes</th>\n",
       "      <td>-0.055347</td>\n",
       "      <td>0.386625</td>\n",
       "      <td>1.000000</td>\n",
       "      <td>0.175542</td>\n",
       "      <td>-0.114926</td>\n",
       "      <td>0.105521</td>\n",
       "      <td>-0.372086</td>\n",
       "      <td>0.114445</td>\n",
       "      <td>0.054861</td>\n",
       "    </tr>\n",
       "    <tr>\n",
       "      <th>Violent_Crimes</th>\n",
       "      <td>0.908569</td>\n",
       "      <td>-0.198944</td>\n",
       "      <td>0.175542</td>\n",
       "      <td>1.000000</td>\n",
       "      <td>0.918206</td>\n",
       "      <td>-0.880449</td>\n",
       "      <td>-0.352333</td>\n",
       "      <td>-0.205527</td>\n",
       "      <td>-0.544436</td>\n",
       "    </tr>\n",
       "    <tr>\n",
       "      <th>SalePrice</th>\n",
       "      <td>0.968012</td>\n",
       "      <td>-0.465295</td>\n",
       "      <td>-0.114926</td>\n",
       "      <td>0.918206</td>\n",
       "      <td>1.000000</td>\n",
       "      <td>-0.959253</td>\n",
       "      <td>-0.109471</td>\n",
       "      <td>-0.317180</td>\n",
       "      <td>-0.556541</td>\n",
       "    </tr>\n",
       "  </tbody>\n",
       "</table>\n",
       "</div>"
      ],
      "text/plain": [
       "                 Population  Afford_idx  Property_Crimes  Violent_Crimes  \\\n",
       "Population         1.000000   -0.415892        -0.055347        0.908569   \n",
       "Afford_idx        -0.415892    1.000000         0.386625       -0.198944   \n",
       "Property_Crimes   -0.055347    0.386625         1.000000        0.175542   \n",
       "Violent_Crimes     0.908569   -0.198944         0.175542        1.000000   \n",
       "SalePrice          0.968012   -0.465295        -0.114926        0.918206   \n",
       "\n",
       "                 SalePrice  UnemployRate      Rate  Days_On_Zillow  \\\n",
       "Population        0.968012     -0.935076 -0.183143       -0.252730   \n",
       "Afford_idx       -0.465295      0.489153 -0.458531        0.607849   \n",
       "Property_Crimes  -0.114926      0.105521 -0.372086        0.114445   \n",
       "Violent_Crimes    0.918206     -0.880449 -0.352333       -0.205527   \n",
       "SalePrice         1.000000     -0.959253 -0.109471       -0.317180   \n",
       "\n",
       "                 Monthly_List_Zillow  \n",
       "Population                 -0.462145  \n",
       "Afford_idx                  0.160462  \n",
       "Property_Crimes             0.054861  \n",
       "Violent_Crimes             -0.544436  \n",
       "SalePrice                  -0.556541  "
      ]
     },
     "execution_count": 7,
     "metadata": {},
     "output_type": "execute_result"
    }
   ],
   "source": [
    "corr = data.corr()\n",
    "corr.head()"
   ]
  },
  {
   "cell_type": "markdown",
   "metadata": {
    "_uuid": "9b527f6897c96ee3c2ad177a6ff8b534ea48a537"
   },
   "source": [
    "Generating the correlation heatmap"
   ]
  },
  {
   "cell_type": "code",
   "execution_count": 8,
   "metadata": {
    "_uuid": "7d4de17f2e5239e465cbd16d8f69b336e8bc9ee5"
   },
   "outputs": [
    {
     "data": {
      "text/plain": [
       "<matplotlib.axes._subplots.AxesSubplot at 0x252d15c36d8>"
      ]
     },
     "execution_count": 8,
     "metadata": {},
     "output_type": "execute_result"
    },
    {
     "data": {
      "image/png": "[encoded data removed]",
      "text/plain": [
       "<Figure size 432x288 with 2 Axes>"
      ]
     },
     "metadata": {
      "needs_background": "light"
     },
     "output_type": "display_data"
    }
   ],
   "source": [
    "sns.heatmap(corr)"
   ]
  },
  {
   "cell_type": "markdown",
   "metadata": {
    "_uuid": "487cbebdc5561f76d83ae2911dda555ef2971168"
   },
   "source": [
    "Next, we compare the correlation between features and remove one of two features that have a correlation higher than 0.9"
   ]
  },
  {
   "cell_type": "code",
   "execution_count": 9,
   "metadata": {
    "_uuid": "455d0943dca0bd6acffa4e5c311177f302aa0ff1"
   },
   "outputs": [],
   "source": [
    "columns = np.full((corr.shape[0],), True, dtype=bool)\n",
    "for i in range(corr.shape[0]):\n",
    "    for j in range(i+1, corr.shape[0]):\n",
    "        if corr.iloc[i,j] >= 0.9:\n",
    "            if columns[j]:\n",
    "                columns[j] = False"
   ]
  },
  {
   "cell_type": "code",
   "execution_count": 10,
   "metadata": {
    "_uuid": "04ac00d25fc72d1ed799859ffc30a6a7cd250b6e"
   },
   "outputs": [],
   "source": [
    "selected_columns = data.columns[columns]\n",
    "\n"
   ]
  },
  {
   "cell_type": "markdown",
   "metadata": {
    "_uuid": "3fdc13d2628d95f6d7cd7764d5eecd487e9a8bb0"
   },
   "source": [
    "Above, we can see that only 7 columns selected. Adding SalesPrice column (what we want to predict) were selected."
   ]
  },
  {
   "cell_type": "code",
   "execution_count": 11,
   "metadata": {
    "_uuid": "c4d59498f6e444ccdf130fd8ebc2169447c14a32"
   },
   "outputs": [
    {
     "name": "stdout",
     "output_type": "stream",
     "text": [
      "Index(['Population', 'Afford_idx', 'Property_Crimes', 'UnemployRate', 'Rate',\n",
      "       'Days_On_Zillow', 'Monthly_List_Zillow'],\n",
      "      dtype='object')\n"
     ]
    }
   ],
   "source": [
    "data2 = data.copy()\n",
    "data2 = data2[selected_columns] \n",
    "\n",
    "print(selected_columns)\n",
    "\n",
    "# add sales price to data2\n",
    "data2['SalePrice'] = data['SalePrice']"
   ]
  },
  {
   "cell_type": "code",
   "execution_count": 12,
   "metadata": {},
   "outputs": [
    {
     "data": {
      "text/html": [
       "<div>\n",
       "<style scoped>\n",
       "    .dataframe tbody tr th:only-of-type {\n",
       "        vertical-align: middle;\n",
       "    }\n",
       "\n",
       "    .dataframe tbody tr th {\n",
       "        vertical-align: top;\n",
       "    }\n",
       "\n",
       "    .dataframe thead th {\n",
       "        text-align: right;\n",
       "    }\n",
       "</style>\n",
       "<table border=\"1\" class=\"dataframe\">\n",
       "  <thead>\n",
       "    <tr style=\"text-align: right;\">\n",
       "      <th></th>\n",
       "      <th>Population</th>\n",
       "      <th>Afford_idx</th>\n",
       "      <th>Property_Crimes</th>\n",
       "      <th>UnemployRate</th>\n",
       "      <th>Rate</th>\n",
       "      <th>Days_On_Zillow</th>\n",
       "      <th>Monthly_List_Zillow</th>\n",
       "      <th>SalePrice</th>\n",
       "    </tr>\n",
       "  </thead>\n",
       "  <tbody>\n",
       "    <tr>\n",
       "      <th>0</th>\n",
       "      <td>1554138</td>\n",
       "      <td>0.32</td>\n",
       "      <td>1018333</td>\n",
       "      <td>8.3</td>\n",
       "      <td>3.41</td>\n",
       "      <td>79.0</td>\n",
       "      <td>2326.0</td>\n",
       "      <td>429100.0</td>\n",
       "    </tr>\n",
       "    <tr>\n",
       "      <th>1</th>\n",
       "      <td>1554138</td>\n",
       "      <td>0.32</td>\n",
       "      <td>1018333</td>\n",
       "      <td>7.8</td>\n",
       "      <td>3.53</td>\n",
       "      <td>70.0</td>\n",
       "      <td>2229.0</td>\n",
       "      <td>428400.0</td>\n",
       "    </tr>\n",
       "    <tr>\n",
       "      <th>2</th>\n",
       "      <td>1554138</td>\n",
       "      <td>0.32</td>\n",
       "      <td>1018333</td>\n",
       "      <td>7.5</td>\n",
       "      <td>3.57</td>\n",
       "      <td>51.0</td>\n",
       "      <td>2115.0</td>\n",
       "      <td>436100.0</td>\n",
       "    </tr>\n",
       "    <tr>\n",
       "      <th>3</th>\n",
       "      <td>1554138</td>\n",
       "      <td>0.25</td>\n",
       "      <td>1018333</td>\n",
       "      <td>7.0</td>\n",
       "      <td>3.45</td>\n",
       "      <td>46.5</td>\n",
       "      <td>2105.0</td>\n",
       "      <td>441500.0</td>\n",
       "    </tr>\n",
       "    <tr>\n",
       "      <th>4</th>\n",
       "      <td>1554138</td>\n",
       "      <td>0.25</td>\n",
       "      <td>1018333</td>\n",
       "      <td>7.0</td>\n",
       "      <td>3.54</td>\n",
       "      <td>45.0</td>\n",
       "      <td>2159.0</td>\n",
       "      <td>460100.0</td>\n",
       "    </tr>\n",
       "  </tbody>\n",
       "</table>\n",
       "</div>"
      ],
      "text/plain": [
       "   Population  Afford_idx  Property_Crimes  UnemployRate  Rate  \\\n",
       "0     1554138        0.32          1018333           8.3  3.41   \n",
       "1     1554138        0.32          1018333           7.8  3.53   \n",
       "2     1554138        0.32          1018333           7.5  3.57   \n",
       "3     1554138        0.25          1018333           7.0  3.45   \n",
       "4     1554138        0.25          1018333           7.0  3.54   \n",
       "\n",
       "   Days_On_Zillow  Monthly_List_Zillow  SalePrice  \n",
       "0            79.0               2326.0   429100.0  \n",
       "1            70.0               2229.0   428400.0  \n",
       "2            51.0               2115.0   436100.0  \n",
       "3            46.5               2105.0   441500.0  \n",
       "4            45.0               2159.0   460100.0  "
      ]
     },
     "execution_count": 12,
     "metadata": {},
     "output_type": "execute_result"
    }
   ],
   "source": [
    "data2.head()"
   ]
  },
  {
   "cell_type": "markdown",
   "metadata": {
    "_uuid": "154b5c40af45ce83fbc3111b7b4bb3adb3d0df06"
   },
   "source": [
    "Now, the dataset has only those columns with correlation less than 0.9\n",
    "\n",
    "<a id=\"3-3\"></a>\n",
    "## Selecting columns based on p-value\n",
    "Next we will be selecting the columns based on how they affect the p-value. \n",
    "Note: selected columns do not include \"SalePrice\" column which is the data we want to predict."
   ]
  },
  {
   "cell_type": "code",
   "execution_count": 13,
   "metadata": {},
   "outputs": [],
   "source": [
    "import statsmodels.formula.api as sm"
   ]
  },
  {
   "cell_type": "code",
   "execution_count": 14,
   "metadata": {
    "_uuid": "d1b8bb41b3a5679c4b81c29771304f86be33427c"
   },
   "outputs": [],
   "source": [
    "def create_ols_string(columns, f_predict):  \n",
    "    num_cols = columns.size\n",
    "    ols_string=f_predict+'~'\n",
    "    for i in range(0, num_cols):\n",
    "        if (columns.values[i] != f_predict):\n",
    "            ols_string = ols_string+columns.values[i]+'+'\n",
    "    return ols_string[0:-1]\n",
    " \n",
    "\n",
    "def backwardElimination(data_df, sl, columns, f_predict):\n",
    "    numVars = data_df.columns.size\n",
    "    print('numVars ' + str(numVars))\n",
    "    for i in range(0, numVars):\n",
    "        print('i' + str(i))\n",
    "\n",
    "        ols_string = create_ols_string(columns, f_predict)\n",
    "        print(ols_string)\n",
    "        regressor_OLS = sm.ols(ols_string, data=data_df).fit()\n",
    "        \n",
    "        maxVar = max(regressor_OLS.pvalues)\n",
    "        print('maxVar ' + str(maxVar))\n",
    "        if maxVar > sl:\n",
    "            for j in range(0, numVars - i):\n",
    "                print('j' + str(j))\n",
    "                if (regressor_OLS.pvalues[j] == maxVar):\n",
    "                    print('in if block')\n",
    "                    print(data_df.columns.size)\n",
    "                    data_df.drop(data_df.columns[j], axis=1, inplace=True)\n",
    "                    columns = np.delete(columns, j)\n",
    "                    \n",
    "    regressor_OLS.summary() \n",
    "    \n",
    "    return data_df, columns"
   ]
  },
  {
   "cell_type": "code",
   "execution_count": 15,
   "metadata": {},
   "outputs": [],
   "source": [
    "SL = 0.05\n",
    "\n",
    "import statsmodels.formula.api as sm \n",
    "df = data2 "
   ]
  },
  {
   "cell_type": "code",
   "execution_count": 16,
   "metadata": {
    "_uuid": "222fe5cf29329a0802e161ae312f09b1dbb28b41",
    "scrolled": true
   },
   "outputs": [
    {
     "name": "stdout",
     "output_type": "stream",
     "text": [
      "numVars 8\n",
      "i0\n",
      "SalePrice~Population+Afford_idx+Property_Crimes+UnemployRate+Rate+Days_On_Zillow+Monthly_List_Zillow\n",
      "maxVar 0.3868073490414282\n",
      "j0\n",
      "j1\n",
      "j2\n",
      "j3\n",
      "in if block\n",
      "8\n",
      "j4\n",
      "j5\n",
      "j6\n",
      "j7\n",
      "i1\n",
      "SalePrice~Population+Afford_idx+Property_Crimes+Rate+Days_On_Zillow+Monthly_List_Zillow\n",
      "maxVar 0.8113488003213623\n",
      "j0\n",
      "j1\n",
      "j2\n",
      "in if block\n",
      "7\n",
      "j3\n",
      "j4\n",
      "j5\n",
      "j6\n",
      "i2\n",
      "SalePrice~Population+Afford_idx+Rate+Days_On_Zillow+Monthly_List_Zillow\n",
      "maxVar 0.5775604785184019\n",
      "j0\n",
      "j1\n",
      "j2\n",
      "in if block\n",
      "6\n",
      "j3\n",
      "j4\n",
      "j5\n",
      "i3\n",
      "SalePrice~Population+Afford_idx+Days_On_Zillow+Monthly_List_Zillow\n",
      "maxVar 0.276576308413528\n",
      "j0\n",
      "j1\n",
      "j2\n",
      "j3\n",
      "in if block\n",
      "5\n",
      "j4\n",
      "i4\n",
      "SalePrice~Population+Afford_idx+Days_On_Zillow\n",
      "maxVar 0.3156001056156018\n",
      "j0\n",
      "j1\n",
      "j2\n",
      "in if block\n",
      "4\n",
      "j3\n",
      "i5\n",
      "SalePrice~Population+Afford_idx\n",
      "maxVar 0.033580735922866776\n",
      "i6\n",
      "SalePrice~Population+Afford_idx\n",
      "maxVar 0.033580735922866776\n",
      "i7\n",
      "SalePrice~Population+Afford_idx\n",
      "maxVar 0.033580735922866776\n"
     ]
    }
   ],
   "source": [
    "\n",
    "\n",
    "#data_modeled = sm.ols('SalePrice~Population+Afford_idx+Property_Crimes+UnemployRate+Rate+Days_On_Zillow+Monthly_List_Zillow', data=df).fit()\n",
    "#data_modeled.summary()\n",
    "#maxVar = max(data_modeled.pvalues) \n",
    "\n",
    "        \n",
    "data_modeled, selected_columns = backwardElimination(df, SL, selected_columns, 'SalePrice')"
   ]
  },
  {
   "cell_type": "markdown",
   "metadata": {
    "_uuid": "ab66b1a3fe6b3f4033fcd8081a952b0531b0ae24"
   },
   "source": [
    "Moving the result to a new dataframe"
   ]
  },
  {
   "cell_type": "code",
   "execution_count": 17,
   "metadata": {
    "_uuid": "bf33d3c3e94ef38c467370880d3199a3a972065b"
   },
   "outputs": [
    {
     "data": {
      "text/html": [
       "<div>\n",
       "<style scoped>\n",
       "    .dataframe tbody tr th:only-of-type {\n",
       "        vertical-align: middle;\n",
       "    }\n",
       "\n",
       "    .dataframe tbody tr th {\n",
       "        vertical-align: top;\n",
       "    }\n",
       "\n",
       "    .dataframe thead th {\n",
       "        text-align: right;\n",
       "    }\n",
       "</style>\n",
       "<table border=\"1\" class=\"dataframe\">\n",
       "  <thead>\n",
       "    <tr style=\"text-align: right;\">\n",
       "      <th></th>\n",
       "      <th>SalePrice</th>\n",
       "    </tr>\n",
       "  </thead>\n",
       "  <tbody>\n",
       "    <tr>\n",
       "      <th>0</th>\n",
       "      <td>1554138</td>\n",
       "    </tr>\n",
       "    <tr>\n",
       "      <th>1</th>\n",
       "      <td>1554138</td>\n",
       "    </tr>\n",
       "    <tr>\n",
       "      <th>2</th>\n",
       "      <td>1554138</td>\n",
       "    </tr>\n",
       "    <tr>\n",
       "      <th>3</th>\n",
       "      <td>1554138</td>\n",
       "    </tr>\n",
       "    <tr>\n",
       "      <th>4</th>\n",
       "      <td>1554138</td>\n",
       "    </tr>\n",
       "  </tbody>\n",
       "</table>\n",
       "</div>"
      ],
      "text/plain": [
       "   SalePrice\n",
       "0    1554138\n",
       "1    1554138\n",
       "2    1554138\n",
       "3    1554138\n",
       "4    1554138"
      ]
     },
     "execution_count": 17,
     "metadata": {},
     "output_type": "execute_result"
    }
   ],
   "source": [
    "result = pd.DataFrame()\n",
    "\n",
    "result['SalePrice'] = data.iloc[:,0]\n",
    "result.head()"
   ]
  },
  {
   "cell_type": "markdown",
   "metadata": {
    "_uuid": "26a49c01882b7ed370897d788e1afba36bd14c7f"
   },
   "source": [
    "Creating a dataframe with the columns selected using the p-value and correlation"
   ]
  },
  {
   "cell_type": "code",
   "execution_count": 28,
   "metadata": {
    "_uuid": "e34d076a237c42791178625f8e020c903ce249da"
   },
   "outputs": [
    {
     "data": {
      "text/html": [
       "<div>\n",
       "<style scoped>\n",
       "    .dataframe tbody tr th:only-of-type {\n",
       "        vertical-align: middle;\n",
       "    }\n",
       "\n",
       "    .dataframe tbody tr th {\n",
       "        vertical-align: top;\n",
       "    }\n",
       "\n",
       "    .dataframe thead th {\n",
       "        text-align: right;\n",
       "    }\n",
       "</style>\n",
       "<table border=\"1\" class=\"dataframe\">\n",
       "  <thead>\n",
       "    <tr style=\"text-align: right;\">\n",
       "      <th></th>\n",
       "      <th>Population</th>\n",
       "      <th>Afford_idx</th>\n",
       "    </tr>\n",
       "  </thead>\n",
       "  <tbody>\n",
       "    <tr>\n",
       "      <th>0</th>\n",
       "      <td>1554138</td>\n",
       "      <td>0.32</td>\n",
       "    </tr>\n",
       "    <tr>\n",
       "      <th>1</th>\n",
       "      <td>1554138</td>\n",
       "      <td>0.32</td>\n",
       "    </tr>\n",
       "    <tr>\n",
       "      <th>2</th>\n",
       "      <td>1554138</td>\n",
       "      <td>0.32</td>\n",
       "    </tr>\n",
       "    <tr>\n",
       "      <th>3</th>\n",
       "      <td>1554138</td>\n",
       "      <td>0.25</td>\n",
       "    </tr>\n",
       "    <tr>\n",
       "      <th>4</th>\n",
       "      <td>1554138</td>\n",
       "      <td>0.25</td>\n",
       "    </tr>\n",
       "  </tbody>\n",
       "</table>\n",
       "</div>"
      ],
      "text/plain": [
       "   Population  Afford_idx\n",
       "0     1554138        0.32\n",
       "1     1554138        0.32\n",
       "2     1554138        0.32\n",
       "3     1554138        0.25\n",
       "4     1554138        0.25"
      ]
     },
     "execution_count": 28,
     "metadata": {},
     "output_type": "execute_result"
    }
   ],
   "source": [
    "data = pd.DataFrame(data = data_modeled, columns = selected_columns)\n",
    "\n",
    "data.head()"
   ]
  },
  {
   "cell_type": "markdown",
   "metadata": {
    "_uuid": "178407cc6b5e7ee3de1da4451c358d6d8a6b5a19"
   },
   "source": [
    "\n",
    "## ??Visualizing the selected features\n",
    "Plotting the data to visualize their distribution"
   ]
  },
  {
   "cell_type": "code",
   "execution_count": 27,
   "metadata": {
    "_uuid": "ce793b8f8e6cca7099094e5798884ed09a74e416"
   },
   "outputs": [
    {
     "name": "stderr",
     "output_type": "stream",
     "text": [
      "No handles with labels found to put in legend.\n",
      "No handles with labels found to put in legend.\n"
     ]
    },
    {
     "data": {
      "image/png": "[encoded data removed]",
      "text/plain": [
       "<Figure size 1440x1800 with 2 Axes>"
      ]
     },
     "metadata": {
      "needs_background": "light"
     },
     "output_type": "display_data"
    }
   ],
   "source": [
    "fig = plt.figure(figsize = (20, 25))\n",
    "j = 0\n",
    "for i in data.columns:\n",
    "    plt.subplot(6, 4, j+1)\n",
    "    j += 1\n",
    "    sns.distplot(data[i], color='g')\n",
    "    #sns.distplot(data[i][result['SalePrice']==0], color='g', label = 'SalePrice')\n",
    "    plt.legend(loc='best')\n",
    "fig.suptitle('Sale Price analysis')\n",
    "fig.tight_layout()\n",
    "fig.subplots_adjust(top=0.95)\n",
    "plt.show()"
   ]
  },
  {
   "cell_type": "code",
   "execution_count": null,
   "metadata": {},
   "outputs": [],
   "source": []
  },
  {
   "cell_type": "markdown",
   "metadata": {
    "_uuid": "edc9a44c58fa05255d740cb60ace232f6f349cf3"
   },
   "source": [
    "Now we split the data to train and test set. 20% of the data is used to create the test data and 80% to create the train data"
   ]
  },
  {
   "cell_type": "code",
   "execution_count": 20,
   "metadata": {
    "_uuid": "2add1d7fc420bbce550904a7a9b3fba4a03df6aa"
   },
   "outputs": [],
   "source": [
    "x_train, x_test, y_train, y_test = train_test_split(data.values, result.values, test_size = 0.2)"
   ]
  },
  {
   "cell_type": "markdown",
   "metadata": {
    "_uuid": "0cef6534bcf5e7163471afdded212d640ff6b7ac"
   },
   "source": [
    "<a id=\"3-5\"></a>\n",
    "## ??Building a model with the selected features\n",
    "We are using a [Support Vector Classifier](https://en.wikipedia.org/wiki/Support_vector_machine) with a [Gaussian Kernel](https://en.wikipedia.org/wiki/Gaussian_function) to make the predictions. We will train the model on our train data and calculate the accuracy of the model using the test data"
   ]
  },
  {
   "cell_type": "code",
   "execution_count": 21,
   "metadata": {
    "_uuid": "b309c3e9e6792e0a77ead881ebdeba389c5e6090"
   },
   "outputs": [
    {
     "data": {
      "text/plain": [
       "SVC(C=1.0, cache_size=200, class_weight=None, coef0=0.0,\n",
       "    decision_function_shape='ovr', degree=3, gamma='auto_deprecated',\n",
       "    kernel='rbf', max_iter=-1, probability=False, random_state=None,\n",
       "    shrinking=True, tol=0.001, verbose=False)"
      ]
     },
     "execution_count": 21,
     "metadata": {},
     "output_type": "execute_result"
    }
   ],
   "source": [
    "svc = SVC()              # The default kernel used by SVC is the gaussian kernel\n",
    "svc.fit(x_train, y_train)"
   ]
  },
  {
   "cell_type": "markdown",
   "metadata": {
    "_uuid": "a825102e3ba3ec07cf73391ba32898448a1d6437"
   },
   "source": [
    "Making the predictions and calculating the accuracy"
   ]
  },
  {
   "cell_type": "code",
   "execution_count": 22,
   "metadata": {
    "_uuid": "2761b281c43e0420ba7bc11a81410ef9f364d8b9"
   },
   "outputs": [],
   "source": [
    "prediction = svc.predict(x_test)"
   ]
  },
  {
   "cell_type": "markdown",
   "metadata": {
    "_uuid": "6e7b5d28c7cab366694a0b48d9cd393c32c5588f"
   },
   "source": [
    "We are using a [confusion matrix](https://en.wikipedia.org/wiki/Confusion_matrix) here"
   ]
  },
  {
   "cell_type": "code",
   "execution_count": 23,
   "metadata": {
    "_uuid": "50d6c6be368067bc26e3326010eb3811f115e5ef"
   },
   "outputs": [
    {
     "name": "stdout",
     "output_type": "stream",
     "text": [
      "1.0\n"
     ]
    }
   ],
   "source": [
    "cm = confusion_matrix(y_test, prediction)\n",
    "sum = 0\n",
    "for i in range(cm.shape[0]):\n",
    "    sum += cm[i][i]\n",
    "    \n",
    "accuracy = sum/x_test.shape[0]\n",
    "print(accuracy)"
   ]
  },
  {
   "cell_type": "markdown",
   "metadata": {
    "_uuid": "7b8f78ed1b64bc2a6da096831a863b5969ca5f06"
   },
   "source": [
    "<a id=\"3-6\"></a>\n",
    "## ??Building a model without feature selection and comparing the results\n",
    "Next, we repeat all the above steps except feature selection, which are:\n",
    "* Loading the data\n",
    "* Removing the unwanted columns\n",
    "* Encoding the categorical variable\n",
    "* Splitting the data into train and test set\n",
    "* Fitting the data to the model\n",
    "* Making the predictions and calculating the accuracy"
   ]
  },
  {
   "cell_type": "code",
   "execution_count": 24,
   "metadata": {
    "_uuid": "62b6aba135729480fead5738ac8910e578b47d73"
   },
   "outputs": [
    {
     "ename": "FileNotFoundError",
     "evalue": "[Errno 2] File b'../input/data.csv' does not exist: b'../input/data.csv'",
     "output_type": "error",
     "traceback": [
      "\u001b[1;31m---------------------------------------------------------------------------\u001b[0m",
      "\u001b[1;31mFileNotFoundError\u001b[0m                         Traceback (most recent call last)",
      "\u001b[1;32m<ipython-input-24-2f4a6f1c49d5>\u001b[0m in \u001b[0;36m<module>\u001b[1;34m\u001b[0m\n\u001b[1;32m----> 1\u001b[1;33m \u001b[0mdata\u001b[0m \u001b[1;33m=\u001b[0m \u001b[0mpd\u001b[0m\u001b[1;33m.\u001b[0m\u001b[0mread_csv\u001b[0m\u001b[1;33m(\u001b[0m\u001b[1;34m'../input/data.csv'\u001b[0m\u001b[1;33m)\u001b[0m\u001b[1;33m\u001b[0m\u001b[1;33m\u001b[0m\u001b[0m\n\u001b[0m\u001b[0;32m      2\u001b[0m \u001b[0mresult\u001b[0m \u001b[1;33m=\u001b[0m \u001b[0mpd\u001b[0m\u001b[1;33m.\u001b[0m\u001b[0mDataFrame\u001b[0m\u001b[1;33m(\u001b[0m\u001b[1;33m)\u001b[0m\u001b[1;33m\u001b[0m\u001b[1;33m\u001b[0m\u001b[0m\n\u001b[0;32m      3\u001b[0m \u001b[0mresult\u001b[0m\u001b[1;33m[\u001b[0m\u001b[1;34m'diagnosis'\u001b[0m\u001b[1;33m]\u001b[0m \u001b[1;33m=\u001b[0m \u001b[0mdata\u001b[0m\u001b[1;33m.\u001b[0m\u001b[0miloc\u001b[0m\u001b[1;33m[\u001b[0m\u001b[1;33m:\u001b[0m\u001b[1;33m,\u001b[0m\u001b[1;36m1\u001b[0m\u001b[1;33m]\u001b[0m\u001b[1;33m\u001b[0m\u001b[1;33m\u001b[0m\u001b[0m\n\u001b[0;32m      4\u001b[0m \u001b[0mdata\u001b[0m \u001b[1;33m=\u001b[0m \u001b[0mdata\u001b[0m\u001b[1;33m.\u001b[0m\u001b[0miloc\u001b[0m\u001b[1;33m[\u001b[0m\u001b[1;33m:\u001b[0m\u001b[1;33m,\u001b[0m\u001b[1;36m2\u001b[0m\u001b[1;33m:\u001b[0m\u001b[1;33m-\u001b[0m\u001b[1;36m1\u001b[0m\u001b[1;33m]\u001b[0m\u001b[1;33m\u001b[0m\u001b[1;33m\u001b[0m\u001b[0m\n\u001b[0;32m      5\u001b[0m \u001b[0mlabel_encoder\u001b[0m \u001b[1;33m=\u001b[0m \u001b[0mLabelEncoder\u001b[0m\u001b[1;33m(\u001b[0m\u001b[1;33m)\u001b[0m\u001b[1;33m\u001b[0m\u001b[1;33m\u001b[0m\u001b[0m\n",
      "\u001b[1;32m~\\Anaconda3\\lib\\site-packages\\pandas\\io\\parsers.py\u001b[0m in \u001b[0;36mparser_f\u001b[1;34m(filepath_or_buffer, sep, delimiter, header, names, index_col, usecols, squeeze, prefix, mangle_dupe_cols, dtype, engine, converters, true_values, false_values, skipinitialspace, skiprows, skipfooter, nrows, na_values, keep_default_na, na_filter, verbose, skip_blank_lines, parse_dates, infer_datetime_format, keep_date_col, date_parser, dayfirst, iterator, chunksize, compression, thousands, decimal, lineterminator, quotechar, quoting, doublequote, escapechar, comment, encoding, dialect, tupleize_cols, error_bad_lines, warn_bad_lines, delim_whitespace, low_memory, memory_map, float_precision)\u001b[0m\n\u001b[0;32m    700\u001b[0m                     skip_blank_lines=skip_blank_lines)\n\u001b[0;32m    701\u001b[0m \u001b[1;33m\u001b[0m\u001b[0m\n\u001b[1;32m--> 702\u001b[1;33m         \u001b[1;32mreturn\u001b[0m \u001b[0m_read\u001b[0m\u001b[1;33m(\u001b[0m\u001b[0mfilepath_or_buffer\u001b[0m\u001b[1;33m,\u001b[0m \u001b[0mkwds\u001b[0m\u001b[1;33m)\u001b[0m\u001b[1;33m\u001b[0m\u001b[1;33m\u001b[0m\u001b[0m\n\u001b[0m\u001b[0;32m    703\u001b[0m \u001b[1;33m\u001b[0m\u001b[0m\n\u001b[0;32m    704\u001b[0m     \u001b[0mparser_f\u001b[0m\u001b[1;33m.\u001b[0m\u001b[0m__name__\u001b[0m \u001b[1;33m=\u001b[0m \u001b[0mname\u001b[0m\u001b[1;33m\u001b[0m\u001b[1;33m\u001b[0m\u001b[0m\n",
      "\u001b[1;32m~\\Anaconda3\\lib\\site-packages\\pandas\\io\\parsers.py\u001b[0m in \u001b[0;36m_read\u001b[1;34m(filepath_or_buffer, kwds)\u001b[0m\n\u001b[0;32m    427\u001b[0m \u001b[1;33m\u001b[0m\u001b[0m\n\u001b[0;32m    428\u001b[0m     \u001b[1;31m# Create the parser.\u001b[0m\u001b[1;33m\u001b[0m\u001b[1;33m\u001b[0m\u001b[1;33m\u001b[0m\u001b[0m\n\u001b[1;32m--> 429\u001b[1;33m     \u001b[0mparser\u001b[0m \u001b[1;33m=\u001b[0m \u001b[0mTextFileReader\u001b[0m\u001b[1;33m(\u001b[0m\u001b[0mfilepath_or_buffer\u001b[0m\u001b[1;33m,\u001b[0m \u001b[1;33m**\u001b[0m\u001b[0mkwds\u001b[0m\u001b[1;33m)\u001b[0m\u001b[1;33m\u001b[0m\u001b[1;33m\u001b[0m\u001b[0m\n\u001b[0m\u001b[0;32m    430\u001b[0m \u001b[1;33m\u001b[0m\u001b[0m\n\u001b[0;32m    431\u001b[0m     \u001b[1;32mif\u001b[0m \u001b[0mchunksize\u001b[0m \u001b[1;32mor\u001b[0m \u001b[0miterator\u001b[0m\u001b[1;33m:\u001b[0m\u001b[1;33m\u001b[0m\u001b[1;33m\u001b[0m\u001b[0m\n",
      "\u001b[1;32m~\\Anaconda3\\lib\\site-packages\\pandas\\io\\parsers.py\u001b[0m in \u001b[0;36m__init__\u001b[1;34m(self, f, engine, **kwds)\u001b[0m\n\u001b[0;32m    893\u001b[0m             \u001b[0mself\u001b[0m\u001b[1;33m.\u001b[0m\u001b[0moptions\u001b[0m\u001b[1;33m[\u001b[0m\u001b[1;34m'has_index_names'\u001b[0m\u001b[1;33m]\u001b[0m \u001b[1;33m=\u001b[0m \u001b[0mkwds\u001b[0m\u001b[1;33m[\u001b[0m\u001b[1;34m'has_index_names'\u001b[0m\u001b[1;33m]\u001b[0m\u001b[1;33m\u001b[0m\u001b[1;33m\u001b[0m\u001b[0m\n\u001b[0;32m    894\u001b[0m \u001b[1;33m\u001b[0m\u001b[0m\n\u001b[1;32m--> 895\u001b[1;33m         \u001b[0mself\u001b[0m\u001b[1;33m.\u001b[0m\u001b[0m_make_engine\u001b[0m\u001b[1;33m(\u001b[0m\u001b[0mself\u001b[0m\u001b[1;33m.\u001b[0m\u001b[0mengine\u001b[0m\u001b[1;33m)\u001b[0m\u001b[1;33m\u001b[0m\u001b[1;33m\u001b[0m\u001b[0m\n\u001b[0m\u001b[0;32m    896\u001b[0m \u001b[1;33m\u001b[0m\u001b[0m\n\u001b[0;32m    897\u001b[0m     \u001b[1;32mdef\u001b[0m \u001b[0mclose\u001b[0m\u001b[1;33m(\u001b[0m\u001b[0mself\u001b[0m\u001b[1;33m)\u001b[0m\u001b[1;33m:\u001b[0m\u001b[1;33m\u001b[0m\u001b[1;33m\u001b[0m\u001b[0m\n",
      "\u001b[1;32m~\\Anaconda3\\lib\\site-packages\\pandas\\io\\parsers.py\u001b[0m in \u001b[0;36m_make_engine\u001b[1;34m(self, engine)\u001b[0m\n\u001b[0;32m   1120\u001b[0m     \u001b[1;32mdef\u001b[0m \u001b[0m_make_engine\u001b[0m\u001b[1;33m(\u001b[0m\u001b[0mself\u001b[0m\u001b[1;33m,\u001b[0m \u001b[0mengine\u001b[0m\u001b[1;33m=\u001b[0m\u001b[1;34m'c'\u001b[0m\u001b[1;33m)\u001b[0m\u001b[1;33m:\u001b[0m\u001b[1;33m\u001b[0m\u001b[1;33m\u001b[0m\u001b[0m\n\u001b[0;32m   1121\u001b[0m         \u001b[1;32mif\u001b[0m \u001b[0mengine\u001b[0m \u001b[1;33m==\u001b[0m \u001b[1;34m'c'\u001b[0m\u001b[1;33m:\u001b[0m\u001b[1;33m\u001b[0m\u001b[1;33m\u001b[0m\u001b[0m\n\u001b[1;32m-> 1122\u001b[1;33m             \u001b[0mself\u001b[0m\u001b[1;33m.\u001b[0m\u001b[0m_engine\u001b[0m \u001b[1;33m=\u001b[0m \u001b[0mCParserWrapper\u001b[0m\u001b[1;33m(\u001b[0m\u001b[0mself\u001b[0m\u001b[1;33m.\u001b[0m\u001b[0mf\u001b[0m\u001b[1;33m,\u001b[0m \u001b[1;33m**\u001b[0m\u001b[0mself\u001b[0m\u001b[1;33m.\u001b[0m\u001b[0moptions\u001b[0m\u001b[1;33m)\u001b[0m\u001b[1;33m\u001b[0m\u001b[1;33m\u001b[0m\u001b[0m\n\u001b[0m\u001b[0;32m   1123\u001b[0m         \u001b[1;32melse\u001b[0m\u001b[1;33m:\u001b[0m\u001b[1;33m\u001b[0m\u001b[1;33m\u001b[0m\u001b[0m\n\u001b[0;32m   1124\u001b[0m             \u001b[1;32mif\u001b[0m \u001b[0mengine\u001b[0m \u001b[1;33m==\u001b[0m \u001b[1;34m'python'\u001b[0m\u001b[1;33m:\u001b[0m\u001b[1;33m\u001b[0m\u001b[1;33m\u001b[0m\u001b[0m\n",
      "\u001b[1;32m~\\Anaconda3\\lib\\site-packages\\pandas\\io\\parsers.py\u001b[0m in \u001b[0;36m__init__\u001b[1;34m(self, src, **kwds)\u001b[0m\n\u001b[0;32m   1851\u001b[0m         \u001b[0mkwds\u001b[0m\u001b[1;33m[\u001b[0m\u001b[1;34m'usecols'\u001b[0m\u001b[1;33m]\u001b[0m \u001b[1;33m=\u001b[0m \u001b[0mself\u001b[0m\u001b[1;33m.\u001b[0m\u001b[0musecols\u001b[0m\u001b[1;33m\u001b[0m\u001b[1;33m\u001b[0m\u001b[0m\n\u001b[0;32m   1852\u001b[0m \u001b[1;33m\u001b[0m\u001b[0m\n\u001b[1;32m-> 1853\u001b[1;33m         \u001b[0mself\u001b[0m\u001b[1;33m.\u001b[0m\u001b[0m_reader\u001b[0m \u001b[1;33m=\u001b[0m \u001b[0mparsers\u001b[0m\u001b[1;33m.\u001b[0m\u001b[0mTextReader\u001b[0m\u001b[1;33m(\u001b[0m\u001b[0msrc\u001b[0m\u001b[1;33m,\u001b[0m \u001b[1;33m**\u001b[0m\u001b[0mkwds\u001b[0m\u001b[1;33m)\u001b[0m\u001b[1;33m\u001b[0m\u001b[1;33m\u001b[0m\u001b[0m\n\u001b[0m\u001b[0;32m   1854\u001b[0m         \u001b[0mself\u001b[0m\u001b[1;33m.\u001b[0m\u001b[0munnamed_cols\u001b[0m \u001b[1;33m=\u001b[0m \u001b[0mself\u001b[0m\u001b[1;33m.\u001b[0m\u001b[0m_reader\u001b[0m\u001b[1;33m.\u001b[0m\u001b[0munnamed_cols\u001b[0m\u001b[1;33m\u001b[0m\u001b[1;33m\u001b[0m\u001b[0m\n\u001b[0;32m   1855\u001b[0m \u001b[1;33m\u001b[0m\u001b[0m\n",
      "\u001b[1;32mpandas/_libs/parsers.pyx\u001b[0m in \u001b[0;36mpandas._libs.parsers.TextReader.__cinit__\u001b[1;34m()\u001b[0m\n",
      "\u001b[1;32mpandas/_libs/parsers.pyx\u001b[0m in \u001b[0;36mpandas._libs.parsers.TextReader._setup_parser_source\u001b[1;34m()\u001b[0m\n",
      "\u001b[1;31mFileNotFoundError\u001b[0m: [Errno 2] File b'../input/data.csv' does not exist: b'../input/data.csv'"
     ]
    }
   ],
   "source": [
    "data = pd.read_csv('../input/data.csv')          \n",
    "result = pd.DataFrame()\n",
    "result['diagnosis'] = data.iloc[:,1]\n",
    "data = data.iloc[:,2:-1]                         \n",
    "label_encoder = LabelEncoder()              \n",
    "data.iloc[:,0] = label_encoder.fit_transform(data.iloc[:,0]).astype('float64')    \n",
    "x_train, x_test, y_train, y_test = train_test_split(data.values, result.values, test_size = 0.2)      \n",
    "svc = SVC()\n",
    "svc.fit(x_train, y_train)                        \n",
    "prediction = svc.predict(x_test)                 \n",
    "cm = confusion_matrix(y_test, prediction)        \n",
    "sum = 0\n",
    "for i in range(cm.shape[0]):\n",
    "    sum += cm[i][i]\n",
    "    \n",
    "accuracy = sum/x_test.shape[0]                \n",
    "print(accuracy)"
   ]
  },
  {
   "cell_type": "markdown",
   "metadata": {
    "_uuid": "3dbed0f49922ecd221642c069bfe87f7a5e28194"
   },
   "source": [
    "Here we can see that the accuracy of the predictions is better when proper feature selection is performed"
   ]
  }
 ],
 "metadata": {
  "kernelspec": {
   "display_name": "Python 3",
   "language": "python",
   "name": "python3"
  },
  "language_info": {
   "codemirror_mode": {
    "name": "ipython",
    "version": 3
   },
   "file_extension": ".py",
   "mimetype": "text/x-python",
   "name": "python",
   "nbconvert_exporter": "python",
   "pygments_lexer": "ipython3",
   "version": "3.7.3"
  }
 },
 "nbformat": 4,
 "nbformat_minor": 1
}
