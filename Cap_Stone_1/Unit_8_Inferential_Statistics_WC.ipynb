{
 "cells": [
  {
   "cell_type": "code",
   "execution_count": 1,
   "metadata": {},
   "outputs": [
    {
     "name": "stderr",
     "output_type": "stream",
     "text": [
      "./unit_5_Data_Wrangling_WC.ipynb:9: SettingWithCopyWarning: \n",
      "A value is trying to be set on a copy of a slice from a DataFrame.\n",
      "Try using .loc[row_indexer,col_indexer] = value instead\n",
      "\n",
      "See the caveats in the documentation: http://pandas.pydata.org/pandas-docs/stable/indexing.html#indexing-view-versus-copy\n",
      "  },\n"
     ]
    }
   ],
   "source": [
    "# run data wrangling notebook first.\n",
    "%run ./unit_5_Data_Wrangling_WC.ipynb"
   ]
  },
  {
   "cell_type": "code",
   "execution_count": 2,
   "metadata": {},
   "outputs": [],
   "source": [
    "import numpy as np\n",
    "import pandas as pd\n",
    "import seaborn as sns\n",
    "import matplotlib.pyplot as plt"
   ]
  },
  {
   "cell_type": "code",
   "execution_count": 3,
   "metadata": {},
   "outputs": [],
   "source": [
    "#alameda_df= master_df_master[master_df_master.RegionName == 'Alameda County'] \n",
    "#alameda_df.reset_index(inplace=True)\n",
    "\n",
    "#print(alameda_df.head())\n",
    "#sacramento_df= master_df_master[master_df_master.RegionName == 'Sacramento County']\n",
    "#sacramento_df.reset_index(inplace=True)\n",
    "\n",
    "#la_df= master_df_master[master_df_master.RegionName == 'Los Angeles County']\n",
    "#la_df.reset_index(inplace=True)"
   ]
  },
  {
   "cell_type": "markdown",
   "metadata": {},
   "source": [
    "## 1. Calculate Pearson Correlation Coefficient "
   ]
  },
  {
   "cell_type": "markdown",
   "metadata": {},
   "source": [
    "### 1.1. Alameda\n",
    "\n",
    "Pearson Correlation coefficient with Sale Price for all variables:\n",
    "Unemployment Rate is -0.96 at strongest negative correlation. Mortgage rate has weakest correlation at -0.11. \n",
    "Only number of monthly listing in Zillow is over -0.5.  "
   ]
  },
  {
   "cell_type": "code",
   "execution_count": 4,
   "metadata": {},
   "outputs": [
    {
     "name": "stdout",
     "output_type": "stream",
     "text": [
      "<class 'pandas.core.frame.DataFrame'>\n",
      "Int64Index: 61 entries, 0 to 60\n",
      "Data columns (total 8 columns):\n",
      "Date                   61 non-null datetime64[ns]\n",
      "RegionName             61 non-null object\n",
      "Afford_idx             61 non-null float64\n",
      "SalePrice              61 non-null float64\n",
      "UnemployRate           61 non-null float64\n",
      "Rate                   61 non-null float64\n",
      "Days_On_Zillow         61 non-null float64\n",
      "Monthly_List_Zillow    61 non-null float64\n",
      "dtypes: datetime64[ns](1), float64(6), object(1)\n",
      "memory usage: 4.3+ KB\n"
     ]
    }
   ],
   "source": [
    "alameda_df = master_df_master[master_df_master.RegionName=='Alameda County'].copy()\n",
    "alameda_df.drop(['Population', 'Property_Crimes', 'Violent_Crimes'], axis=1, inplace=True)\n",
    "alameda_df.info()"
   ]
  },
  {
   "cell_type": "code",
   "execution_count": 5,
   "metadata": {},
   "outputs": [
    {
     "data": {
      "text/html": [
       "<div>\n",
       "<style scoped>\n",
       "    .dataframe tbody tr th:only-of-type {\n",
       "        vertical-align: middle;\n",
       "    }\n",
       "\n",
       "    .dataframe tbody tr th {\n",
       "        vertical-align: top;\n",
       "    }\n",
       "\n",
       "    .dataframe thead th {\n",
       "        text-align: right;\n",
       "    }\n",
       "</style>\n",
       "<table border=\"1\" class=\"dataframe\">\n",
       "  <thead>\n",
       "    <tr style=\"text-align: right;\">\n",
       "      <th></th>\n",
       "      <th>Afford_idx</th>\n",
       "      <th>SalePrice</th>\n",
       "      <th>UnemployRate</th>\n",
       "      <th>Rate</th>\n",
       "      <th>Days_On_Zillow</th>\n",
       "      <th>Monthly_List_Zillow</th>\n",
       "    </tr>\n",
       "  </thead>\n",
       "  <tbody>\n",
       "    <tr>\n",
       "      <th>Afford_idx</th>\n",
       "      <td>1.000000</td>\n",
       "      <td>-0.465295</td>\n",
       "      <td>0.489153</td>\n",
       "      <td>-0.458531</td>\n",
       "      <td>0.607849</td>\n",
       "      <td>0.160462</td>\n",
       "    </tr>\n",
       "    <tr>\n",
       "      <th>SalePrice</th>\n",
       "      <td>-0.465295</td>\n",
       "      <td>1.000000</td>\n",
       "      <td>-0.959253</td>\n",
       "      <td>-0.109471</td>\n",
       "      <td>-0.317180</td>\n",
       "      <td>-0.556541</td>\n",
       "    </tr>\n",
       "    <tr>\n",
       "      <th>UnemployRate</th>\n",
       "      <td>0.489153</td>\n",
       "      <td>-0.959253</td>\n",
       "      <td>1.000000</td>\n",
       "      <td>0.174267</td>\n",
       "      <td>0.339144</td>\n",
       "      <td>0.463926</td>\n",
       "    </tr>\n",
       "    <tr>\n",
       "      <th>Rate</th>\n",
       "      <td>-0.458531</td>\n",
       "      <td>-0.109471</td>\n",
       "      <td>0.174267</td>\n",
       "      <td>1.000000</td>\n",
       "      <td>-0.154545</td>\n",
       "      <td>0.053217</td>\n",
       "    </tr>\n",
       "    <tr>\n",
       "      <th>Days_On_Zillow</th>\n",
       "      <td>0.607849</td>\n",
       "      <td>-0.317180</td>\n",
       "      <td>0.339144</td>\n",
       "      <td>-0.154545</td>\n",
       "      <td>1.000000</td>\n",
       "      <td>0.173643</td>\n",
       "    </tr>\n",
       "  </tbody>\n",
       "</table>\n",
       "</div>"
      ],
      "text/plain": [
       "                Afford_idx  SalePrice  UnemployRate      Rate  Days_On_Zillow  \\\n",
       "Afford_idx        1.000000  -0.465295      0.489153 -0.458531        0.607849   \n",
       "SalePrice        -0.465295   1.000000     -0.959253 -0.109471       -0.317180   \n",
       "UnemployRate      0.489153  -0.959253      1.000000  0.174267        0.339144   \n",
       "Rate             -0.458531  -0.109471      0.174267  1.000000       -0.154545   \n",
       "Days_On_Zillow    0.607849  -0.317180      0.339144 -0.154545        1.000000   \n",
       "\n",
       "                Monthly_List_Zillow  \n",
       "Afford_idx                 0.160462  \n",
       "SalePrice                 -0.556541  \n",
       "UnemployRate               0.463926  \n",
       "Rate                       0.053217  \n",
       "Days_On_Zillow             0.173643  "
      ]
     },
     "execution_count": 5,
     "metadata": {},
     "output_type": "execute_result"
    }
   ],
   "source": [
    "alam_corr = alameda_df.corr()\n",
    "alam_corr.head()"
   ]
  },
  {
   "cell_type": "code",
   "execution_count": 6,
   "metadata": {},
   "outputs": [
    {
     "data": {
      "text/plain": [
       "<matplotlib.axes._subplots.AxesSubplot at 0x182deca4d30>"
      ]
     },
     "execution_count": 6,
     "metadata": {},
     "output_type": "execute_result"
    },
    {
     "data": {
      "image/png": "[encoded data removed]",
      "text/plain": [
       "<Figure size 432x288 with 2 Axes>"
      ]
     },
     "metadata": {
      "needs_background": "light"
     },
     "output_type": "display_data"
    }
   ],
   "source": [
    "sns.heatmap(alam_corr)"
   ]
  },
  {
   "cell_type": "markdown",
   "metadata": {},
   "source": [
    "### 1.2. Sacramento\n",
    "\n",
    "Pearson Correlation coefficient with Sale Price for all variables:\n",
    "Unemployment Rate is -0.95 at strongest negative correlation followed by Affordability indext at -0.89. \n",
    "Mortgage rate has weakest correlation at -0.09. \n",
    "Surprisingly, for this market, number of days on Zillow has correlation of -0.55 and number of monthly listing in Zillow is at 0.16. \n",
    "Just looking at Pearson coffecient, Sacramento market has different characteristics than Alameda. "
   ]
  },
  {
   "cell_type": "code",
   "execution_count": 7,
   "metadata": {},
   "outputs": [],
   "source": [
    "sac_df = master_df_master[master_df_master.RegionName=='Sacramento County'].copy()\n",
    "sac_df.drop(['Population', 'Property_Crimes', 'Violent_Crimes'], axis=1, inplace=True)"
   ]
  },
  {
   "cell_type": "code",
   "execution_count": 8,
   "metadata": {},
   "outputs": [
    {
     "data": {
      "text/html": [
       "<div>\n",
       "<style scoped>\n",
       "    .dataframe tbody tr th:only-of-type {\n",
       "        vertical-align: middle;\n",
       "    }\n",
       "\n",
       "    .dataframe tbody tr th {\n",
       "        vertical-align: top;\n",
       "    }\n",
       "\n",
       "    .dataframe thead th {\n",
       "        text-align: right;\n",
       "    }\n",
       "</style>\n",
       "<table border=\"1\" class=\"dataframe\">\n",
       "  <thead>\n",
       "    <tr style=\"text-align: right;\">\n",
       "      <th></th>\n",
       "      <th>Afford_idx</th>\n",
       "      <th>SalePrice</th>\n",
       "      <th>UnemployRate</th>\n",
       "      <th>Rate</th>\n",
       "      <th>Days_On_Zillow</th>\n",
       "      <th>Monthly_List_Zillow</th>\n",
       "    </tr>\n",
       "  </thead>\n",
       "  <tbody>\n",
       "    <tr>\n",
       "      <th>Afford_idx</th>\n",
       "      <td>1.000000</td>\n",
       "      <td>-0.885834</td>\n",
       "      <td>0.867977</td>\n",
       "      <td>-0.069754</td>\n",
       "      <td>0.573252</td>\n",
       "      <td>-0.298230</td>\n",
       "    </tr>\n",
       "    <tr>\n",
       "      <th>SalePrice</th>\n",
       "      <td>-0.885834</td>\n",
       "      <td>1.000000</td>\n",
       "      <td>-0.953217</td>\n",
       "      <td>-0.097158</td>\n",
       "      <td>-0.553002</td>\n",
       "      <td>0.158407</td>\n",
       "    </tr>\n",
       "    <tr>\n",
       "      <th>UnemployRate</th>\n",
       "      <td>0.867977</td>\n",
       "      <td>-0.953217</td>\n",
       "      <td>1.000000</td>\n",
       "      <td>0.204221</td>\n",
       "      <td>0.519833</td>\n",
       "      <td>-0.328659</td>\n",
       "    </tr>\n",
       "    <tr>\n",
       "      <th>Rate</th>\n",
       "      <td>-0.069754</td>\n",
       "      <td>-0.097158</td>\n",
       "      <td>0.204221</td>\n",
       "      <td>1.000000</td>\n",
       "      <td>0.010811</td>\n",
       "      <td>-0.278544</td>\n",
       "    </tr>\n",
       "    <tr>\n",
       "      <th>Days_On_Zillow</th>\n",
       "      <td>0.573252</td>\n",
       "      <td>-0.553002</td>\n",
       "      <td>0.519833</td>\n",
       "      <td>0.010811</td>\n",
       "      <td>1.000000</td>\n",
       "      <td>0.064255</td>\n",
       "    </tr>\n",
       "  </tbody>\n",
       "</table>\n",
       "</div>"
      ],
      "text/plain": [
       "                Afford_idx  SalePrice  UnemployRate      Rate  Days_On_Zillow  \\\n",
       "Afford_idx        1.000000  -0.885834      0.867977 -0.069754        0.573252   \n",
       "SalePrice        -0.885834   1.000000     -0.953217 -0.097158       -0.553002   \n",
       "UnemployRate      0.867977  -0.953217      1.000000  0.204221        0.519833   \n",
       "Rate             -0.069754  -0.097158      0.204221  1.000000        0.010811   \n",
       "Days_On_Zillow    0.573252  -0.553002      0.519833  0.010811        1.000000   \n",
       "\n",
       "                Monthly_List_Zillow  \n",
       "Afford_idx                -0.298230  \n",
       "SalePrice                  0.158407  \n",
       "UnemployRate              -0.328659  \n",
       "Rate                      -0.278544  \n",
       "Days_On_Zillow             0.064255  "
      ]
     },
     "execution_count": 8,
     "metadata": {},
     "output_type": "execute_result"
    }
   ],
   "source": [
    "sac_corr = sac_df.corr()\n",
    "sac_corr.head()"
   ]
  },
  {
   "cell_type": "code",
   "execution_count": 9,
   "metadata": {},
   "outputs": [
    {
     "data": {
      "text/plain": [
       "<matplotlib.axes._subplots.AxesSubplot at 0x182df01d860>"
      ]
     },
     "execution_count": 9,
     "metadata": {},
     "output_type": "execute_result"
    },
    {
     "data": {
      "image/png": "[encoded data removed]",
      "text/plain": [
       "<Figure size 432x288 with 2 Axes>"
      ]
     },
     "metadata": {
      "needs_background": "light"
     },
     "output_type": "display_data"
    }
   ],
   "source": [
    "sns.heatmap(sac_corr)"
   ]
  },
  {
   "cell_type": "markdown",
   "metadata": {},
   "source": [
    "### 1.3. L.A.\n",
    "\n",
    "Pearson Correlation coefficient with Sale Price for all variables:\n",
    "Unemployment Rate is -0.93 at strongest negative correlation followed by Affordability indext and Monthly listing at -0.67. \n",
    "Mortgage rate has weakest correlation at -0.11. \n",
    "L.A. is yet again different from Sacramento and Alameda in that affordability index and number of monthly listing is over -0.5."
   ]
  },
  {
   "cell_type": "code",
   "execution_count": 10,
   "metadata": {},
   "outputs": [],
   "source": [
    "la_df = master_df_master[master_df_master.RegionName=='Los Angeles County'].copy()\n",
    "la_df.drop(['Population', 'Property_Crimes', 'Violent_Crimes'], axis=1, inplace=True)"
   ]
  },
  {
   "cell_type": "code",
   "execution_count": 11,
   "metadata": {},
   "outputs": [
    {
     "data": {
      "text/html": [
       "<div>\n",
       "<style scoped>\n",
       "    .dataframe tbody tr th:only-of-type {\n",
       "        vertical-align: middle;\n",
       "    }\n",
       "\n",
       "    .dataframe tbody tr th {\n",
       "        vertical-align: top;\n",
       "    }\n",
       "\n",
       "    .dataframe thead th {\n",
       "        text-align: right;\n",
       "    }\n",
       "</style>\n",
       "<table border=\"1\" class=\"dataframe\">\n",
       "  <thead>\n",
       "    <tr style=\"text-align: right;\">\n",
       "      <th></th>\n",
       "      <th>Afford_idx</th>\n",
       "      <th>SalePrice</th>\n",
       "      <th>UnemployRate</th>\n",
       "      <th>Rate</th>\n",
       "      <th>Days_On_Zillow</th>\n",
       "      <th>Monthly_List_Zillow</th>\n",
       "    </tr>\n",
       "  </thead>\n",
       "  <tbody>\n",
       "    <tr>\n",
       "      <th>Afford_idx</th>\n",
       "      <td>1.000000</td>\n",
       "      <td>-0.674496</td>\n",
       "      <td>0.560784</td>\n",
       "      <td>-0.246446</td>\n",
       "      <td>0.386239</td>\n",
       "      <td>0.300370</td>\n",
       "    </tr>\n",
       "    <tr>\n",
       "      <th>SalePrice</th>\n",
       "      <td>-0.674496</td>\n",
       "      <td>1.000000</td>\n",
       "      <td>-0.931257</td>\n",
       "      <td>-0.111129</td>\n",
       "      <td>-0.243789</td>\n",
       "      <td>-0.671344</td>\n",
       "    </tr>\n",
       "    <tr>\n",
       "      <th>UnemployRate</th>\n",
       "      <td>0.560784</td>\n",
       "      <td>-0.931257</td>\n",
       "      <td>1.000000</td>\n",
       "      <td>0.247941</td>\n",
       "      <td>0.138547</td>\n",
       "      <td>0.518685</td>\n",
       "    </tr>\n",
       "    <tr>\n",
       "      <th>Rate</th>\n",
       "      <td>-0.246446</td>\n",
       "      <td>-0.111129</td>\n",
       "      <td>0.247941</td>\n",
       "      <td>1.000000</td>\n",
       "      <td>-0.121567</td>\n",
       "      <td>-0.042807</td>\n",
       "    </tr>\n",
       "    <tr>\n",
       "      <th>Days_On_Zillow</th>\n",
       "      <td>0.386239</td>\n",
       "      <td>-0.243789</td>\n",
       "      <td>0.138547</td>\n",
       "      <td>-0.121567</td>\n",
       "      <td>1.000000</td>\n",
       "      <td>0.304981</td>\n",
       "    </tr>\n",
       "  </tbody>\n",
       "</table>\n",
       "</div>"
      ],
      "text/plain": [
       "                Afford_idx  SalePrice  UnemployRate      Rate  Days_On_Zillow  \\\n",
       "Afford_idx        1.000000  -0.674496      0.560784 -0.246446        0.386239   \n",
       "SalePrice        -0.674496   1.000000     -0.931257 -0.111129       -0.243789   \n",
       "UnemployRate      0.560784  -0.931257      1.000000  0.247941        0.138547   \n",
       "Rate             -0.246446  -0.111129      0.247941  1.000000       -0.121567   \n",
       "Days_On_Zillow    0.386239  -0.243789      0.138547 -0.121567        1.000000   \n",
       "\n",
       "                Monthly_List_Zillow  \n",
       "Afford_idx                 0.300370  \n",
       "SalePrice                 -0.671344  \n",
       "UnemployRate               0.518685  \n",
       "Rate                      -0.042807  \n",
       "Days_On_Zillow             0.304981  "
      ]
     },
     "execution_count": 11,
     "metadata": {},
     "output_type": "execute_result"
    }
   ],
   "source": [
    "la_corr = la_df.corr()\n",
    "la_corr.head()"
   ]
  },
  {
   "cell_type": "code",
   "execution_count": 12,
   "metadata": {},
   "outputs": [
    {
     "data": {
      "text/plain": [
       "<matplotlib.axes._subplots.AxesSubplot at 0x182df0e1160>"
      ]
     },
     "execution_count": 12,
     "metadata": {},
     "output_type": "execute_result"
    },
    {
     "data": {
      "image/png": "[encoded data removed]",
      "text/plain": [
       "<Figure size 432x288 with 2 Axes>"
      ]
     },
     "metadata": {
      "needs_background": "light"
     },
     "output_type": "display_data"
    }
   ],
   "source": [
    "sns.heatmap(la_corr)"
   ]
  },
  {
   "cell_type": "markdown",
   "metadata": {},
   "source": [
    "## 2. Linear regression\n",
    "### 2.1. Alameda\n",
    "\n",
    "1) Monthly_List_Zillow variable which was the only variable other than Unemployment Rate that went over -0.5 Pearson Coefficient. It has slope of 0.\n",
    "\n",
    "2) Affordability index variable close behind with -0.46. "
   ]
  },
  {
   "cell_type": "code",
   "execution_count": 13,
   "metadata": {},
   "outputs": [
    {
     "name": "stdout",
     "output_type": "stream",
     "text": [
      "slope = -0.0013004829085428203 # of Monthly Listing / SalePrice\n",
      "intercept = 2944.614179565922 # of Monthly Listing\n"
     ]
    },
    {
     "data": {
      "image/png": "[encoded data removed]",
      "text/plain": [
       "<Figure size 432x288 with 1 Axes>"
      ]
     },
     "metadata": {
      "needs_background": "light"
     },
     "output_type": "display_data"
    }
   ],
   "source": [
    "_ = plt.plot(alameda_df.SalePrice, alameda_df.Monthly_List_Zillow, marker='.', linestyle='none')\n",
    "plt.margins(0.02)\n",
    "_ = plt.xlabel('SalePrice')\n",
    "_ = plt.ylabel('# of Monthly Listing')\n",
    "\n",
    "# Perform a linear regression using np.polyfit(): a, b\n",
    "a, b = np.polyfit(alameda_df.SalePrice, alameda_df.Monthly_List_Zillow, 1)\n",
    "\n",
    "# Print the results to the screen\n",
    "print('slope =', a, '# of Monthly Listing / SalePrice')\n",
    "print('intercept =', b, '# of Monthly Listing')\n",
    "\n",
    "# Make theoretical line to plot\n",
    "x = np.array([0,800000])\n",
    "y = a * x + b\n",
    "\n",
    "# Add regression line to your plot\n",
    "_ = plt.plot(x, y)\n",
    "\n",
    "# Draw the plot\n",
    "plt.show()\n"
   ]
  },
  {
   "cell_type": "code",
   "execution_count": 14,
   "metadata": {},
   "outputs": [
    {
     "name": "stdout",
     "output_type": "stream",
     "text": [
      "slope = -1.5729156838012414e-07 Affordability Index / SalePrice\n",
      "intercept = 0.31614637986848976 Affordability Index\n"
     ]
    },
    {
     "data": {
      "image/png": "[encoded data removed]",
      "text/plain": [
       "<Figure size 432x288 with 1 Axes>"
      ]
     },
     "metadata": {
      "needs_background": "light"
     },
     "output_type": "display_data"
    }
   ],
   "source": [
    "_ = plt.plot(alameda_df.SalePrice, alameda_df.Afford_idx, marker='.', linestyle='none')\n",
    "plt.margins(0.02)\n",
    "_ = plt.xlabel('SalePrice')\n",
    "_ = plt.ylabel('Affordability Index')\n",
    "\n",
    "# Perform a linear regression using np.polyfit(): a, b\n",
    "a, b = np.polyfit(alameda_df.SalePrice, alameda_df.Afford_idx, 1)\n",
    "\n",
    "# Print the results to the screen\n",
    "print('slope =', a, 'Affordability Index / SalePrice')\n",
    "print('intercept =', b, 'Affordability Index')\n",
    "\n",
    "# Make theoretical line to plot\n",
    "x = np.array([0,800000])\n",
    "y = a * x + b\n",
    "\n",
    "# Add regression line to your plot\n",
    "_ = plt.plot(x, y)\n",
    "\n",
    "# Draw the plot\n",
    "plt.show()"
   ]
  },
  {
   "cell_type": "markdown",
   "metadata": {},
   "source": [
    "### 2.2. Sacramento"
   ]
  },
  {
   "cell_type": "code",
   "execution_count": 15,
   "metadata": {},
   "outputs": [
    {
     "name": "stdout",
     "output_type": "stream",
     "text": [
      "slope = -1.0725467165090528e-06 Affordability Index / SalePrice\n",
      "intercept = 0.7680755798795135 Affordability Index\n"
     ]
    },
    {
     "data": {
      "image/png": "[encoded data removed]",
      "text/plain": [
       "<Figure size 432x288 with 1 Axes>"
      ]
     },
     "metadata": {
      "needs_background": "light"
     },
     "output_type": "display_data"
    }
   ],
   "source": [
    "_ = plt.plot(sac_df.SalePrice, sac_df.Afford_idx, marker='.', linestyle='none')\n",
    "plt.margins(0.02)\n",
    "_ = plt.xlabel('SalePrice')\n",
    "_ = plt.ylabel('Affordability Index')\n",
    "\n",
    "# Perform a linear regression using np.polyfit(): a, b\n",
    "a, b = np.polyfit(sac_df.SalePrice, sac_df.Afford_idx, 1)\n",
    "\n",
    "# Print the results to the screen\n",
    "print('slope =', a, 'Affordability Index / SalePrice')\n",
    "print('intercept =', b, 'Affordability Index')\n",
    "\n",
    "# Make theoretical line to plot\n",
    "x = np.array([0,360000])\n",
    "y = a * x + b\n",
    "\n",
    "# Add regression line to your plot\n",
    "_ = plt.plot(x, y)\n",
    "\n",
    "# Draw the plot\n",
    "plt.show()"
   ]
  },
  {
   "cell_type": "markdown",
   "metadata": {},
   "source": [
    "### 2.3. L.A.\n",
    "\n",
    "1) Affordability index and Monthly listing both have pearson coefficient at -0.67.  "
   ]
  },
  {
   "cell_type": "code",
   "execution_count": 16,
   "metadata": {},
   "outputs": [
    {
     "name": "stdout",
     "output_type": "stream",
     "text": [
      "slope = -6.719612575602431e-07 Affordability Index / SalePrice\n",
      "intercept = 0.5987596616729687 Affordability Index\n"
     ]
    },
    {
     "data": {
      "image/png": "[encoded data removed]",
      "text/plain": [
       "<Figure size 432x288 with 1 Axes>"
      ]
     },
     "metadata": {
      "needs_background": "light"
     },
     "output_type": "display_data"
    }
   ],
   "source": [
    "_ = plt.plot(la_df.SalePrice, la_df.Afford_idx, marker='.', linestyle='none')\n",
    "plt.margins(0.02)\n",
    "_ = plt.xlabel('SalePrice')\n",
    "_ = plt.ylabel('Affordability Index')\n",
    "\n",
    "# Perform a linear regression using np.polyfit(): a, b\n",
    "a, b = np.polyfit(la_df.SalePrice, la_df.Afford_idx, 1)\n",
    "\n",
    "# Print the results to the screen\n",
    "print('slope =', a, 'Affordability Index / SalePrice')\n",
    "print('intercept =', b, 'Affordability Index')\n",
    "\n",
    "# Make theoretical line to plot\n",
    "x = np.array([0,580000])\n",
    "y = a * x + b\n",
    "\n",
    "# Add regression line to your plot\n",
    "_ = plt.plot(x, y)\n",
    "\n",
    "# Draw the plot\n",
    "plt.show()"
   ]
  },
  {
   "cell_type": "code",
   "execution_count": 17,
   "metadata": {},
   "outputs": [
    {
     "name": "stdout",
     "output_type": "stream",
     "text": [
      "slope = -0.02627382234144917 # of Monthly listing / SalePrice\n",
      "intercept = 30996.13220167387 # of Monthly listing\n"
     ]
    },
    {
     "data": {
      "image/png": "[encoded data removed]",
      "text/plain": [
       "<Figure size 432x288 with 1 Axes>"
      ]
     },
     "metadata": {
      "needs_background": "light"
     },
     "output_type": "display_data"
    }
   ],
   "source": [
    "_ = plt.plot(la_df.SalePrice, la_df.Monthly_List_Zillow, marker='.', linestyle='none')\n",
    "plt.margins(0.02)\n",
    "_ = plt.xlabel('SalePrice')\n",
    "_ = plt.ylabel('Affordability Index')\n",
    "\n",
    "# Perform a linear regression using np.polyfit(): a, b\n",
    "a, b = np.polyfit(la_df.SalePrice, la_df.Monthly_List_Zillow, 1)\n",
    "\n",
    "# Print the results to the screen\n",
    "print('slope =', a, '# of Monthly listing / SalePrice')\n",
    "print('intercept =', b, '# of Monthly listing')\n",
    "\n",
    "# Make theoretical line to plot\n",
    "x = np.array([0,580000])\n",
    "y = a * x + b\n",
    "\n",
    "# Add regression line to your plot\n",
    "_ = plt.plot(x, y)\n",
    "\n",
    "# Draw the plot\n",
    "plt.show()"
   ]
  },
  {
   "cell_type": "markdown",
   "metadata": {},
   "source": [
    "### 3. Dynamic Time Warping — synchrony of signals varying in lengths. \n",
    "Explore difference in sale price trend between Alameda, Sacramento and L.A.\n",
    "Also explore difference between sale price trend between Alameda and close counties - Santa Clara, Contra Costa, San Mateo and Marin.   \n"
   ]
  },
  {
   "cell_type": "code",
   "execution_count": 18,
   "metadata": {},
   "outputs": [
    {
     "ename": "ModuleNotFoundError",
     "evalue": "No module named 'dtw'",
     "output_type": "error",
     "traceback": [
      "\u001b[1;31m---------------------------------------------------------------------------\u001b[0m",
      "\u001b[1;31mModuleNotFoundError\u001b[0m                       Traceback (most recent call last)",
      "\u001b[1;32m<ipython-input-18-4063f0692cff>\u001b[0m in \u001b[0;36m<module>\u001b[1;34m\u001b[0m\n\u001b[1;32m----> 1\u001b[1;33m \u001b[1;32mfrom\u001b[0m \u001b[0mdtw\u001b[0m \u001b[1;32mimport\u001b[0m \u001b[0mdtw\u001b[0m\u001b[1;33m,\u001b[0m \u001b[0maccelerated_dtw\u001b[0m\u001b[1;33m\u001b[0m\u001b[1;33m\u001b[0m\u001b[0m\n\u001b[0m\u001b[0;32m      2\u001b[0m \u001b[1;33m\u001b[0m\u001b[0m\n\u001b[0;32m      3\u001b[0m \u001b[0md1\u001b[0m \u001b[1;33m=\u001b[0m \u001b[0malameda_df\u001b[0m\u001b[1;33m.\u001b[0m\u001b[0mSalePrice\u001b[0m\u001b[1;33m.\u001b[0m\u001b[0mvalues\u001b[0m\u001b[1;33m\u001b[0m\u001b[1;33m\u001b[0m\u001b[0m\n\u001b[0;32m      4\u001b[0m \u001b[0md2\u001b[0m \u001b[1;33m=\u001b[0m \u001b[0malameda_df\u001b[0m\u001b[1;33m.\u001b[0m\u001b[0mUnemployRatedf\u001b[0m\u001b[1;33m.\u001b[0m\u001b[0mvalues\u001b[0m\u001b[1;33m\u001b[0m\u001b[1;33m\u001b[0m\u001b[0m\n\u001b[0;32m      5\u001b[0m \u001b[1;33m\u001b[0m\u001b[0m\n",
      "\u001b[1;31mModuleNotFoundError\u001b[0m: No module named 'dtw'"
     ]
    }
   ],
   "source": [
    "from dtw import dtw, accelerated_dtw\n",
    "\n",
    "d1 = alameda_df.SalePrice.values\n",
    "d2 = alameda_df.UnemployRatedf.values\n",
    "\n"
   ]
  },
  {
   "cell_type": "code",
   "execution_count": null,
   "metadata": {},
   "outputs": [],
   "source": [
    "\n",
    "d, cost_matrix, acc_cost_matrix, path = accelerated_dtw(d1,d2, dist='euclidean')\n",
    "\n",
    "plt.imshow(acc_cost_matrix.T, origin='lower', cmap='gray', interpolation='nearest')\n",
    "plt.plot(path[0], path[1], 'w')\n",
    "plt.xlabel('Subject1')\n",
    "plt.ylabel('Subject2')\n",
    "plt.title(f'DTW Minimum Path with minimum distance: {np.round(d,2)}')\n",
    "plt.show()"
   ]
  },
  {
   "cell_type": "markdown",
   "metadata": {},
   "source": [
    "## 4. Are there significant differences between subgroups in your data that may be relevant to your project aim?\n",
    "\n",
    "### 4.1. Alameda - Mortgage rate in early 2013 that could affect slow down in sale price growth? Can I use DTW or Time Lagged Cross Correlation?  \n",
    "### 4.2. Unemployment in 2017 and affect on sale price. - What methods can I use? \n",
    "\n"
   ]
  },
  {
   "cell_type": "code",
   "execution_count": null,
   "metadata": {},
   "outputs": [],
   "source": []
  }
 ],
 "metadata": {
  "kernelspec": {
   "display_name": "Python 3",
   "language": "python",
   "name": "python3"
  },
  "language_info": {
   "codemirror_mode": {
    "name": "ipython",
    "version": 3
   },
   "file_extension": ".py",
   "mimetype": "text/x-python",
   "name": "python",
   "nbconvert_exporter": "python",
   "pygments_lexer": "ipython3",
   "version": "3.7.3"
  }
 },
 "nbformat": 4,
 "nbformat_minor": 2
}
