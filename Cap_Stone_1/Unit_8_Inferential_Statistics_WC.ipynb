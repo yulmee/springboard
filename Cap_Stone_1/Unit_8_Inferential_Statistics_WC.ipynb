{
 "cells": [
  {
   "cell_type": "code",
   "execution_count": 2,
   "metadata": {},
   "outputs": [],
   "source": [
    "import numpy as np\n",
    "import pandas as pd\n",
    "import seaborn as sns\n",
    "import matplotlib.pyplot as plt\n",
    "from datetime import datetime\n"
   ]
  },
  {
   "cell_type": "code",
   "execution_count": 3,
   "metadata": {},
   "outputs": [
    {
     "data": {
      "text/html": [
       "<div>\n",
       "<style scoped>\n",
       "    .dataframe tbody tr th:only-of-type {\n",
       "        vertical-align: middle;\n",
       "    }\n",
       "\n",
       "    .dataframe tbody tr th {\n",
       "        vertical-align: top;\n",
       "    }\n",
       "\n",
       "    .dataframe thead th {\n",
       "        text-align: right;\n",
       "    }\n",
       "</style>\n",
       "<table border=\"1\" class=\"dataframe\">\n",
       "  <thead>\n",
       "    <tr style=\"text-align: right;\">\n",
       "      <th></th>\n",
       "      <th>Unnamed: 0</th>\n",
       "      <th>Date</th>\n",
       "      <th>RegionName</th>\n",
       "      <th>Population</th>\n",
       "      <th>Afford_idx</th>\n",
       "      <th>Property_Crimes</th>\n",
       "      <th>Violent_Crimes</th>\n",
       "      <th>SalePrice</th>\n",
       "      <th>UnemployRate</th>\n",
       "      <th>Rate</th>\n",
       "      <th>Days_On_Zillow</th>\n",
       "      <th>Monthly_List_Zillow</th>\n",
       "    </tr>\n",
       "  </thead>\n",
       "  <tbody>\n",
       "    <tr>\n",
       "      <th>0</th>\n",
       "      <td>0</td>\n",
       "      <td>2013-01-01</td>\n",
       "      <td>Alameda County</td>\n",
       "      <td>1554138</td>\n",
       "      <td>0.32</td>\n",
       "      <td>1018333</td>\n",
       "      <td>151634</td>\n",
       "      <td>429100.0</td>\n",
       "      <td>8.3</td>\n",
       "      <td>3.41</td>\n",
       "      <td>79.0</td>\n",
       "      <td>2326.0</td>\n",
       "    </tr>\n",
       "    <tr>\n",
       "      <th>1</th>\n",
       "      <td>1</td>\n",
       "      <td>2013-02-01</td>\n",
       "      <td>Alameda County</td>\n",
       "      <td>1554138</td>\n",
       "      <td>0.32</td>\n",
       "      <td>1018333</td>\n",
       "      <td>151634</td>\n",
       "      <td>428400.0</td>\n",
       "      <td>7.8</td>\n",
       "      <td>3.53</td>\n",
       "      <td>70.0</td>\n",
       "      <td>2229.0</td>\n",
       "    </tr>\n",
       "    <tr>\n",
       "      <th>2</th>\n",
       "      <td>2</td>\n",
       "      <td>2013-03-01</td>\n",
       "      <td>Alameda County</td>\n",
       "      <td>1554138</td>\n",
       "      <td>0.32</td>\n",
       "      <td>1018333</td>\n",
       "      <td>151634</td>\n",
       "      <td>436100.0</td>\n",
       "      <td>7.5</td>\n",
       "      <td>3.57</td>\n",
       "      <td>51.0</td>\n",
       "      <td>2115.0</td>\n",
       "    </tr>\n",
       "    <tr>\n",
       "      <th>3</th>\n",
       "      <td>3</td>\n",
       "      <td>2013-04-01</td>\n",
       "      <td>Alameda County</td>\n",
       "      <td>1554138</td>\n",
       "      <td>0.25</td>\n",
       "      <td>1018333</td>\n",
       "      <td>151634</td>\n",
       "      <td>441500.0</td>\n",
       "      <td>7.0</td>\n",
       "      <td>3.45</td>\n",
       "      <td>46.5</td>\n",
       "      <td>2105.0</td>\n",
       "    </tr>\n",
       "    <tr>\n",
       "      <th>4</th>\n",
       "      <td>4</td>\n",
       "      <td>2013-05-01</td>\n",
       "      <td>Alameda County</td>\n",
       "      <td>1554138</td>\n",
       "      <td>0.25</td>\n",
       "      <td>1018333</td>\n",
       "      <td>151634</td>\n",
       "      <td>460100.0</td>\n",
       "      <td>7.0</td>\n",
       "      <td>3.54</td>\n",
       "      <td>45.0</td>\n",
       "      <td>2159.0</td>\n",
       "    </tr>\n",
       "  </tbody>\n",
       "</table>\n",
       "</div>"
      ],
      "text/plain": [
       "   Unnamed: 0        Date      RegionName  Population  Afford_idx  \\\n",
       "0           0  2013-01-01  Alameda County     1554138        0.32   \n",
       "1           1  2013-02-01  Alameda County     1554138        0.32   \n",
       "2           2  2013-03-01  Alameda County     1554138        0.32   \n",
       "3           3  2013-04-01  Alameda County     1554138        0.25   \n",
       "4           4  2013-05-01  Alameda County     1554138        0.25   \n",
       "\n",
       "   Property_Crimes  Violent_Crimes  SalePrice  UnemployRate  Rate  \\\n",
       "0          1018333          151634   429100.0           8.3  3.41   \n",
       "1          1018333          151634   428400.0           7.8  3.53   \n",
       "2          1018333          151634   436100.0           7.5  3.57   \n",
       "3          1018333          151634   441500.0           7.0  3.45   \n",
       "4          1018333          151634   460100.0           7.0  3.54   \n",
       "\n",
       "   Days_On_Zillow  Monthly_List_Zillow  \n",
       "0            79.0               2326.0  \n",
       "1            70.0               2229.0  \n",
       "2            51.0               2115.0  \n",
       "3            46.5               2105.0  \n",
       "4            45.0               2159.0  "
      ]
     },
     "execution_count": 3,
     "metadata": {},
     "output_type": "execute_result"
    }
   ],
   "source": [
    "master_df_master = pd.read_csv(r'master_df.csv',encoding='latin-1')\n",
    "master_df_master.head()"
   ]
  },
  {
   "cell_type": "markdown",
   "metadata": {},
   "source": [
    "## 1. Calculate Pearson Correlation Coefficient "
   ]
  },
  {
   "cell_type": "markdown",
   "metadata": {},
   "source": [
    "### 1.1. Alameda\n",
    "\n",
    "Pearson Correlation coefficient with Sale Price for all variables:\n",
    "Unemployment Rate is -0.96 at strongest negative correlation. Mortgage rate has weakest correlation at -0.11. \n",
    "Only number of monthly listing in Zillow is over -0.5.  "
   ]
  },
  {
   "cell_type": "code",
   "execution_count": 4,
   "metadata": {},
   "outputs": [
    {
     "name": "stdout",
     "output_type": "stream",
     "text": [
      "<class 'pandas.core.frame.DataFrame'>\n",
      "Int64Index: 61 entries, 0 to 60\n",
      "Data columns (total 9 columns):\n",
      "Unnamed: 0             61 non-null int64\n",
      "Date                   61 non-null object\n",
      "RegionName             61 non-null object\n",
      "Afford_idx             61 non-null float64\n",
      "SalePrice              61 non-null float64\n",
      "UnemployRate           61 non-null float64\n",
      "Rate                   61 non-null float64\n",
      "Days_On_Zillow         61 non-null float64\n",
      "Monthly_List_Zillow    61 non-null float64\n",
      "dtypes: float64(6), int64(1), object(2)\n",
      "memory usage: 4.8+ KB\n"
     ]
    }
   ],
   "source": [
    "alameda_df = master_df_master[master_df_master.RegionName=='Alameda County'].copy()\n",
    "alameda_df.drop(['Population', 'Property_Crimes', 'Violent_Crimes'], axis=1, inplace=True)\n",
    "alameda_df.info()"
   ]
  },
  {
   "cell_type": "code",
   "execution_count": 5,
   "metadata": {},
   "outputs": [
    {
     "data": {
      "text/html": [
       "<div>\n",
       "<style scoped>\n",
       "    .dataframe tbody tr th:only-of-type {\n",
       "        vertical-align: middle;\n",
       "    }\n",
       "\n",
       "    .dataframe tbody tr th {\n",
       "        vertical-align: top;\n",
       "    }\n",
       "\n",
       "    .dataframe thead th {\n",
       "        text-align: right;\n",
       "    }\n",
       "</style>\n",
       "<table border=\"1\" class=\"dataframe\">\n",
       "  <thead>\n",
       "    <tr style=\"text-align: right;\">\n",
       "      <th></th>\n",
       "      <th>Unnamed: 0</th>\n",
       "      <th>Afford_idx</th>\n",
       "      <th>SalePrice</th>\n",
       "      <th>UnemployRate</th>\n",
       "      <th>Rate</th>\n",
       "      <th>Days_On_Zillow</th>\n",
       "      <th>Monthly_List_Zillow</th>\n",
       "    </tr>\n",
       "  </thead>\n",
       "  <tbody>\n",
       "    <tr>\n",
       "      <th>Unnamed: 0</th>\n",
       "      <td>1.000000</td>\n",
       "      <td>-0.402102</td>\n",
       "      <td>0.990129</td>\n",
       "      <td>-0.950989</td>\n",
       "      <td>-0.192906</td>\n",
       "      <td>-0.282861</td>\n",
       "      <td>-0.597537</td>\n",
       "    </tr>\n",
       "    <tr>\n",
       "      <th>Afford_idx</th>\n",
       "      <td>-0.402102</td>\n",
       "      <td>1.000000</td>\n",
       "      <td>-0.465295</td>\n",
       "      <td>0.489153</td>\n",
       "      <td>-0.458531</td>\n",
       "      <td>0.607849</td>\n",
       "      <td>0.160462</td>\n",
       "    </tr>\n",
       "    <tr>\n",
       "      <th>SalePrice</th>\n",
       "      <td>0.990129</td>\n",
       "      <td>-0.465295</td>\n",
       "      <td>1.000000</td>\n",
       "      <td>-0.959253</td>\n",
       "      <td>-0.109471</td>\n",
       "      <td>-0.317180</td>\n",
       "      <td>-0.556541</td>\n",
       "    </tr>\n",
       "    <tr>\n",
       "      <th>UnemployRate</th>\n",
       "      <td>-0.950989</td>\n",
       "      <td>0.489153</td>\n",
       "      <td>-0.959253</td>\n",
       "      <td>1.000000</td>\n",
       "      <td>0.174267</td>\n",
       "      <td>0.339144</td>\n",
       "      <td>0.463926</td>\n",
       "    </tr>\n",
       "    <tr>\n",
       "      <th>Rate</th>\n",
       "      <td>-0.192906</td>\n",
       "      <td>-0.458531</td>\n",
       "      <td>-0.109471</td>\n",
       "      <td>0.174267</td>\n",
       "      <td>1.000000</td>\n",
       "      <td>-0.154545</td>\n",
       "      <td>0.053217</td>\n",
       "    </tr>\n",
       "  </tbody>\n",
       "</table>\n",
       "</div>"
      ],
      "text/plain": [
       "              Unnamed: 0  Afford_idx  SalePrice  UnemployRate      Rate  \\\n",
       "Unnamed: 0      1.000000   -0.402102   0.990129     -0.950989 -0.192906   \n",
       "Afford_idx     -0.402102    1.000000  -0.465295      0.489153 -0.458531   \n",
       "SalePrice       0.990129   -0.465295   1.000000     -0.959253 -0.109471   \n",
       "UnemployRate   -0.950989    0.489153  -0.959253      1.000000  0.174267   \n",
       "Rate           -0.192906   -0.458531  -0.109471      0.174267  1.000000   \n",
       "\n",
       "              Days_On_Zillow  Monthly_List_Zillow  \n",
       "Unnamed: 0         -0.282861            -0.597537  \n",
       "Afford_idx          0.607849             0.160462  \n",
       "SalePrice          -0.317180            -0.556541  \n",
       "UnemployRate        0.339144             0.463926  \n",
       "Rate               -0.154545             0.053217  "
      ]
     },
     "execution_count": 5,
     "metadata": {},
     "output_type": "execute_result"
    }
   ],
   "source": [
    "alam_corr = alameda_df.corr()\n",
    "alam_corr.head()"
   ]
  },
  {
   "cell_type": "code",
   "execution_count": 6,
   "metadata": {},
   "outputs": [
    {
     "data": {
      "text/plain": [
       "<matplotlib.axes._subplots.AxesSubplot at 0x2243d76d438>"
      ]
     },
     "execution_count": 6,
     "metadata": {},
     "output_type": "execute_result"
    },
    {
     "data": {
      "image/png": "[encoded data removed]",
      "text/plain": [
       "<Figure size 432x288 with 2 Axes>"
      ]
     },
     "metadata": {
      "needs_background": "light"
     },
     "output_type": "display_data"
    }
   ],
   "source": [
    "sns.heatmap(alam_corr)"
   ]
  },
  {
   "cell_type": "markdown",
   "metadata": {},
   "source": [
    "### 1.2. Sacramento\n",
    "\n",
    "Pearson Correlation coefficient with Sale Price for all variables:\n",
    "Unemployment Rate is -0.95 at strongest negative correlation followed by Affordability indext at -0.89. \n",
    "Mortgage rate has weakest correlation at -0.09. \n",
    "Surprisingly, for this market, number of days on Zillow has correlation of -0.55 and number of monthly listing in Zillow is at 0.16. \n",
    "Just looking at Pearson coffecient, Sacramento market has different characteristics than Alameda. "
   ]
  },
  {
   "cell_type": "code",
   "execution_count": 7,
   "metadata": {},
   "outputs": [],
   "source": [
    "sac_df = master_df_master[master_df_master.RegionName=='Sacramento County'].copy()\n",
    "sac_df.drop(['Population', 'Property_Crimes', 'Violent_Crimes'], axis=1, inplace=True)"
   ]
  },
  {
   "cell_type": "code",
   "execution_count": 8,
   "metadata": {},
   "outputs": [
    {
     "data": {
      "text/html": [
       "<div>\n",
       "<style scoped>\n",
       "    .dataframe tbody tr th:only-of-type {\n",
       "        vertical-align: middle;\n",
       "    }\n",
       "\n",
       "    .dataframe tbody tr th {\n",
       "        vertical-align: top;\n",
       "    }\n",
       "\n",
       "    .dataframe thead th {\n",
       "        text-align: right;\n",
       "    }\n",
       "</style>\n",
       "<table border=\"1\" class=\"dataframe\">\n",
       "  <thead>\n",
       "    <tr style=\"text-align: right;\">\n",
       "      <th></th>\n",
       "      <th>Unnamed: 0</th>\n",
       "      <th>Afford_idx</th>\n",
       "      <th>SalePrice</th>\n",
       "      <th>UnemployRate</th>\n",
       "      <th>Rate</th>\n",
       "      <th>Days_On_Zillow</th>\n",
       "      <th>Monthly_List_Zillow</th>\n",
       "    </tr>\n",
       "  </thead>\n",
       "  <tbody>\n",
       "    <tr>\n",
       "      <th>Unnamed: 0</th>\n",
       "      <td>1.000000</td>\n",
       "      <td>-0.840672</td>\n",
       "      <td>0.988656</td>\n",
       "      <td>-0.960814</td>\n",
       "      <td>-0.192906</td>\n",
       "      <td>-0.551340</td>\n",
       "      <td>0.169219</td>\n",
       "    </tr>\n",
       "    <tr>\n",
       "      <th>Afford_idx</th>\n",
       "      <td>-0.840672</td>\n",
       "      <td>1.000000</td>\n",
       "      <td>-0.885834</td>\n",
       "      <td>0.867977</td>\n",
       "      <td>-0.069754</td>\n",
       "      <td>0.573252</td>\n",
       "      <td>-0.298230</td>\n",
       "    </tr>\n",
       "    <tr>\n",
       "      <th>SalePrice</th>\n",
       "      <td>0.988656</td>\n",
       "      <td>-0.885834</td>\n",
       "      <td>1.000000</td>\n",
       "      <td>-0.953217</td>\n",
       "      <td>-0.097158</td>\n",
       "      <td>-0.553002</td>\n",
       "      <td>0.158407</td>\n",
       "    </tr>\n",
       "    <tr>\n",
       "      <th>UnemployRate</th>\n",
       "      <td>-0.960814</td>\n",
       "      <td>0.867977</td>\n",
       "      <td>-0.953217</td>\n",
       "      <td>1.000000</td>\n",
       "      <td>0.204221</td>\n",
       "      <td>0.519833</td>\n",
       "      <td>-0.328659</td>\n",
       "    </tr>\n",
       "    <tr>\n",
       "      <th>Rate</th>\n",
       "      <td>-0.192906</td>\n",
       "      <td>-0.069754</td>\n",
       "      <td>-0.097158</td>\n",
       "      <td>0.204221</td>\n",
       "      <td>1.000000</td>\n",
       "      <td>0.010811</td>\n",
       "      <td>-0.278544</td>\n",
       "    </tr>\n",
       "  </tbody>\n",
       "</table>\n",
       "</div>"
      ],
      "text/plain": [
       "              Unnamed: 0  Afford_idx  SalePrice  UnemployRate      Rate  \\\n",
       "Unnamed: 0      1.000000   -0.840672   0.988656     -0.960814 -0.192906   \n",
       "Afford_idx     -0.840672    1.000000  -0.885834      0.867977 -0.069754   \n",
       "SalePrice       0.988656   -0.885834   1.000000     -0.953217 -0.097158   \n",
       "UnemployRate   -0.960814    0.867977  -0.953217      1.000000  0.204221   \n",
       "Rate           -0.192906   -0.069754  -0.097158      0.204221  1.000000   \n",
       "\n",
       "              Days_On_Zillow  Monthly_List_Zillow  \n",
       "Unnamed: 0         -0.551340             0.169219  \n",
       "Afford_idx          0.573252            -0.298230  \n",
       "SalePrice          -0.553002             0.158407  \n",
       "UnemployRate        0.519833            -0.328659  \n",
       "Rate                0.010811            -0.278544  "
      ]
     },
     "execution_count": 8,
     "metadata": {},
     "output_type": "execute_result"
    }
   ],
   "source": [
    "sac_corr = sac_df.corr()\n",
    "sac_corr.head()"
   ]
  },
  {
   "cell_type": "code",
   "execution_count": 9,
   "metadata": {},
   "outputs": [
    {
     "data": {
      "text/plain": [
       "<matplotlib.axes._subplots.AxesSubplot at 0x2243dae0b70>"
      ]
     },
     "execution_count": 9,
     "metadata": {},
     "output_type": "execute_result"
    },
    {
     "data": {
      "image/png": "[encoded data removed]",
      "text/plain": [
       "<Figure size 432x288 with 2 Axes>"
      ]
     },
     "metadata": {
      "needs_background": "light"
     },
     "output_type": "display_data"
    }
   ],
   "source": [
    "sns.heatmap(sac_corr)"
   ]
  },
  {
   "cell_type": "markdown",
   "metadata": {},
   "source": [
    "### 1.3. L.A.\n",
    "\n",
    "Pearson Correlation coefficient with Sale Price for all variables:\n",
    "Unemployment Rate is -0.93 at strongest negative correlation followed by Affordability indext and Monthly listing at -0.67. \n",
    "Mortgage rate has weakest correlation at -0.11. \n",
    "L.A. is yet again different from Sacramento and Alameda in that affordability index and number of monthly listing is over -0.5."
   ]
  },
  {
   "cell_type": "code",
   "execution_count": 10,
   "metadata": {},
   "outputs": [],
   "source": [
    "la_df = master_df_master[master_df_master.RegionName=='Los Angeles County'].copy()\n",
    "la_df.drop(['Population', 'Property_Crimes', 'Violent_Crimes'], axis=1, inplace=True)"
   ]
  },
  {
   "cell_type": "code",
   "execution_count": 11,
   "metadata": {
    "scrolled": true
   },
   "outputs": [
    {
     "data": {
      "text/html": [
       "<div>\n",
       "<style scoped>\n",
       "    .dataframe tbody tr th:only-of-type {\n",
       "        vertical-align: middle;\n",
       "    }\n",
       "\n",
       "    .dataframe tbody tr th {\n",
       "        vertical-align: top;\n",
       "    }\n",
       "\n",
       "    .dataframe thead th {\n",
       "        text-align: right;\n",
       "    }\n",
       "</style>\n",
       "<table border=\"1\" class=\"dataframe\">\n",
       "  <thead>\n",
       "    <tr style=\"text-align: right;\">\n",
       "      <th></th>\n",
       "      <th>Unnamed: 0</th>\n",
       "      <th>Afford_idx</th>\n",
       "      <th>SalePrice</th>\n",
       "      <th>UnemployRate</th>\n",
       "      <th>Rate</th>\n",
       "      <th>Days_On_Zillow</th>\n",
       "      <th>Monthly_List_Zillow</th>\n",
       "    </tr>\n",
       "  </thead>\n",
       "  <tbody>\n",
       "    <tr>\n",
       "      <th>Unnamed: 0</th>\n",
       "      <td>1.000000</td>\n",
       "      <td>-0.623011</td>\n",
       "      <td>0.977578</td>\n",
       "      <td>-0.962087</td>\n",
       "      <td>-0.192906</td>\n",
       "      <td>-0.185879</td>\n",
       "      <td>-0.638502</td>\n",
       "    </tr>\n",
       "    <tr>\n",
       "      <th>Afford_idx</th>\n",
       "      <td>-0.623011</td>\n",
       "      <td>1.000000</td>\n",
       "      <td>-0.674496</td>\n",
       "      <td>0.560784</td>\n",
       "      <td>-0.246446</td>\n",
       "      <td>0.386239</td>\n",
       "      <td>0.300370</td>\n",
       "    </tr>\n",
       "    <tr>\n",
       "      <th>SalePrice</th>\n",
       "      <td>0.977578</td>\n",
       "      <td>-0.674496</td>\n",
       "      <td>1.000000</td>\n",
       "      <td>-0.931257</td>\n",
       "      <td>-0.111129</td>\n",
       "      <td>-0.243789</td>\n",
       "      <td>-0.671344</td>\n",
       "    </tr>\n",
       "    <tr>\n",
       "      <th>UnemployRate</th>\n",
       "      <td>-0.962087</td>\n",
       "      <td>0.560784</td>\n",
       "      <td>-0.931257</td>\n",
       "      <td>1.000000</td>\n",
       "      <td>0.247941</td>\n",
       "      <td>0.138547</td>\n",
       "      <td>0.518685</td>\n",
       "    </tr>\n",
       "    <tr>\n",
       "      <th>Rate</th>\n",
       "      <td>-0.192906</td>\n",
       "      <td>-0.246446</td>\n",
       "      <td>-0.111129</td>\n",
       "      <td>0.247941</td>\n",
       "      <td>1.000000</td>\n",
       "      <td>-0.121567</td>\n",
       "      <td>-0.042807</td>\n",
       "    </tr>\n",
       "  </tbody>\n",
       "</table>\n",
       "</div>"
      ],
      "text/plain": [
       "              Unnamed: 0  Afford_idx  SalePrice  UnemployRate      Rate  \\\n",
       "Unnamed: 0      1.000000   -0.623011   0.977578     -0.962087 -0.192906   \n",
       "Afford_idx     -0.623011    1.000000  -0.674496      0.560784 -0.246446   \n",
       "SalePrice       0.977578   -0.674496   1.000000     -0.931257 -0.111129   \n",
       "UnemployRate   -0.962087    0.560784  -0.931257      1.000000  0.247941   \n",
       "Rate           -0.192906   -0.246446  -0.111129      0.247941  1.000000   \n",
       "\n",
       "              Days_On_Zillow  Monthly_List_Zillow  \n",
       "Unnamed: 0         -0.185879            -0.638502  \n",
       "Afford_idx          0.386239             0.300370  \n",
       "SalePrice          -0.243789            -0.671344  \n",
       "UnemployRate        0.138547             0.518685  \n",
       "Rate               -0.121567            -0.042807  "
      ]
     },
     "execution_count": 11,
     "metadata": {},
     "output_type": "execute_result"
    }
   ],
   "source": [
    "la_corr = la_df.corr()\n",
    "la_corr.head()"
   ]
  },
  {
   "cell_type": "code",
   "execution_count": 12,
   "metadata": {},
   "outputs": [
    {
     "data": {
      "text/plain": [
       "<matplotlib.axes._subplots.AxesSubplot at 0x2243dbb4860>"
      ]
     },
     "execution_count": 12,
     "metadata": {},
     "output_type": "execute_result"
    },
    {
     "data": {
      "image/png": "[encoded data removed]",
      "text/plain": [
       "<Figure size 432x288 with 2 Axes>"
      ]
     },
     "metadata": {
      "needs_background": "light"
     },
     "output_type": "display_data"
    }
   ],
   "source": [
    "sns.heatmap(la_corr)"
   ]
  },
  {
   "cell_type": "markdown",
   "metadata": {},
   "source": [
    "## 1.4 Pearson R between counties - Sale Price\n",
    "Compute how two continuous signals co-vary over time and indicate the linear relationship as a number between -1 (negatively correlated) to 0 (not correlated) to 1 (perfectly correlated). \n",
    "\n",
    "Alameda and Sacramento are more more correlated to each other than between LA and Sacramento/Alameda. \n"
   ]
  },
  {
   "cell_type": "code",
   "execution_count": 13,
   "metadata": {},
   "outputs": [
    {
     "name": "stdout",
     "output_type": "stream",
     "text": [
      "Alameda vs Sacramento Sales Price - Scipy computed Pearson r: 0.9901329698180913 and p-value: 4.617003021613149e-52\n",
      "Alameda vs LA Sales Price - Scipy computed Pearson r: 0.984998811732923 and p-value: 1.0015079128758383e-46\n",
      "Sacramento vs LA Sales Price - Scipy computed Pearson r: 0.9894452006991754 and p-value: 3.3380852906212e-51\n"
     ]
    }
   ],
   "source": [
    "# Alameda vs Sacramento\n",
    "import scipy.stats as stats\n",
    "\n",
    "r1, p1 = stats.pearsonr(alameda_df.SalePrice, sac_df.SalePrice)\n",
    "print(f\"Alameda vs Sacramento Sales Price - Scipy computed Pearson r: {r1} and p-value: {p1}\")\n",
    "\n",
    "r2, p2 = stats.pearsonr(alameda_df.SalePrice, la_df.SalePrice)\n",
    "print(f\"Alameda vs LA Sales Price - Scipy computed Pearson r: {r2} and p-value: {p2}\")\n",
    "\n",
    "r3, p3 = stats.pearsonr(sac_df.SalePrice, la_df.SalePrice)\n",
    "print(f\"Sacramento vs LA Sales Price - Scipy computed Pearson r: {r3} and p-value: {p3}\")"
   ]
  },
  {
   "cell_type": "markdown",
   "metadata": {},
   "source": [
    "### 1.4.1. How about counties around Alameda- how correlated are they? Is Alameda a good example of S.F. Bay area market? \n",
    "\n",
    "Surprisingly, Pearson coefficient between Alameda and adjacent counties are lower than Alameda vs Sacramento or LA. \n"
   ]
  },
  {
   "cell_type": "code",
   "execution_count": 14,
   "metadata": {},
   "outputs": [],
   "source": [
    "# get San Mateo, Contra Coasta, Santa Clara county, Marin county data and do KNN analysis\n",
    "\n",
    "CA_sales_prices = pd.read_excel(r'C:\\Users\\yulmee\\Documents\\Yul-Mee\\Springboard\\Capstone 1\\dataset\\cleaned\\Zillow_Sale_Prices_County_2008_2015_cleaned.xlsx',encoding='latin-1')\n",
    "\n",
    "\n",
    "# Convert year-month to date instead: 2008-10 to 2008-10-01 and then to datetime type. \n",
    "# For my notes - see http://jonathansoma.com/lede/foundations/classes/pandas%20columns%20and%20functions/apply-a-function-to-every-row-in-a-pandas-dataframe/ \n",
    "# section: Use .apply with axis=1 to send every single row to a function\n",
    "def set_first_of_month(row):\n",
    "    datestring = row['year-month'] +'-01'\n",
    "    return datetime.strptime(datestring, '%Y-%m-%d')\n",
    "\n",
    "# select county data\n",
    "\n",
    "def get_cleaned_county_sales_price(CA_sales_prices, county_name):\n",
    "\n",
    "    county_sales_price = CA_sales_prices.loc[CA_sales_prices['RegionName'] == county_name]\n",
    "    \n",
    "    # Melt table to get year and month prices as rows. \n",
    "    alm_melt = county_sales_price.melt(id_vars=['RegionID', 'RegionName'], var_name='year-month', value_name='SalePrice')\n",
    "    \n",
    "    alm_melt['Date']=alm_melt.apply(set_first_of_month, axis=1)\n",
    "    alm_melt.drop(['year-month', 'RegionID'],axis=1,inplace=True) \n",
    "\n",
    "    sales_price_final = alm_melt\n",
    "    \n",
    "    return sales_price_final"
   ]
  },
  {
   "cell_type": "code",
   "execution_count": 15,
   "metadata": {},
   "outputs": [
    {
     "name": "stdout",
     "output_type": "stream",
     "text": [
      "Alameda vs Santa Clara Sales Price - Scipy computed Pearson r: 0.9751807593094461 and p-value: 2.4653862285179568e-40\n",
      "Alameda vs Contra Costa Sales Price - Scipy computed Pearson r: 0.974469394516746 and p-value: 5.6184745617655765e-40\n",
      "Alameda vs Marin Sales Price - Scipy computed Pearson r: 0.943225021570093 and p-value: 6.2840858682738206e-30\n"
     ]
    },
    {
     "name": "stderr",
     "output_type": "stream",
     "text": [
      "C:\\Users\\yulmee\\Anaconda3\\lib\\site-packages\\pandas\\core\\frame.py:3940: SettingWithCopyWarning: \n",
      "A value is trying to be set on a copy of a slice from a DataFrame\n",
      "\n",
      "See the caveats in the documentation: http://pandas.pydata.org/pandas-docs/stable/indexing.html#indexing-view-versus-copy\n",
      "  errors=errors)\n"
     ]
    }
   ],
   "source": [
    "# Get cleaned sales price data for Santa Clara county\n",
    "sclara_county_name = 'Santa Clara County'\n",
    "sclara_sales_price_final = get_cleaned_county_sales_price(CA_sales_prices, sclara_county_name)\n",
    "sclara_sales_price = sclara_sales_price_final[(sclara_sales_price_final['Date'] > '2012-12-31') & (sclara_sales_price_final['Date'] < '2018-01-31')]\n",
    "sclara_sales_price.drop(['RegionName'],axis=1,inplace=True) \n",
    "sclara_sales_price.reset_index(inplace=True)\n",
    "\n",
    "# Get cleaned sales price data for Contra Costa county\n",
    "contra_county_name = 'Contra Costa County' \n",
    "contra_sales_price_final = get_cleaned_county_sales_price(CA_sales_prices, contra_county_name)\n",
    "contra_sales_price = contra_sales_price_final[(contra_sales_price_final['Date'] > '2012-12-31') & (contra_sales_price_final['Date'] < '2018-01-31')]\n",
    "contra_sales_price.drop(['RegionName'],axis=1,inplace=True) \n",
    "contra_sales_price.reset_index(inplace=True)\n",
    "\n",
    "# Get cleaned sales price data for Marin county\n",
    "marin_county_name = 'Marin County'\n",
    "marin_sales_price_final = get_cleaned_county_sales_price(CA_sales_prices, marin_county_name)\n",
    "marin_sales_price = marin_sales_price_final[(marin_sales_price_final['Date'] > '2012-12-31') & (marin_sales_price_final['Date'] < '2018-01-31')]\n",
    "marin_sales_price.drop(['RegionName'],axis=1,inplace=True) \n",
    "marin_sales_price.reset_index(inplace=True)\n",
    " \n",
    "alameda_temp_df = alameda_df.copy()    \n",
    "alameda_temp_df['Date']= pd.to_datetime(alameda_temp_df['Date']) \n",
    "\n",
    "\n",
    "r_a_s, p_a_s = stats.pearsonr(alameda_df.SalePrice, sclara_sales_price.SalePrice)\n",
    "print(f\"Alameda vs Santa Clara Sales Price - Scipy computed Pearson r: {r_a_s} and p-value: {p_a_s}\")\n",
    "\n",
    "r_a_c, p_a_c = stats.pearsonr(alameda_df.SalePrice, contra_sales_price.SalePrice)\n",
    "print(f\"Alameda vs Contra Costa Sales Price - Scipy computed Pearson r: {r_a_c} and p-value: {p_a_c}\")\n",
    "\n",
    "r_a_m, p_a_m = stats.pearsonr(sac_df.SalePrice, marin_sales_price.SalePrice)\n",
    "print(f\"Alameda vs Marin Sales Price - Scipy computed Pearson r: {r_a_m} and p-value: {p_a_m}\")\n"
   ]
  },
  {
   "cell_type": "markdown",
   "metadata": {},
   "source": [
    "## 2. Linear regression\n",
    "### 2.1. Alameda\n",
    "\n",
    "1) Monthly_List_Zillow variable which was the only variable other than Unemployment Rate that went over -0.5 Pearson Coefficient. It has slope of 0.\n",
    "\n",
    "2) Affordability index variable close behind with -0.46. "
   ]
  },
  {
   "cell_type": "code",
   "execution_count": 16,
   "metadata": {},
   "outputs": [
    {
     "name": "stdout",
     "output_type": "stream",
     "text": [
      "slope = -0.0013004829085428203 # of Monthly Listing / SalePrice\n",
      "intercept = 2944.614179565922 # of Monthly Listing\n"
     ]
    },
    {
     "data": {
      "image/png": "[encoded data removed]",
      "text/plain": [
       "<Figure size 432x288 with 1 Axes>"
      ]
     },
     "metadata": {
      "needs_background": "light"
     },
     "output_type": "display_data"
    }
   ],
   "source": [
    "_ = plt.plot(alameda_df.SalePrice, alameda_df.Monthly_List_Zillow, marker='.', linestyle='none')\n",
    "plt.margins(0.02)\n",
    "_ = plt.xlabel('SalePrice')\n",
    "_ = plt.ylabel('# of Monthly Listing')\n",
    "\n",
    "# Perform a linear regression using np.polyfit(): a, b\n",
    "a, b = np.polyfit(alameda_df.SalePrice, alameda_df.Monthly_List_Zillow, 1)\n",
    "\n",
    "# Print the results to the screen\n",
    "print('slope =', a, '# of Monthly Listing / SalePrice')\n",
    "print('intercept =', b, '# of Monthly Listing')\n",
    "\n",
    "# Make theoretical line to plot\n",
    "x = np.array([0,800000])\n",
    "y = a * x + b\n",
    "\n",
    "# Add regression line to your plot\n",
    "_ = plt.plot(x, y)\n",
    "\n",
    "# Draw the plot\n",
    "plt.show()\n"
   ]
  },
  {
   "cell_type": "code",
   "execution_count": 17,
   "metadata": {},
   "outputs": [
    {
     "name": "stdout",
     "output_type": "stream",
     "text": [
      "slope = -1.5729156838012416e-07 Affordability Index / SalePrice\n",
      "intercept = 0.3161463798684897 Affordability Index\n"
     ]
    },
    {
     "data": {
      "image/png": "[encoded data removed]",
      "text/plain": [
       "<Figure size 432x288 with 1 Axes>"
      ]
     },
     "metadata": {
      "needs_background": "light"
     },
     "output_type": "display_data"
    }
   ],
   "source": [
    "_ = plt.plot(alameda_df.SalePrice, alameda_df.Afford_idx, marker='.', linestyle='none')\n",
    "plt.margins(0.02)\n",
    "_ = plt.xlabel('SalePrice')\n",
    "_ = plt.ylabel('Affordability Index')\n",
    "\n",
    "# Perform a linear regression using np.polyfit(): a, b\n",
    "a, b = np.polyfit(alameda_df.SalePrice, alameda_df.Afford_idx, 1)\n",
    "\n",
    "# Print the results to the screen\n",
    "print('slope =', a, 'Affordability Index / SalePrice')\n",
    "print('intercept =', b, 'Affordability Index')\n",
    "\n",
    "# Make theoretical line to plot\n",
    "x = np.array([0,800000])\n",
    "y = a * x + b\n",
    "\n",
    "# Add regression line to your plot\n",
    "_ = plt.plot(x, y)\n",
    "\n",
    "# Draw the plot\n",
    "plt.show()"
   ]
  },
  {
   "cell_type": "markdown",
   "metadata": {},
   "source": [
    "### 2.2. Sacramento"
   ]
  },
  {
   "cell_type": "code",
   "execution_count": 18,
   "metadata": {},
   "outputs": [
    {
     "name": "stdout",
     "output_type": "stream",
     "text": [
      "slope = -1.0725467165090528e-06 Affordability Index / SalePrice\n",
      "intercept = 0.7680755798795135 Affordability Index\n"
     ]
    },
    {
     "data": {
      "image/png": "[encoded data removed]",
      "text/plain": [
       "<Figure size 432x288 with 1 Axes>"
      ]
     },
     "metadata": {
      "needs_background": "light"
     },
     "output_type": "display_data"
    }
   ],
   "source": [
    "_ = plt.plot(sac_df.SalePrice, sac_df.Afford_idx, marker='.', linestyle='none')\n",
    "plt.margins(0.02)\n",
    "_ = plt.xlabel('SalePrice')\n",
    "_ = plt.ylabel('Affordability Index')\n",
    "\n",
    "# Perform a linear regression using np.polyfit(): a, b\n",
    "a, b = np.polyfit(sac_df.SalePrice, sac_df.Afford_idx, 1)\n",
    "\n",
    "# Print the results to the screen\n",
    "print('slope =', a, 'Affordability Index / SalePrice')\n",
    "print('intercept =', b, 'Affordability Index')\n",
    "\n",
    "# Make theoretical line to plot\n",
    "x = np.array([0,360000])\n",
    "y = a * x + b\n",
    "\n",
    "# Add regression line to your plot\n",
    "_ = plt.plot(x, y)\n",
    "\n",
    "# Draw the plot\n",
    "plt.show()"
   ]
  },
  {
   "cell_type": "markdown",
   "metadata": {},
   "source": [
    "### 2.3. L.A.\n",
    "\n",
    "1) Affordability index and Monthly listing both have pearson coefficient at -0.67.  "
   ]
  },
  {
   "cell_type": "code",
   "execution_count": 19,
   "metadata": {},
   "outputs": [
    {
     "name": "stdout",
     "output_type": "stream",
     "text": [
      "slope = -6.719612575602431e-07 Affordability Index / SalePrice\n",
      "intercept = 0.5987596616729687 Affordability Index\n"
     ]
    },
    {
     "data": {
      "image/png": "[encoded data removed]",
      "text/plain": [
       "<Figure size 432x288 with 1 Axes>"
      ]
     },
     "metadata": {
      "needs_background": "light"
     },
     "output_type": "display_data"
    }
   ],
   "source": [
    "_ = plt.plot(la_df.SalePrice, la_df.Afford_idx, marker='.', linestyle='none')\n",
    "plt.margins(0.02)\n",
    "_ = plt.xlabel('SalePrice')\n",
    "_ = plt.ylabel('Affordability Index')\n",
    "\n",
    "# Perform a linear regression using np.polyfit(): a, b\n",
    "a, b = np.polyfit(la_df.SalePrice, la_df.Afford_idx, 1)\n",
    "\n",
    "# Print the results to the screen\n",
    "print('slope =', a, 'Affordability Index / SalePrice')\n",
    "print('intercept =', b, 'Affordability Index')\n",
    "\n",
    "# Make theoretical line to plot\n",
    "x = np.array([0,580000])\n",
    "y = a * x + b\n",
    "\n",
    "# Add regression line to your plot\n",
    "_ = plt.plot(x, y)\n",
    "\n",
    "# Draw the plot\n",
    "plt.show()"
   ]
  },
  {
   "cell_type": "code",
   "execution_count": 20,
   "metadata": {},
   "outputs": [
    {
     "name": "stdout",
     "output_type": "stream",
     "text": [
      "slope = -0.02627382234144917 # of Monthly listing / SalePrice\n",
      "intercept = 30996.13220167387 # of Monthly listing\n"
     ]
    },
    {
     "data": {
      "image/png": "[encoded data removed]",
      "text/plain": [
       "<Figure size 432x288 with 1 Axes>"
      ]
     },
     "metadata": {
      "needs_background": "light"
     },
     "output_type": "display_data"
    }
   ],
   "source": [
    "_ = plt.plot(la_df.SalePrice, la_df.Monthly_List_Zillow, marker='.', linestyle='none')\n",
    "plt.margins(0.02)\n",
    "_ = plt.xlabel('SalePrice')\n",
    "_ = plt.ylabel('Affordability Index')\n",
    "\n",
    "# Perform a linear regression using np.polyfit(): a, b\n",
    "a, b = np.polyfit(la_df.SalePrice, la_df.Monthly_List_Zillow, 1)\n",
    "\n",
    "# Print the results to the screen\n",
    "print('slope =', a, '# of Monthly listing / SalePrice')\n",
    "print('intercept =', b, '# of Monthly listing')\n",
    "\n",
    "# Make theoretical line to plot\n",
    "x = np.array([0,580000])\n",
    "y = a * x + b\n",
    "\n",
    "# Add regression line to your plot\n",
    "_ = plt.plot(x, y)\n",
    "\n",
    "# Draw the plot\n",
    "plt.show()"
   ]
  },
  {
   "cell_type": "markdown",
   "metadata": {},
   "source": [
    "### 3. Dynamic Time Warping — synchrony of signals varying in lengths. \n",
    "#### 3.1. Explore difference in sale price trend between Alameda, Sacramento and L.A.\n",
    "Also explore difference between sale price trend between Alameda and close counties - Santa Clara, Contra Costa, San Mateo and Marin.   \n",
    "\n",
    "Synchrony between Sacramento and L.A. seems to be marginally closer than between Alameda and Sacramento. \n"
   ]
  },
  {
   "cell_type": "code",
   "execution_count": 21,
   "metadata": {},
   "outputs": [
    {
     "name": "stdout",
     "output_type": "stream",
     "text": [
      "Distance between Alameda and Scramento Sales: 20368100.0\n",
      "Distance between Alameda and L.A. Sales: 4291000.0\n",
      "Distance between Scramento and L.A. Sales: 11744700.0\n"
     ]
    }
   ],
   "source": [
    "from scipy.spatial.distance import euclidean\n",
    "from fastdtw import fastdtw\n",
    "\n",
    "alameda_sales = alameda_df.SalePrice.values\n",
    "sac_sales = sac_df.SalePrice.values\n",
    "la_sales = la_df.SalePrice.values\n",
    "\n",
    "distance_a_s, path_a_s = fastdtw(alameda_sales, sac_sales, dist=euclidean)\n",
    "\n",
    "distance_a_l, path_a_l = fastdtw(alameda_sales, la_sales, dist=euclidean)\n",
    "\n",
    "distance_s_l, path_s_l = fastdtw(sac_sales, la_sales, dist=euclidean)\n",
    "\n",
    "print('Distance between Alameda and Scramento Sales: ' + str(distance_a_s))\n",
    "print('Distance between Alameda and L.A. Sales: ' + str(distance_a_l))\n",
    "print('Distance between Scramento and L.A. Sales: ' + str(distance_s_l))"
   ]
  },
  {
   "cell_type": "markdown",
   "metadata": {},
   "source": [
    "## 4. Are there significant differences between subgroups in your data that may be relevant to your project aim?\n",
    "\n",
    "### 4.1. Alameda - Mortgage rate in early 2013 that could affect slow down in sale price growth starting a month later?\n",
    "\n",
    "#### 4.1.1. Look at linear regression between change % of sales price and mortgage rate - any changes when mortgage rate is lagged by 1 month? "
   ]
  },
  {
   "cell_type": "code",
   "execution_count": 22,
   "metadata": {},
   "outputs": [],
   "source": [
    "# Sales change percentage\n",
    "alm_saleprice_change_perc=alameda_df.SalePrice.pct_change()\n",
    "alm_saleprice_change_perc[0] = alm_saleprice_change_perc.mean()    \n",
    "\n",
    "# Rate change percentage\n",
    "alm_rate_change_perc=alameda_df.Rate.pct_change()\n",
    "alm_rate_change_perc[0] = alm_rate_change_perc.mean()    \n",
    "\n",
    "# Rate change percentage lagged by 1 month\n",
    "a = pd.Series([alm_rate_change_perc.mean()])\n",
    "alm_rate_change_perc_delayed = pd.concat([a, alm_rate_change_perc])\n",
    "\n",
    "alm_rate_change_perc_delayed.drop(alm_rate_change_perc_delayed.tail(1).index,inplace=True) # drop last n rows\n"
   ]
  },
  {
   "cell_type": "code",
   "execution_count": 23,
   "metadata": {},
   "outputs": [
    {
     "name": "stdout",
     "output_type": "stream",
     "text": [
      "slope = 0.8063827062265295 SalePrice % change / Mortgage Rate % change \n",
      "intercept = -0.004540489395909135 SalePrice % change\n"
     ]
    },
    {
     "data": {
      "image/png": "[encoded data removed]",
      "text/plain": [
       "<Figure size 432x288 with 1 Axes>"
      ]
     },
     "metadata": {
      "needs_background": "light"
     },
     "output_type": "display_data"
    }
   ],
   "source": [
    "# Linear regression without 1 month lag\n",
    "\n",
    "_ = plt.plot(alm_saleprice_change_perc, alm_rate_change_perc, marker='.', linestyle='none')\n",
    "plt.margins(0.02)\n",
    "_ = plt.xlabel('SalePrice % change')\n",
    "_ = plt.ylabel('Mortgage Rate % change')\n",
    "\n",
    "# Perform a linear regression using np.polyfit(): a, b\n",
    "a, b = np.polyfit(alm_saleprice_change_perc, alm_rate_change_perc, 1)\n",
    "\n",
    "# Print the results to the screen\n",
    "print('slope =', a, 'SalePrice % change / Mortgage Rate % change ')\n",
    "print('intercept =', b, 'SalePrice % change')\n",
    "\n",
    "# Make theoretical line to plot\n",
    "x = np.array([-0.05,0.1])\n",
    "y = a * x + b\n",
    "\n",
    "# Add regression line to your plot\n",
    "_ = plt.plot(x, y)\n",
    "\n",
    "# Draw the plot\n",
    "plt.show()\n"
   ]
  },
  {
   "cell_type": "code",
   "execution_count": 24,
   "metadata": {},
   "outputs": [
    {
     "name": "stdout",
     "output_type": "stream",
     "text": [
      "slope = 1.0088399015741774 SalePrice % change / Mortgage Rate % change with lag \n",
      "intercept = -0.006823660312656747 SalePrice % change\n"
     ]
    },
    {
     "data": {
      "image/png": "[encoded data removed]",
      "text/plain": [
       "<Figure size 432x288 with 1 Axes>"
      ]
     },
     "metadata": {
      "needs_background": "light"
     },
     "output_type": "display_data"
    }
   ],
   "source": [
    "# Linear regression with 1 month lag\n",
    "\n",
    "_ = plt.plot(alm_saleprice_change_perc, alm_rate_change_perc_delayed, marker='.', linestyle='none')\n",
    "plt.margins(0.02)\n",
    "_ = plt.xlabel('SalePrice % change')\n",
    "_ = plt.ylabel('Mortgage Rate % change with 1 month lag')\n",
    "\n",
    "# Perform a linear regression using np.polyfit(): a, b\n",
    "a, b = np.polyfit(alm_saleprice_change_perc, alm_rate_change_perc_delayed, 1)\n",
    "\n",
    "# Print the results to the screen\n",
    "print('slope =', a, 'SalePrice % change / Mortgage Rate % change with lag ')\n",
    "print('intercept =', b, 'SalePrice % change')\n",
    "\n",
    "# Make theoretical line to plot\n",
    "x = np.array([-0.05,0.1])\n",
    "y = a * x + b\n",
    "\n",
    "# Add regression line to your plot\n",
    "_ = plt.plot(x, y)\n",
    "\n",
    "# Draw the plot\n",
    "plt.show()"
   ]
  },
  {
   "cell_type": "markdown",
   "metadata": {},
   "source": [
    "##### 4.1.2. Pearson R coefficient\n",
    "When Mortgage rate is lagged by 1 month, pearson R coefficient is slightly better than when not lagged. \n",
    "Lagging by more than 1 month actually make the R coefficient worse so lagging by 1 month seems to be sweet spot. "
   ]
  },
  {
   "cell_type": "code",
   "execution_count": 25,
   "metadata": {},
   "outputs": [
    {
     "name": "stdout",
     "output_type": "stream",
     "text": [
      "Alameda Sales Price %  change vs Mortgage Rate % change - Scipy computed Pearson r: 0.24567733463108074 and p-value: 0.05633078225932022\n",
      "Alameda Sales Price %  change vs Mortgage Rate % change with 1 month lag- Scipy computed Pearson r: 0.3078905622746326 and p-value: 0.01578229301141286\n"
     ]
    }
   ],
   "source": [
    "\n",
    "alm_r_sp, alm_p_sp = stats.pearsonr(alm_saleprice_change_perc, alm_rate_change_perc)\n",
    "print(f\"Alameda Sales Price %  change vs Mortgage Rate % change - Scipy computed Pearson r: {alm_r_sp} and p-value: {alm_p_sp}\")\n",
    "\n",
    "alm_r_sp_lag, alm_p_sp_lag = stats.pearsonr(alm_saleprice_change_perc, alm_rate_change_perc_delayed)\n",
    "print(f\"Alameda Sales Price %  change vs Mortgage Rate % change with 1 month lag- Scipy computed Pearson r: {alm_r_sp_lag} and p-value: {alm_p_sp_lag}\")\n",
    " "
   ]
  },
  {
   "cell_type": "code",
   "execution_count": 26,
   "metadata": {},
   "outputs": [
    {
     "name": "stdout",
     "output_type": "stream",
     "text": [
      "Alameda Sales Price %  change vs Mortgage Rate % change with 2 month lag- Scipy computed Pearson r: 0.1501798047758495 and p-value: 0.24799128380027452\n"
     ]
    }
   ],
   "source": [
    "# Lag by 2 months instead\n",
    "# Rate change percentage lagged by 2 month\n",
    "a3 = pd.Series([alm_rate_change_perc.mean(),alm_rate_change_perc.mean()])\n",
    "alm_rate_change_perc_delayed_2 = pd.concat([a3, alm_rate_change_perc])\n",
    "\n",
    "alm_rate_change_perc_delayed_2.drop(alm_rate_change_perc_delayed.tail(2).index,inplace=True) # drop last n rows\n",
    "\n",
    "alm_r_sp_lag2, alm_p_sp_lag2 = stats.pearsonr(alm_saleprice_change_perc, alm_rate_change_perc_delayed_2)\n",
    "print(f\"Alameda Sales Price %  change vs Mortgage Rate % change with 2 month lag- Scipy computed Pearson r: {alm_r_sp_lag2} and p-value: {alm_p_sp_lag2}\")\n"
   ]
  },
  {
   "cell_type": "code",
   "execution_count": 27,
   "metadata": {},
   "outputs": [
    {
     "name": "stdout",
     "output_type": "stream",
     "text": [
      "Alameda Sales Price %  change vs Mortgage Rate % change with 3 month lag- Scipy computed Pearson r: 0.12476599869562799 and p-value: 0.3380402782334271\n"
     ]
    }
   ],
   "source": [
    "# Lag by 3 months instead\n",
    "# Rate change percentage lagged by 3 month\n",
    "a3 = pd.Series([alm_rate_change_perc.mean(),alm_rate_change_perc.mean(),alm_rate_change_perc.mean()])\n",
    "alm_rate_change_perc_delayed_3 = pd.concat([a3, alm_rate_change_perc])\n",
    "\n",
    "alm_rate_change_perc_delayed_3.drop(alm_rate_change_perc_delayed.tail(3).index,inplace=True) # drop last n rows\n",
    "\n",
    "alm_r_sp_lag3, alm_p_sp_lag3 = stats.pearsonr(alm_saleprice_change_perc, alm_rate_change_perc_delayed_3)\n",
    "print(f\"Alameda Sales Price %  change vs Mortgage Rate % change with 3 month lag- Scipy computed Pearson r: {alm_r_sp_lag3} and p-value: {alm_p_sp_lag3}\")"
   ]
  },
  {
   "cell_type": "code",
   "execution_count": null,
   "metadata": {},
   "outputs": [],
   "source": []
  }
 ],
 "metadata": {
  "kernelspec": {
   "display_name": "Python 3",
   "language": "python",
   "name": "python3"
  },
  "language_info": {
   "codemirror_mode": {
    "name": "ipython",
    "version": 3
   },
   "file_extension": ".py",
   "mimetype": "text/x-python",
   "name": "python",
   "nbconvert_exporter": "python",
   "pygments_lexer": "ipython3",
   "version": "3.7.3"
  }
 },
 "nbformat": 4,
 "nbformat_minor": 2
}
