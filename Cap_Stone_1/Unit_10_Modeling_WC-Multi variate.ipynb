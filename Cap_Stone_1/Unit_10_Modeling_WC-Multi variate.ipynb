{
 "cells": [
  {
   "cell_type": "code",
   "execution_count": 1,
   "metadata": {},
   "outputs": [],
   "source": [
    "import numpy as np\n",
    "import pandas as pd\n",
    "import seaborn as sns\n",
    "import matplotlib.pyplot as plt\n",
    "from datetime import datetime\n",
    "import statsmodels.api as sm\n",
    "from statsmodels.formula.api import ols"
   ]
  },
  {
   "cell_type": "code",
   "execution_count": 2,
   "metadata": {},
   "outputs": [
    {
     "data": {
      "text/html": [
       "<div>\n",
       "<style scoped>\n",
       "    .dataframe tbody tr th:only-of-type {\n",
       "        vertical-align: middle;\n",
       "    }\n",
       "\n",
       "    .dataframe tbody tr th {\n",
       "        vertical-align: top;\n",
       "    }\n",
       "\n",
       "    .dataframe thead th {\n",
       "        text-align: right;\n",
       "    }\n",
       "</style>\n",
       "<table border=\"1\" class=\"dataframe\">\n",
       "  <thead>\n",
       "    <tr style=\"text-align: right;\">\n",
       "      <th></th>\n",
       "      <th>Unnamed: 0</th>\n",
       "      <th>Date</th>\n",
       "      <th>RegionName</th>\n",
       "      <th>Population</th>\n",
       "      <th>Afford_idx</th>\n",
       "      <th>Property_Crimes</th>\n",
       "      <th>Violent_Crimes</th>\n",
       "      <th>SalePrice</th>\n",
       "      <th>UnemployRate</th>\n",
       "      <th>Rate</th>\n",
       "      <th>Days_On_Zillow</th>\n",
       "      <th>Monthly_List_Zillow</th>\n",
       "    </tr>\n",
       "  </thead>\n",
       "  <tbody>\n",
       "    <tr>\n",
       "      <th>0</th>\n",
       "      <td>0</td>\n",
       "      <td>2013-01-01</td>\n",
       "      <td>Alameda County</td>\n",
       "      <td>1554138</td>\n",
       "      <td>0.32</td>\n",
       "      <td>1018333</td>\n",
       "      <td>151634</td>\n",
       "      <td>429100.0</td>\n",
       "      <td>8.3</td>\n",
       "      <td>3.41</td>\n",
       "      <td>79.0</td>\n",
       "      <td>2326.0</td>\n",
       "    </tr>\n",
       "    <tr>\n",
       "      <th>1</th>\n",
       "      <td>1</td>\n",
       "      <td>2013-02-01</td>\n",
       "      <td>Alameda County</td>\n",
       "      <td>1554138</td>\n",
       "      <td>0.32</td>\n",
       "      <td>1018333</td>\n",
       "      <td>151634</td>\n",
       "      <td>428400.0</td>\n",
       "      <td>7.8</td>\n",
       "      <td>3.53</td>\n",
       "      <td>70.0</td>\n",
       "      <td>2229.0</td>\n",
       "    </tr>\n",
       "    <tr>\n",
       "      <th>2</th>\n",
       "      <td>2</td>\n",
       "      <td>2013-03-01</td>\n",
       "      <td>Alameda County</td>\n",
       "      <td>1554138</td>\n",
       "      <td>0.32</td>\n",
       "      <td>1018333</td>\n",
       "      <td>151634</td>\n",
       "      <td>436100.0</td>\n",
       "      <td>7.5</td>\n",
       "      <td>3.57</td>\n",
       "      <td>51.0</td>\n",
       "      <td>2115.0</td>\n",
       "    </tr>\n",
       "    <tr>\n",
       "      <th>3</th>\n",
       "      <td>3</td>\n",
       "      <td>2013-04-01</td>\n",
       "      <td>Alameda County</td>\n",
       "      <td>1554138</td>\n",
       "      <td>0.25</td>\n",
       "      <td>1018333</td>\n",
       "      <td>151634</td>\n",
       "      <td>441500.0</td>\n",
       "      <td>7.0</td>\n",
       "      <td>3.45</td>\n",
       "      <td>46.5</td>\n",
       "      <td>2105.0</td>\n",
       "    </tr>\n",
       "    <tr>\n",
       "      <th>4</th>\n",
       "      <td>4</td>\n",
       "      <td>2013-05-01</td>\n",
       "      <td>Alameda County</td>\n",
       "      <td>1554138</td>\n",
       "      <td>0.25</td>\n",
       "      <td>1018333</td>\n",
       "      <td>151634</td>\n",
       "      <td>460100.0</td>\n",
       "      <td>7.0</td>\n",
       "      <td>3.54</td>\n",
       "      <td>45.0</td>\n",
       "      <td>2159.0</td>\n",
       "    </tr>\n",
       "  </tbody>\n",
       "</table>\n",
       "</div>"
      ],
      "text/plain": [
       "   Unnamed: 0        Date      RegionName  Population  Afford_idx  \\\n",
       "0           0  2013-01-01  Alameda County     1554138        0.32   \n",
       "1           1  2013-02-01  Alameda County     1554138        0.32   \n",
       "2           2  2013-03-01  Alameda County     1554138        0.32   \n",
       "3           3  2013-04-01  Alameda County     1554138        0.25   \n",
       "4           4  2013-05-01  Alameda County     1554138        0.25   \n",
       "\n",
       "   Property_Crimes  Violent_Crimes  SalePrice  UnemployRate  Rate  \\\n",
       "0          1018333          151634   429100.0           8.3  3.41   \n",
       "1          1018333          151634   428400.0           7.8  3.53   \n",
       "2          1018333          151634   436100.0           7.5  3.57   \n",
       "3          1018333          151634   441500.0           7.0  3.45   \n",
       "4          1018333          151634   460100.0           7.0  3.54   \n",
       "\n",
       "   Days_On_Zillow  Monthly_List_Zillow  \n",
       "0            79.0               2326.0  \n",
       "1            70.0               2229.0  \n",
       "2            51.0               2115.0  \n",
       "3            46.5               2105.0  \n",
       "4            45.0               2159.0  "
      ]
     },
     "execution_count": 2,
     "metadata": {},
     "output_type": "execute_result"
    }
   ],
   "source": [
    "master_df = pd.read_csv(r'master_df.csv',encoding='latin-1') \n",
    "\n",
    "master_df.head()"
   ]
  },
  {
   "cell_type": "markdown",
   "metadata": {},
   "source": [
    "## 1. Set up dataframe"
   ]
  },
  {
   "cell_type": "markdown",
   "metadata": {},
   "source": [
    "### 1.1. Alameda\n",
    "\n",
    "Pearson Correlation coefficient with Sale Price for all variables:\n",
    "Unemployment Rate is -0.96 at strongest negative correlation. Mortgage rate has weakest correlation at -0.11. \n",
    "Only number of monthly listing in Zillow is over -0.5.  "
   ]
  },
  {
   "cell_type": "code",
   "execution_count": 3,
   "metadata": {},
   "outputs": [
    {
     "name": "stdout",
     "output_type": "stream",
     "text": [
      "<class 'pandas.core.frame.DataFrame'>\n",
      "Int64Index: 61 entries, 0 to 60\n",
      "Data columns (total 8 columns):\n",
      "Date                   61 non-null object\n",
      "RegionName             61 non-null object\n",
      "Afford_idx             61 non-null float64\n",
      "SalePrice              61 non-null float64\n",
      "UnemployRate           61 non-null float64\n",
      "Rate                   61 non-null float64\n",
      "Days_On_Zillow         61 non-null float64\n",
      "Monthly_List_Zillow    61 non-null float64\n",
      "dtypes: float64(6), object(2)\n",
      "memory usage: 4.3+ KB\n"
     ]
    }
   ],
   "source": [
    "alameda_df = master_df[master_df.RegionName=='Alameda County'].copy()\n",
    "alameda_df.drop(['Unnamed: 0','Population', 'Property_Crimes', 'Violent_Crimes'], axis=1, inplace=True)\n",
    "alameda_df.info()"
   ]
  },
  {
   "cell_type": "markdown",
   "metadata": {},
   "source": [
    "### 1.2. Sacramento\n",
    "\n",
    "Pearson Correlation coefficient with Sale Price for all variables:\n",
    "Unemployment Rate is -0.95 at strongest negative correlation followed by Affordability indext at -0.89. \n",
    "Mortgage rate has weakest correlation at -0.09. \n",
    "Surprisingly, for this market, number of days on Zillow has correlation of -0.55 and number of monthly listing in Zillow is at 0.16. \n",
    "Just looking at Pearson coffecient, Sacramento market has different characteristics than Alameda. "
   ]
  },
  {
   "cell_type": "code",
   "execution_count": 4,
   "metadata": {},
   "outputs": [
    {
     "name": "stdout",
     "output_type": "stream",
     "text": [
      "<class 'pandas.core.frame.DataFrame'>\n",
      "Int64Index: 61 entries, 61 to 121\n",
      "Data columns (total 8 columns):\n",
      "Date                   61 non-null object\n",
      "RegionName             61 non-null object\n",
      "Afford_idx             61 non-null float64\n",
      "SalePrice              61 non-null float64\n",
      "UnemployRate           61 non-null float64\n",
      "Rate                   61 non-null float64\n",
      "Days_On_Zillow         61 non-null float64\n",
      "Monthly_List_Zillow    61 non-null float64\n",
      "dtypes: float64(6), object(2)\n",
      "memory usage: 4.3+ KB\n"
     ]
    }
   ],
   "source": [
    "sac_df = master_df[master_df.RegionName=='Sacramento County'].copy()\n",
    "sac_df.drop(['Unnamed: 0','Population', 'Property_Crimes', 'Violent_Crimes'], axis=1, inplace=True)\n",
    "sac_df.info()"
   ]
  },
  {
   "cell_type": "markdown",
   "metadata": {},
   "source": [
    "### 1.3. L.A.\n",
    "\n",
    "Pearson Correlation coefficient with Sale Price for all variables:\n",
    "Unemployment Rate is -0.93 at strongest negative correlation followed by Affordability indext and Monthly listing at -0.67. \n",
    "Mortgage rate has weakest correlation at -0.11. \n",
    "L.A. is yet again different from Sacramento and Alameda in that affordability index and number of monthly listing is over -0.5."
   ]
  },
  {
   "cell_type": "code",
   "execution_count": 5,
   "metadata": {},
   "outputs": [
    {
     "name": "stdout",
     "output_type": "stream",
     "text": [
      "<class 'pandas.core.frame.DataFrame'>\n",
      "Int64Index: 61 entries, 122 to 182\n",
      "Data columns (total 8 columns):\n",
      "Date                   61 non-null object\n",
      "RegionName             61 non-null object\n",
      "Afford_idx             61 non-null float64\n",
      "SalePrice              61 non-null float64\n",
      "UnemployRate           61 non-null float64\n",
      "Rate                   61 non-null float64\n",
      "Days_On_Zillow         61 non-null float64\n",
      "Monthly_List_Zillow    61 non-null float64\n",
      "dtypes: float64(6), object(2)\n",
      "memory usage: 4.3+ KB\n"
     ]
    }
   ],
   "source": [
    "la_df = master_df[master_df.RegionName=='Los Angeles County'].copy()\n",
    "la_df.drop(['Unnamed: 0','Population', 'Property_Crimes', 'Violent_Crimes'], axis=1, inplace=True)\n",
    "la_df.info()"
   ]
  },
  {
   "cell_type": "markdown",
   "metadata": {},
   "source": [
    "## 2. Try VAR Vector Auto Regression: https://www.analyticsvidhya.com/blog/2018/09/multivariate-time-series-guide-forecasting-modeling-python-codes/ \n",
    "\n",
    "http://barnesanalytics.com/analyzing-multivariate-time-series-using-arimax-in-python-with-statsmodels\n",
    "\n",
    "https://www.machinelearningplus.com/time-series/arima-model-time-series-forecasting-python/ -> good explanation on how to interpret results."
   ]
  },
  {
   "cell_type": "code",
   "execution_count": 6,
   "metadata": {},
   "outputs": [],
   "source": [
    "from statsmodels.tsa.vector_ar.var_model import VAR\n",
    "from statsmodels.tsa.vector_ar.vecm import coint_johansen\n",
    "import statsmodels.api as sm"
   ]
  },
  {
   "cell_type": "code",
   "execution_count": 7,
   "metadata": {},
   "outputs": [
    {
     "name": "stdout",
     "output_type": "stream",
     "text": [
      "<class 'pandas.core.frame.DataFrame'>\n",
      "DatetimeIndex: 61 entries, 2013-01-01 to 2018-01-01\n",
      "Data columns (total 6 columns):\n",
      "Afford_idx             61 non-null float64\n",
      "SalePrice              61 non-null float64\n",
      "UnemployRate           61 non-null float64\n",
      "Rate                   61 non-null float64\n",
      "Days_On_Zillow         61 non-null float64\n",
      "Monthly_List_Zillow    61 non-null float64\n",
      "dtypes: float64(6)\n",
      "memory usage: 3.3 KB\n"
     ]
    }
   ],
   "source": [
    "alameda_df['Date'] = pd.to_datetime(alameda_df.Date)\n",
    "alameda_data = alameda_df.drop(['Date'], axis=1)\n",
    "alameda_data.index = alameda_df.Date\n",
    "\n",
    "alameda_data.drop(['RegionName'], axis=1, inplace=True)\n",
    "alameda_data.info()"
   ]
  },
  {
   "cell_type": "code",
   "execution_count": 8,
   "metadata": {},
   "outputs": [
    {
     "name": "stderr",
     "output_type": "stream",
     "text": [
      "C:\\Users\\yulmee\\Anaconda3\\lib\\site-packages\\statsmodels\\tsa\\base\\tsa_model.py:165: ValueWarning: No frequency information was provided, so inferred frequency MS will be used.\n",
      "  % freq, ValueWarning)\n",
      "C:\\Users\\yulmee\\Anaconda3\\lib\\site-packages\\statsmodels\\tsa\\base\\tsa_model.py:165: ValueWarning: No frequency information was provided, so inferred frequency MS will be used.\n",
      "  % freq, ValueWarning)\n",
      "C:\\Users\\yulmee\\Anaconda3\\lib\\site-packages\\statsmodels\\tsa\\tsatools.py:695: RuntimeWarning: divide by zero encountered in log\n",
      "  invmacoefs = -np.log((1-macoefs)/(1+macoefs))\n",
      "C:\\Users\\yulmee\\Anaconda3\\lib\\site-packages\\statsmodels\\tools\\numdiff.py:243: RuntimeWarning: invalid value encountered in subtract\n",
      "  **kwargs)).imag/2./hess[i, j]\n",
      "C:\\Users\\yulmee\\Anaconda3\\lib\\site-packages\\statsmodels\\tsa\\tsatools.py:668: RuntimeWarning: invalid value encountered in true_divide\n",
      "  newparams = ((1-np.exp(-params))/(1+np.exp(-params))).copy()\n",
      "C:\\Users\\yulmee\\Anaconda3\\lib\\site-packages\\statsmodels\\tsa\\tsatools.py:669: RuntimeWarning: invalid value encountered in true_divide\n",
      "  tmp = ((1-np.exp(-params))/(1+np.exp(-params))).copy()\n",
      "C:\\Users\\yulmee\\Anaconda3\\lib\\site-packages\\statsmodels\\tsa\\kalmanf\\kalmanfilter.py:225: RuntimeWarning: invalid value encountered in log\n",
      "  Z_mat.astype(complex), R_mat, T_mat)\n",
      "C:\\Users\\yulmee\\Anaconda3\\lib\\site-packages\\statsmodels\\tsa\\kalmanf\\kalmanfilter.py:225: RuntimeWarning: invalid value encountered in true_divide\n",
      "  Z_mat.astype(complex), R_mat, T_mat)\n",
      "C:\\Users\\yulmee\\Anaconda3\\lib\\site-packages\\statsmodels\\tools\\numdiff.py:243: RuntimeWarning: invalid value encountered in multiply\n",
      "  **kwargs)).imag/2./hess[i, j]\n",
      "C:\\Users\\yulmee\\Anaconda3\\lib\\site-packages\\statsmodels\\base\\model.py:492: HessianInversionWarning: Inverting hessian failed, no bse or cov_params available\n",
      "  'available', HessianInversionWarning)\n",
      "C:\\Users\\yulmee\\Anaconda3\\lib\\site-packages\\statsmodels\\base\\model.py:512: ConvergenceWarning: Maximum Likelihood optimization failed to converge. Check mle_retvals\n",
      "  \"Check mle_retvals\", ConvergenceWarning)\n"
     ]
    },
    {
     "name": "stdout",
     "output_type": "stream",
     "text": [
      "                             ARIMA Model Results                              \n",
      "==============================================================================\n",
      "Dep. Variable:            D.SalePrice   No. Observations:                   60\n",
      "Model:                ARIMA(10, 1, 1)   Log Likelihood                -594.395\n",
      "Method:                       css-mle   S.D. of innovations                nan\n",
      "Date:                Wed, 18 Sep 2019   AIC                           1216.791\n",
      "Time:                        20:39:33   BIC                           1246.112\n",
      "Sample:                    02-01-2013   HQIC                          1228.260\n",
      "                         - 01-01-2018                                         \n",
      "======================================================================================\n",
      "                         coef    std err          z      P>|z|      [0.025      0.975]\n",
      "--------------------------------------------------------------------------------------\n",
      "const               4409.9147   2885.171      1.528      0.133   -1244.916    1.01e+04\n",
      "UnemployRate         168.5840    558.251      0.302      0.764    -925.569    1262.737\n",
      "ar.L1.D.SalePrice     -0.5511      0.141     -3.918      0.000      -0.827      -0.275\n",
      "ar.L2.D.SalePrice      0.2992      0.168      1.784      0.081      -0.030       0.628\n",
      "ar.L3.D.SalePrice     -0.2583      0.172     -1.501      0.140      -0.596       0.079\n",
      "ar.L4.D.SalePrice     -0.0755      0.164     -0.459      0.648      -0.398       0.247\n",
      "ar.L5.D.SalePrice      0.1360      0.155      0.875      0.386      -0.169       0.440\n",
      "ar.L6.D.SalePrice     -0.4608      0.155     -2.969      0.005      -0.765      -0.157\n",
      "ar.L7.D.SalePrice     -0.3145      0.175     -1.797      0.079      -0.657       0.028\n",
      "ar.L8.D.SalePrice     -0.0289      0.180     -0.161      0.873      -0.382       0.324\n",
      "ar.L9.D.SalePrice      0.1765      0.181      0.977      0.333      -0.177       0.531\n",
      "ar.L10.D.SalePrice     0.0921      0.150      0.616      0.541      -0.201       0.385\n",
      "ma.L1.D.SalePrice      1.0000      0.264      3.793      0.000       0.483       1.517\n",
      "                                    Roots                                     \n",
      "==============================================================================\n",
      "                   Real          Imaginary           Modulus         Frequency\n",
      "------------------------------------------------------------------------------\n",
      "AR.1             0.1646           -1.0658j            1.0784           -0.2256\n",
      "AR.2             0.1646           +1.0658j            1.0784            0.2256\n",
      "AR.3             0.9076           -0.5984j            1.0871           -0.0928\n",
      "AR.4             0.9076           +0.5984j            1.0871            0.0928\n",
      "AR.5             1.5213           -0.0000j            1.5213           -0.0000\n",
      "AR.6            -0.9968           -0.3074j            1.0431           -0.4524\n",
      "AR.7            -0.9968           +0.3074j            1.0431            0.4524\n",
      "AR.8            -0.8386           -1.3390j            1.5799           -0.3391\n",
      "AR.9            -0.8386           +1.3390j            1.5799            0.3391\n",
      "AR.10           -1.9108           -0.0000j            1.9108           -0.5000\n",
      "MA.1            -1.0000           +0.0000j            1.0000            0.5000\n",
      "------------------------------------------------------------------------------\n"
     ]
    },
    {
     "data": {
      "image/png": "[encoded data removed]",
      "text/plain": [
       "<Figure size 432x288 with 1 Axes>"
      ]
     },
     "metadata": {
      "needs_background": "light"
     },
     "output_type": "display_data"
    },
    {
     "name": "stderr",
     "output_type": "stream",
     "text": [
      "C:\\Users\\yulmee\\Anaconda3\\lib\\site-packages\\statsmodels\\regression\\linear_model.py:1358: RuntimeWarning: invalid value encountered in sqrt\n",
      "  return rho, np.sqrt(sigmasq)\n"
     ]
    },
    {
     "data": {
      "image/png": "[encoded data removed]",
      "text/plain": [
       "<Figure size 864x576 with 2 Axes>"
      ]
     },
     "metadata": {
      "needs_background": "light"
     },
     "output_type": "display_data"
    }
   ],
   "source": [
    "model=sm.tsa.ARIMA(endog=alameda_data['SalePrice'],exog=alameda_data['UnemployRate'],order=(10,1,1))\n",
    "results=model.fit()\n",
    "print(results.summary())\n",
    "\n",
    "results.resid.plot()\n",
    "plt.show()\n",
    "fig = plt.figure(figsize=(12,8))\n",
    "ax1 = fig.add_subplot(211)\n",
    "fig = sm.graphics.tsa.plot_acf(results.resid, lags=40, ax=ax1)\n",
    "ax2 = fig.add_subplot(212)\n",
    "fig = sm.graphics.tsa.plot_pacf(results.resid, lags=40, ax=ax2)\n",
    "plt.show()"
   ]
  },
  {
   "cell_type": "code",
   "execution_count": null,
   "metadata": {},
   "outputs": [],
   "source": []
  },
  {
   "cell_type": "code",
   "execution_count": null,
   "metadata": {},
   "outputs": [],
   "source": []
  },
  {
   "cell_type": "code",
   "execution_count": null,
   "metadata": {},
   "outputs": [],
   "source": []
  },
  {
   "cell_type": "code",
   "execution_count": null,
   "metadata": {},
   "outputs": [],
   "source": []
  }
 ],
 "metadata": {
  "kernelspec": {
   "display_name": "Python 3",
   "language": "python",
   "name": "python3"
  },
  "language_info": {
   "codemirror_mode": {
    "name": "ipython",
    "version": 3
   },
   "file_extension": ".py",
   "mimetype": "text/x-python",
   "name": "python",
   "nbconvert_exporter": "python",
   "pygments_lexer": "ipython3",
   "version": "3.7.3"
  }
 },
 "nbformat": 4,
 "nbformat_minor": 2
}
