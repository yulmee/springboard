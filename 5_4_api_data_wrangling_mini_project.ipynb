{
 "cells": [
  {
   "cell_type": "markdown",
   "metadata": {},
   "source": [
    "This exercise will require you to pull some data from the Qunadl API. Qaundl is currently the most widely used aggregator of financial market data."
   ]
  },
  {
   "cell_type": "markdown",
   "metadata": {},
   "source": [
    "As a first step, you will need to register a free account on the http://www.quandl.com website."
   ]
  },
  {
   "cell_type": "markdown",
   "metadata": {},
   "source": [
    "After you register, you will be provided with a unique API key, that you should store:"
   ]
  },
  {
   "cell_type": "code",
   "execution_count": 1,
   "metadata": {},
   "outputs": [],
   "source": [
    "# Store the API key as a string - according to PEP8, constants are always named in all upper case\n",
    "API_KEY = ''"
   ]
  },
  {
   "cell_type": "markdown",
   "metadata": {},
   "source": [
    "Qaundl has a large number of data sources, but, unfortunately, most of them require a Premium subscription. Still, there are also a good number of free datasets."
   ]
  },
  {
   "cell_type": "markdown",
   "metadata": {},
   "source": [
    "For this mini project, we will focus on equities data from the Frankfurt Stock Exhange (FSE), which is available for free. We'll try and analyze the stock prices of a company called Carl Zeiss Meditec, which manufactures tools for eye examinations, as well as medical lasers for laser eye surgery: https://www.zeiss.com/meditec/int/home.html. The company is listed under the stock ticker AFX_X."
   ]
  },
  {
   "cell_type": "markdown",
   "metadata": {},
   "source": [
    "You can find the detailed Quandl API instructions here: https://docs.quandl.com/docs/time-series"
   ]
  },
  {
   "cell_type": "markdown",
   "metadata": {},
   "source": [
    "While there is a dedicated Python package for connecting to the Quandl API, we would prefer that you use the *requests* package, which can be easily downloaded using *pip* or *conda*. You can find the documentation for the package here: http://docs.python-requests.org/en/master/ "
   ]
  },
  {
   "cell_type": "markdown",
   "metadata": {},
   "source": [
    "Finally, apart from the *requests* package, you are encouraged to not use any third party Python packages, such as *pandas*, and instead focus on what's available in the Python Standard Library (the *collections* module might come in handy: https://pymotw.com/3/collections/ ).\n",
    "Also, since you won't have access to DataFrames, you are encouraged to us Python's native data structures - preferably dictionaries, though some questions can also be answered using lists.\n",
    "You can read more on these data structures here: https://docs.python.org/3/tutorial/datastructures.html"
   ]
  },
  {
   "cell_type": "markdown",
   "metadata": {},
   "source": [
    "Keep in mind that the JSON responses you will be getting from the API map almost one-to-one to Python's dictionaries. Unfortunately, they can be very nested, so make sure you read up on indexing dictionaries in the documentation provided above."
   ]
  },
  {
   "cell_type": "markdown",
   "metadata": {},
   "source": [
    "Note for myself: parameter list = https://docs.quandl.com/docs/parameters-2"
   ]
  },
  {
   "cell_type": "code",
   "execution_count": 2,
   "metadata": {},
   "outputs": [],
   "source": [
    "# First, import the relevant modules\n",
    "import requests\n"
   ]
  },
  {
   "cell_type": "code",
   "execution_count": 5,
   "metadata": {},
   "outputs": [],
   "source": [
    "# Now, call the Quandl API and pull out a small sample of the data (only one day) to get a glimpse\n",
    "# into the JSON structure that will be returned\n",
    "\n",
    "r=requests.get(\"https://www.quandl.com/api/v3/datasets/FSE/AFX_X.json?start_date=2017-01-01&end_date=2017-01-02&collapse=none&transform=none&api_key=\" + API_KEY) \n",
    "r.status_code\n",
    "rjson = r.json()"
   ]
  },
  {
   "cell_type": "code",
   "execution_count": null,
   "metadata": {
    "collapsed": true
   },
   "outputs": [],
   "source": [
    "# Inspect the JSON structure of the object you created, and take note of how nested it is,\n",
    "# as well as the overall structure\n"
   ]
  },
  {
   "cell_type": "markdown",
   "metadata": {},
   "source": [
    "These are your tasks for this mini project:\n",
    "\n",
    "1. Collect data from the Franfurt Stock Exchange, for the ticker AFX_X, for the whole year 2017 (keep in mind that the date format is YYYY-MM-DD).\n",
    "2. Convert the returned JSON object into a Python dictionary."
   ]
  },
  {
   "cell_type": "code",
   "execution_count": 6,
   "metadata": {},
   "outputs": [],
   "source": [
    "\n",
    "r=requests.get(\"https://www.quandl.com/api/v3/datasets/FSE/AFX_X.json?start_date=2017-01-01&end_date=2017-12-31&collapse=none&transform=none&api_key=\" + API_KEY) \n",
    "r.status_code\n",
    "json_dict = r.json()\n",
    "rjson = r.json()\n",
    "\n"
   ]
  },
  {
   "cell_type": "markdown",
   "metadata": {},
   "source": [
    "3. Calculate what the highest and lowest opening prices were for the stock in this period.\n"
   ]
  },
  {
   "cell_type": "code",
   "execution_count": 7,
   "metadata": {},
   "outputs": [
    {
     "name": "stdout",
     "output_type": "stream",
     "text": [
      "Highest Opening Price date: 2017-12-29, price: 51.76\n",
      "Lowest Opening Price date: 2017-01-02, price: 34.99\n"
     ]
    }
   ],
   "source": [
    "json_data = json_dict['dataset']['data']\n",
    "\n",
    "openings_list = [(data[0],data[1]) for data in json_data]\n",
    "#openings_list = [(data[0],data[1]) for data in json_data if data[1] !='None']\n",
    "\n",
    "#json_data_tuple = tuple(openings_list)\n",
    " \n",
    "sorted_json_data =sorted(openings_list, reverse = True)\n",
    "\n",
    "highest = sorted_json_data[0]\n",
    "print('Highest Opening Price ' + 'date: ' + str(highest[0]) + ', price: ' + str(highest[1]))\n",
    "\n",
    "lowest = sorted_json_data[-1]\n",
    "print('Lowest Opening Price ' + 'date: ' + str(lowest[0]) + ', price: ' + str(lowest[1]))"
   ]
  },
  {
   "cell_type": "markdown",
   "metadata": {},
   "source": [
    "4. What was the largest change in any one day (based on High and Low price)?\n"
   ]
  },
  {
   "cell_type": "code",
   "execution_count": 73,
   "metadata": {},
   "outputs": [
    {
     "name": "stdout",
     "output_type": "stream",
     "text": [
      "0.4899999999999949\n",
      "Highest diffence in high and low in a day date: 2017-12-29, price difference: 0.4899999999999949\n"
     ]
    }
   ],
   "source": [
    "# 0 = date, 1 = open, 2 = high, 3= low \n",
    "json_data = json_dict['dataset']['data']\n",
    "\n",
    "difference_list = [(data[0], (data[2]- data[3])) for data in json_data]\n",
    "#difference_list_tuple = tuple(difference_list)\n",
    "\n",
    "sorted_difference_list = sorted(difference_list, reverse = True)\n",
    "\n",
    "highest_difference = sorted_difference_list[0]\n",
    "print(highest_difference[1])\n",
    "print('Highest diffence in high and low in a day ' + 'date: ' + str(highest_difference[0]) + ', price difference: ' + str(highest_difference[1]))\n"
   ]
  },
  {
   "cell_type": "markdown",
   "metadata": {},
   "source": [
    "5. What was the largest change between any two days (based on Closing Price)?\n",
    "\n",
    "[(x, y) for x in [1,2,3] for y in [3,1,4] if x != y]\n"
   ]
  },
  {
   "cell_type": "code",
   "execution_count": 10,
   "metadata": {},
   "outputs": [
    {
     "name": "stdout",
     "output_type": "stream",
     "text": [
      "Largest change between two days is 2.559999999999995\n"
     ]
    }
   ],
   "source": [
    "# 4=close\n",
    "json_data = json_dict['dataset']['data']\n",
    "\n",
    "previous_largest_closing = -1\n",
    "previous_closing = -1\n",
    "\n",
    "for data in json_data:\n",
    "    if previous_closing >=0:\n",
    "        if previous_largest_closing < abs(data[4] - previous_closing):\n",
    "            previous_largest_closing = abs(data[4] - previous_closing)\n",
    "        previous_closing = data[4]\n",
    "    else: \n",
    "        previous_closing = data[4]\n",
    "        \n",
    "print('Largest change between two days is '+ str(previous_largest_closing))\n"
   ]
  },
  {
   "cell_type": "markdown",
   "metadata": {},
   "source": [
    "6. What was the average daily trading volume during this year?\n"
   ]
  },
  {
   "cell_type": "code",
   "execution_count": 115,
   "metadata": {},
   "outputs": [
    {
     "name": "stdout",
     "output_type": "stream",
     "text": [
      "Average of trading volume 89124.33725490196\n"
     ]
    }
   ],
   "source": [
    "tradingvol_list = [data[6] for data in json_data]\n",
    "\n",
    "average = sum(tradingvol_list) / len(tradingvol_list) \n",
    "\n",
    "print ('Average of trading volume ' + str(average))\n"
   ]
  },
  {
   "cell_type": "markdown",
   "metadata": {},
   "source": [
    "7. (Optional) What was the median trading volume during this year. (Note: you may need to implement your own function for calculating the median.)\n",
    "*** Note to TA ****: I re-implemented the code from https://www.science-emergence.com/Articles/How-to-find-the-median-of-a-list-in-python/... I can't take credit for this 100% but wanted to try it out."
   ]
  },
  {
   "cell_type": "code",
   "execution_count": 22,
   "metadata": {},
   "outputs": [
    {
     "name": "stdout",
     "output_type": "stream",
     "text": [
      "Median of trading volume is 76286.0\n"
     ]
    }
   ],
   "source": [
    "tradingvol_list = [data[6] for data in json_data]\n",
    "\n",
    "def calc_median(lst): \n",
    "    lst = sorted(lst)\n",
    "    lst_len = len(lst)\n",
    "    if lst_len < 1:\n",
    "        return None\n",
    "    if lst_len % 2 == 0 :\n",
    "        return ( lst[int((lst_len-1)/2)] + lst[int((lst_len+1)/2)] ) / 2.0\n",
    "    else:\n",
    "        return lst[int((lst_len-1)/2)]\n",
    "\n",
    "print('Median of trading volume is ' + str(calc_median(tradingvol_list)))\n",
    "    "
   ]
  },
  {
   "cell_type": "code",
   "execution_count": null,
   "metadata": {},
   "outputs": [],
   "source": []
  },
  {
   "cell_type": "code",
   "execution_count": null,
   "metadata": {},
   "outputs": [],
   "source": []
  }
 ],
 "metadata": {
  "kernelspec": {
   "display_name": "Python 3",
   "language": "python",
   "name": "python3"
  },
  "language_info": {
   "codemirror_mode": {
    "name": "ipython",
    "version": 3
   },
   "file_extension": ".py",
   "mimetype": "text/x-python",
   "name": "python",
   "nbconvert_exporter": "python",
   "pygments_lexer": "ipython3",
   "version": "3.7.1"
  }
 },
 "nbformat": 4,
 "nbformat_minor": 2
}
